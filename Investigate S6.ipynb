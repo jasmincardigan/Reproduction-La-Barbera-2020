{
 "cells": [
  {
   "cell_type": "code",
   "metadata": {
    "tags": [],
    "cell_id": "00001-9838268c-a800-4945-befd-f345d5e669d0",
    "deepnote_to_be_reexecuted": false,
    "source_hash": "be80449c",
    "execution_start": 1641811635578,
    "execution_millis": 2109,
    "deepnote_cell_type": "code"
   },
   "source": "import pandas as pd\nimport matplotlib.pyplot as plt\nimport seaborn as sns\nimport numpy as np\nimport matplotlib.pyplot as plt\nfrom sklearn.linear_model import LogisticRegression\nfrom sklearn.model_selection import train_test_split\nfrom sklearn.metrics import classification_report, confusion_matrix\n",
   "execution_count": null,
   "outputs": []
  },
  {
   "cell_type": "markdown",
   "source": "{\n    \"gender\" : {\n        \"question\" : \"What is your gender?\",\n        \"1\" : \"Male\",\n        \"2\" : \"Female\",\n        \"3\" : \"Other/No answer\"\n    },\n    \"age\" : {\n        \"question\" : \"What is your age range?\",\n        \"1\" : \"0-18\",\n        \"2\" : \"19-25\",\n        \"3\" : \"26-35\",\n        \"4\" : \"36-50\",\n        \"5\" : \"50-80\",\n        \"6\" : \"80\"\n    },\n    \"school\" : {\n        \"question\" : \"What is the highest level of school you have completed or the highest degree you have received?\",\n        \"1\" : \"High school incomplete or less\",\n        \"2\" : \"High school graduate or GED (includes technical/vocational training that doesn’t count towards college credit)\",\n        \"3\" : \"Some college (some community college, associate’s degree)\",\n        \"4\" : \"Four year college degree/bachelor’s degree\",\n        \"5\" : \"Some postgraduate or professional schooling, no postgraduate degree\",\n        \"6\" : \"Postgraduate or professional degree, including master’s, doctorate, medical or law degree\"\n    },\n    \"income\" : {\n        \"question\" : \"Last year what was your total family income from all sources, before taxes?\",\n        \"1\" : \"Less than $10,000\",\n        \"2\" : \"$10,000 to less than $20,000\",\n        \"3\" : \"$20,000 to less than $30,000\",\n        \"4\" : \"$30,000 to less than $40,000\",\n        \"5\" : \"$40,000 to less than $50,000\",\n        \"6\" : \"$50,000 to less than $75,000\",\n        \"7\" : \"$75,000 to less than $100,000\",\n        \"8\" : \"$100,000 to less than $150,000\",\n        \"9\" : \"$150,000 or more\"\n    },\n    \"party\" : {\n        \"question\" : \"In politics today, do you consider yourself a:\",\n        \"1\" : \"Republican\",\n        \"2\" : \"Democrat\",\n        \"3\" : \"Indipendent\",\n        \"4\" : \"Something else\"\n    },\n    \"party_ln\" : {\n        \"question\" : \"As of today do you lean more to:\",\n        \"1\" : \"The Republican Party\",\n        \"2\" : \"The Democratic Party\"\n    },\n    \"ideo\" : {\n        \"question\" : \"In general, would you describe your political views as:\",\n        \"1\" : \"Very conservative\",\n        \"2\" : \"Conservative\",\n        \"3\" : \"Moderate\",\n        \"4\" : \"Liberal\",\n        \"5\" : \"Very liberal\"\n    },\n    \"elections\" : {\n        \"question\" : \"Have you voted in the 2016 US presidential election?\",\n        \"1\" : \"Yes\",\n        \"2\" : \"No\",\n        \"3\" : \"Rather not answer\"\n    },\n    \"teaparty\" : {\n        \"question\" : \"From what you know, do you agree or disagree with the Tea Party movement, or don't you have an opinion either way?\",\n        \"1\" : \"Agree\",\n        \"2\" : \"Disagree\",\n        \"3\" : \"No opinion either way\"\n    }\n}",
   "metadata": {
    "tags": [],
    "cell_id": "00002-03d3754a-4bfa-40c5-9fd3-e77803db8c9a",
    "deepnote_cell_type": "markdown"
   }
  },
  {
   "cell_type": "code",
   "metadata": {
    "tags": [],
    "cell_id": "00002-3fec5b89-28b4-407b-abd9-4ef92c60209b",
    "deepnote_to_be_reexecuted": false,
    "source_hash": "195a0422",
    "execution_start": 1641811637695,
    "execution_millis": 17,
    "deepnote_cell_type": "code"
   },
   "source": "df = pd.read_csv(\"S6_Data.csv\")\ndf = df.iloc[::8, :]\n",
   "execution_count": null,
   "outputs": []
  },
  {
   "cell_type": "code",
   "metadata": {
    "tags": [],
    "cell_id": "00005-8957a0cf-7dae-4537-93bc-a912671a16ee",
    "deepnote_to_be_reexecuted": false,
    "source_hash": "c085b6ba",
    "execution_start": 1641811637724,
    "execution_millis": 91,
    "deepnote_output_heights": [
     21.199996948242188
    ],
    "deepnote_cell_type": "code"
   },
   "source": "df.head()",
   "execution_count": null,
   "outputs": [
    {
     "output_type": "execute_result",
     "execution_count": 3,
     "data": {
      "application/vnd.deepnote.dataframe.v3+json": {
       "column_count": 18,
       "row_count": 5,
       "columns": [
        {
         "name": "unit_id",
         "dtype": "object",
         "stats": {
          "unique_count": 5,
          "nan_count": 0,
          "categories": [
           {
            "name": "unit_0",
            "count": 1
           },
           {
            "name": "unit_1",
            "count": 1
           },
           {
            "name": "3 others",
            "count": 3
           }
          ]
         }
        },
        {
         "name": "doc_id",
         "dtype": "object",
         "stats": {
          "unique_count": 4,
          "nan_count": 0,
          "categories": [
           {
            "name": "REP_LIE_doc6",
            "count": 2
           },
           {
            "name": "REP_TRUE_doc8",
            "count": 1
           },
           {
            "name": "2 others",
            "count": 2
           }
          ]
         }
        },
        {
         "name": "rel",
         "dtype": "object",
         "stats": {
          "unique_count": 4,
          "nan_count": 0,
          "categories": [
           {
            "name": "LIE",
            "count": 2
           },
           {
            "name": "TRUE",
            "count": 1
           },
           {
            "name": "2 others",
            "count": 2
           }
          ]
         }
        },
        {
         "name": "gender",
         "dtype": "int64",
         "stats": {
          "unique_count": 2,
          "nan_count": 0,
          "min": "1",
          "max": "2",
          "histogram": [
           {
            "bin_start": 1,
            "bin_end": 1.1,
            "count": 3
           },
           {
            "bin_start": 1.1,
            "bin_end": 1.2,
            "count": 0
           },
           {
            "bin_start": 1.2,
            "bin_end": 1.3,
            "count": 0
           },
           {
            "bin_start": 1.3,
            "bin_end": 1.4,
            "count": 0
           },
           {
            "bin_start": 1.4,
            "bin_end": 1.5,
            "count": 0
           },
           {
            "bin_start": 1.5,
            "bin_end": 1.6,
            "count": 0
           },
           {
            "bin_start": 1.6,
            "bin_end": 1.7000000000000002,
            "count": 0
           },
           {
            "bin_start": 1.7000000000000002,
            "bin_end": 1.8,
            "count": 0
           },
           {
            "bin_start": 1.8,
            "bin_end": 1.9,
            "count": 0
           },
           {
            "bin_start": 1.9,
            "bin_end": 2,
            "count": 2
           }
          ]
         }
        },
        {
         "name": "age",
         "dtype": "int64",
         "stats": {
          "unique_count": 2,
          "nan_count": 0,
          "min": "3",
          "max": "4",
          "histogram": [
           {
            "bin_start": 3,
            "bin_end": 3.1,
            "count": 3
           },
           {
            "bin_start": 3.1,
            "bin_end": 3.2,
            "count": 0
           },
           {
            "bin_start": 3.2,
            "bin_end": 3.3,
            "count": 0
           },
           {
            "bin_start": 3.3,
            "bin_end": 3.4,
            "count": 0
           },
           {
            "bin_start": 3.4,
            "bin_end": 3.5,
            "count": 0
           },
           {
            "bin_start": 3.5,
            "bin_end": 3.6,
            "count": 0
           },
           {
            "bin_start": 3.6,
            "bin_end": 3.7,
            "count": 0
           },
           {
            "bin_start": 3.7,
            "bin_end": 3.8,
            "count": 0
           },
           {
            "bin_start": 3.8,
            "bin_end": 3.9,
            "count": 0
           },
           {
            "bin_start": 3.9,
            "bin_end": 4,
            "count": 2
           }
          ]
         }
        },
        {
         "name": "school",
         "dtype": "int64",
         "stats": {
          "unique_count": 4,
          "nan_count": 0,
          "min": "3",
          "max": "6",
          "histogram": [
           {
            "bin_start": 3,
            "bin_end": 3.3,
            "count": 1
           },
           {
            "bin_start": 3.3,
            "bin_end": 3.6,
            "count": 0
           },
           {
            "bin_start": 3.6,
            "bin_end": 3.9,
            "count": 0
           },
           {
            "bin_start": 3.9,
            "bin_end": 4.2,
            "count": 2
           },
           {
            "bin_start": 4.2,
            "bin_end": 4.5,
            "count": 0
           },
           {
            "bin_start": 4.5,
            "bin_end": 4.8,
            "count": 0
           },
           {
            "bin_start": 4.8,
            "bin_end": 5.1,
            "count": 1
           },
           {
            "bin_start": 5.1,
            "bin_end": 5.4,
            "count": 0
           },
           {
            "bin_start": 5.4,
            "bin_end": 5.699999999999999,
            "count": 0
           },
           {
            "bin_start": 5.699999999999999,
            "bin_end": 6,
            "count": 1
           }
          ]
         }
        },
        {
         "name": "income",
         "dtype": "int64",
         "stats": {
          "unique_count": 4,
          "nan_count": 0,
          "min": "3",
          "max": "9",
          "histogram": [
           {
            "bin_start": 3,
            "bin_end": 3.6,
            "count": 1
           },
           {
            "bin_start": 3.6,
            "bin_end": 4.2,
            "count": 0
           },
           {
            "bin_start": 4.2,
            "bin_end": 4.8,
            "count": 0
           },
           {
            "bin_start": 4.8,
            "bin_end": 5.4,
            "count": 0
           },
           {
            "bin_start": 5.4,
            "bin_end": 6,
            "count": 0
           },
           {
            "bin_start": 6,
            "bin_end": 6.6,
            "count": 0
           },
           {
            "bin_start": 6.6,
            "bin_end": 7.2,
            "count": 2
           },
           {
            "bin_start": 7.2,
            "bin_end": 7.8,
            "count": 0
           },
           {
            "bin_start": 7.8,
            "bin_end": 8.399999999999999,
            "count": 1
           },
           {
            "bin_start": 8.399999999999999,
            "bin_end": 9,
            "count": 1
           }
          ]
         }
        },
        {
         "name": "party",
         "dtype": "int64",
         "stats": {
          "unique_count": 4,
          "nan_count": 0,
          "min": "1",
          "max": "4",
          "histogram": [
           {
            "bin_start": 1,
            "bin_end": 1.3,
            "count": 1
           },
           {
            "bin_start": 1.3,
            "bin_end": 1.6,
            "count": 0
           },
           {
            "bin_start": 1.6,
            "bin_end": 1.9,
            "count": 0
           },
           {
            "bin_start": 1.9,
            "bin_end": 2.2,
            "count": 1
           },
           {
            "bin_start": 2.2,
            "bin_end": 2.5,
            "count": 0
           },
           {
            "bin_start": 2.5,
            "bin_end": 2.8,
            "count": 0
           },
           {
            "bin_start": 2.8,
            "bin_end": 3.1,
            "count": 2
           },
           {
            "bin_start": 3.1,
            "bin_end": 3.4,
            "count": 0
           },
           {
            "bin_start": 3.4,
            "bin_end": 3.6999999999999997,
            "count": 0
           },
           {
            "bin_start": 3.6999999999999997,
            "bin_end": 4,
            "count": 1
           }
          ]
         }
        },
        {
         "name": "party_ln",
         "dtype": "int64",
         "stats": {
          "unique_count": 2,
          "nan_count": 0,
          "min": "1",
          "max": "2",
          "histogram": [
           {
            "bin_start": 1,
            "bin_end": 1.1,
            "count": 2
           },
           {
            "bin_start": 1.1,
            "bin_end": 1.2,
            "count": 0
           },
           {
            "bin_start": 1.2,
            "bin_end": 1.3,
            "count": 0
           },
           {
            "bin_start": 1.3,
            "bin_end": 1.4,
            "count": 0
           },
           {
            "bin_start": 1.4,
            "bin_end": 1.5,
            "count": 0
           },
           {
            "bin_start": 1.5,
            "bin_end": 1.6,
            "count": 0
           },
           {
            "bin_start": 1.6,
            "bin_end": 1.7000000000000002,
            "count": 0
           },
           {
            "bin_start": 1.7000000000000002,
            "bin_end": 1.8,
            "count": 0
           },
           {
            "bin_start": 1.8,
            "bin_end": 1.9,
            "count": 0
           },
           {
            "bin_start": 1.9,
            "bin_end": 2,
            "count": 3
           }
          ]
         }
        },
        {
         "name": "ideo",
         "dtype": "int64",
         "stats": {
          "unique_count": 3,
          "nan_count": 0,
          "min": "1",
          "max": "4",
          "histogram": [
           {
            "bin_start": 1,
            "bin_end": 1.3,
            "count": 1
           },
           {
            "bin_start": 1.3,
            "bin_end": 1.6,
            "count": 0
           },
           {
            "bin_start": 1.6,
            "bin_end": 1.9,
            "count": 0
           },
           {
            "bin_start": 1.9,
            "bin_end": 2.2,
            "count": 0
           },
           {
            "bin_start": 2.2,
            "bin_end": 2.5,
            "count": 0
           },
           {
            "bin_start": 2.5,
            "bin_end": 2.8,
            "count": 0
           },
           {
            "bin_start": 2.8,
            "bin_end": 3.1,
            "count": 2
           },
           {
            "bin_start": 3.1,
            "bin_end": 3.4,
            "count": 0
           },
           {
            "bin_start": 3.4,
            "bin_end": 3.6999999999999997,
            "count": 0
           },
           {
            "bin_start": 3.6999999999999997,
            "bin_end": 4,
            "count": 2
           }
          ]
         }
        },
        {
         "name": "elections",
         "dtype": "int64",
         "stats": {
          "unique_count": 1,
          "nan_count": 0,
          "min": "1",
          "max": "1",
          "histogram": [
           {
            "bin_start": 0.5,
            "bin_end": 0.6,
            "count": 0
           },
           {
            "bin_start": 0.6,
            "bin_end": 0.7,
            "count": 0
           },
           {
            "bin_start": 0.7,
            "bin_end": 0.8,
            "count": 0
           },
           {
            "bin_start": 0.8,
            "bin_end": 0.9,
            "count": 0
           },
           {
            "bin_start": 0.9,
            "bin_end": 1,
            "count": 0
           },
           {
            "bin_start": 1,
            "bin_end": 1.1,
            "count": 5
           },
           {
            "bin_start": 1.1,
            "bin_end": 1.2000000000000002,
            "count": 0
           },
           {
            "bin_start": 1.2000000000000002,
            "bin_end": 1.3,
            "count": 0
           },
           {
            "bin_start": 1.3,
            "bin_end": 1.4,
            "count": 0
           },
           {
            "bin_start": 1.4,
            "bin_end": 1.5,
            "count": 0
           }
          ]
         }
        },
        {
         "name": "teaparty",
         "dtype": "int64",
         "stats": {
          "unique_count": 2,
          "nan_count": 0,
          "min": "1",
          "max": "3",
          "histogram": [
           {
            "bin_start": 1,
            "bin_end": 1.2,
            "count": 3
           },
           {
            "bin_start": 1.2,
            "bin_end": 1.4,
            "count": 0
           },
           {
            "bin_start": 1.4,
            "bin_end": 1.6,
            "count": 0
           },
           {
            "bin_start": 1.6,
            "bin_end": 1.8,
            "count": 0
           },
           {
            "bin_start": 1.8,
            "bin_end": 2,
            "count": 0
           },
           {
            "bin_start": 2,
            "bin_end": 2.2,
            "count": 0
           },
           {
            "bin_start": 2.2,
            "bin_end": 2.4000000000000004,
            "count": 0
           },
           {
            "bin_start": 2.4000000000000004,
            "bin_end": 2.6,
            "count": 0
           },
           {
            "bin_start": 2.6,
            "bin_end": 2.8,
            "count": 0
           },
           {
            "bin_start": 2.8,
            "bin_end": 3,
            "count": 2
           }
          ]
         }
        },
        {
         "name": "position_in_task",
         "dtype": "int64",
         "stats": {
          "unique_count": 1,
          "nan_count": 0,
          "min": "1",
          "max": "1",
          "histogram": [
           {
            "bin_start": 0.5,
            "bin_end": 0.6,
            "count": 0
           },
           {
            "bin_start": 0.6,
            "bin_end": 0.7,
            "count": 0
           },
           {
            "bin_start": 0.7,
            "bin_end": 0.8,
            "count": 0
           },
           {
            "bin_start": 0.8,
            "bin_end": 0.9,
            "count": 0
           },
           {
            "bin_start": 0.9,
            "bin_end": 1,
            "count": 0
           },
           {
            "bin_start": 1,
            "bin_end": 1.1,
            "count": 5
           },
           {
            "bin_start": 1.1,
            "bin_end": 1.2000000000000002,
            "count": 0
           },
           {
            "bin_start": 1.2000000000000002,
            "bin_end": 1.3,
            "count": 0
           },
           {
            "bin_start": 1.3,
            "bin_end": 1.4,
            "count": 0
           },
           {
            "bin_start": 1.4,
            "bin_end": 1.5,
            "count": 0
           }
          ]
         }
        },
        {
         "name": "S6_rel",
         "dtype": "int64",
         "stats": {
          "unique_count": 5,
          "nan_count": 0,
          "min": "1",
          "max": "6",
          "histogram": [
           {
            "bin_start": 1,
            "bin_end": 1.5,
            "count": 1
           },
           {
            "bin_start": 1.5,
            "bin_end": 2,
            "count": 0
           },
           {
            "bin_start": 2,
            "bin_end": 2.5,
            "count": 1
           },
           {
            "bin_start": 2.5,
            "bin_end": 3,
            "count": 0
           },
           {
            "bin_start": 3,
            "bin_end": 3.5,
            "count": 1
           },
           {
            "bin_start": 3.5,
            "bin_end": 4,
            "count": 0
           },
           {
            "bin_start": 4,
            "bin_end": 4.5,
            "count": 0
           },
           {
            "bin_start": 4.5,
            "bin_end": 5,
            "count": 0
           },
           {
            "bin_start": 5,
            "bin_end": 5.5,
            "count": 1
           },
           {
            "bin_start": 5.5,
            "bin_end": 6,
            "count": 1
           }
          ]
         }
        },
        {
         "name": "justification",
         "dtype": "object",
         "stats": {
          "unique_count": 5,
          "nan_count": 0,
          "categories": [
           {
            "name": "After implementation of the law, 98% of Massachusetts residents had health coverage",
            "count": 1
           },
           {
            "name": "ITS MOSTLY CRT",
            "count": 1
           },
           {
            "name": "3 others",
            "count": 3
           }
          ]
         }
        },
        {
         "name": "url",
         "dtype": "object",
         "stats": {
          "unique_count": 4,
          "nan_count": 0,
          "categories": [
           {
            "name": "https://en.wikipedia.org/wiki/Massachusetts_health_care_reform",
            "count": 2
           },
           {
            "name": "https://en.wikipedia.org/wiki/Chris_Christie",
            "count": 1
           },
           {
            "name": "2 others",
            "count": 2
           }
          ]
         }
        },
        {
         "name": "off_page_count",
         "dtype": "int64",
         "stats": {
          "unique_count": 1,
          "nan_count": 0,
          "min": "0",
          "max": "0",
          "histogram": [
           {
            "bin_start": -0.5,
            "bin_end": -0.4,
            "count": 0
           },
           {
            "bin_start": -0.4,
            "bin_end": -0.3,
            "count": 0
           },
           {
            "bin_start": -0.3,
            "bin_end": -0.19999999999999996,
            "count": 0
           },
           {
            "bin_start": -0.19999999999999996,
            "bin_end": -0.09999999999999998,
            "count": 0
           },
           {
            "bin_start": -0.09999999999999998,
            "bin_end": 0,
            "count": 0
           },
           {
            "bin_start": 0,
            "bin_end": 0.10000000000000009,
            "count": 5
           },
           {
            "bin_start": 0.10000000000000009,
            "bin_end": 0.20000000000000007,
            "count": 0
           },
           {
            "bin_start": 0.20000000000000007,
            "bin_end": 0.30000000000000004,
            "count": 0
           },
           {
            "bin_start": 0.30000000000000004,
            "bin_end": 0.4,
            "count": 0
           },
           {
            "bin_start": 0.4,
            "bin_end": 0.5,
            "count": 0
           }
          ]
         }
        },
        {
         "name": "time",
         "dtype": "float64",
         "stats": {
          "unique_count": 5,
          "nan_count": 0,
          "min": "32.374",
          "max": "414.396",
          "histogram": [
           {
            "bin_start": 32.374,
            "bin_end": 70.5762,
            "count": 1
           },
           {
            "bin_start": 70.5762,
            "bin_end": 108.7784,
            "count": 2
           },
           {
            "bin_start": 108.7784,
            "bin_end": 146.98059999999998,
            "count": 0
           },
           {
            "bin_start": 146.98059999999998,
            "bin_end": 185.1828,
            "count": 0
           },
           {
            "bin_start": 185.1828,
            "bin_end": 223.385,
            "count": 1
           },
           {
            "bin_start": 223.385,
            "bin_end": 261.5872,
            "count": 0
           },
           {
            "bin_start": 261.5872,
            "bin_end": 299.7894,
            "count": 0
           },
           {
            "bin_start": 299.7894,
            "bin_end": 337.9916,
            "count": 0
           },
           {
            "bin_start": 337.9916,
            "bin_end": 376.1938,
            "count": 0
           },
           {
            "bin_start": 376.1938,
            "bin_end": 414.396,
            "count": 1
           }
          ]
         }
        },
        {
         "name": "_deepnote_index_column",
         "dtype": "int64"
        }
       ],
       "rows": [
        {
         "unit_id": "unit_0",
         "doc_id": "REP_LIE_doc6",
         "rel": "LIE",
         "gender": 2,
         "age": 3,
         "school": 4,
         "income": 3,
         "party": 2,
         "party_ln": 2,
         "ideo": 4,
         "elections": 1,
         "teaparty": 3,
         "position_in_task": 1,
         "S6_rel": 1,
         "justification": "After implementation of the law, 98% of Massachusetts residents had health coverage",
         "url": "https://en.wikipedia.org/wiki/Massachusetts_health_care_reform",
         "off_page_count": 0,
         "time": 105.615,
         "_deepnote_index_column": 0
        },
        {
         "unit_id": "unit_1",
         "doc_id": "REP_TRUE_doc8",
         "rel": "TRUE",
         "gender": 2,
         "age": 3,
         "school": 5,
         "income": 7,
         "party": 3,
         "party_ln": 1,
         "ideo": 4,
         "elections": 1,
         "teaparty": 1,
         "position_in_task": 1,
         "S6_rel": 5,
         "justification": "ITS MOSTLY CRT",
         "url": "https://en.wikipedia.org/wiki/Chris_Christie",
         "off_page_count": 0,
         "time": 414.396,
         "_deepnote_index_column": 8
        },
        {
         "unit_id": "unit_2",
         "doc_id": "DEM_HALFTRUE_doc3",
         "rel": "HALFTRUE",
         "gender": 1,
         "age": 4,
         "school": 4,
         "income": 7,
         "party": 4,
         "party_ln": 2,
         "ideo": 3,
         "elections": 1,
         "teaparty": 3,
         "position_in_task": 1,
         "S6_rel": 6,
         "justification": "A very true statement of Gwen Moore regarding Manila water rates",
         "url": "https://www.politifact.com/global-news/statements/2016/may/12/gwen-moore/arm-world-bank-tied-8-fold…",
         "off_page_count": 0,
         "time": 96.154,
         "_deepnote_index_column": 16
        },
        {
         "unit_id": "unit_3",
         "doc_id": "DEM_BARELYTRUE_doc9",
         "rel": "BARELYTRUE",
         "gender": 1,
         "age": 3,
         "school": 6,
         "income": 9,
         "party": 1,
         "party_ln": 1,
         "ideo": 1,
         "elections": 1,
         "teaparty": 1,
         "position_in_task": 1,
         "S6_rel": 2,
         "justification": "The researchers say they \"don’t know\" if their findings are relevant today. No current national stu…",
         "url": "https://www.politifact.com/virginia/statements/2015/nov/02/terry-mcauliffe/mcauliffe-says-40-percen…",
         "off_page_count": 0,
         "time": 32.374,
         "_deepnote_index_column": 24
        },
        {
         "unit_id": "unit_4",
         "doc_id": "REP_LIE_doc6",
         "rel": "LIE",
         "gender": 1,
         "age": 4,
         "school": 3,
         "income": 8,
         "party": 3,
         "party_ln": 2,
         "ideo": 3,
         "elections": 1,
         "teaparty": 1,
         "position_in_task": 1,
         "S6_rel": 3,
         "justification": "A passage from the provided link states \"The number of uninsured Massachusetts residents dropped fr…",
         "url": "https://en.wikipedia.org/wiki/Massachusetts_health_care_reform",
         "off_page_count": 0,
         "time": 218.792,
         "_deepnote_index_column": 32
        }
       ]
      },
      "text/plain": "   unit_id               doc_id         rel  gender  age  school  income  \\\n0   unit_0         REP_LIE_doc6         LIE       2    3       4       3   \n8   unit_1        REP_TRUE_doc8        TRUE       2    3       5       7   \n16  unit_2    DEM_HALFTRUE_doc3    HALFTRUE       1    4       4       7   \n24  unit_3  DEM_BARELYTRUE_doc9  BARELYTRUE       1    3       6       9   \n32  unit_4         REP_LIE_doc6         LIE       1    4       3       8   \n\n    party  party_ln  ideo  elections  teaparty  position_in_task  S6_rel  \\\n0       2         2     4          1         3                 1       1   \n8       3         1     4          1         1                 1       5   \n16      4         2     3          1         3                 1       6   \n24      1         1     1          1         1                 1       2   \n32      3         2     3          1         1                 1       3   \n\n                                        justification  \\\n0   After implementation of the law, 98% of Massac...   \n8                                      ITS MOSTLY CRT   \n16  A very true statement of Gwen Moore regarding ...   \n24  The researchers say they \"don’t know\" if their...   \n32  A passage from the provided link states \"The n...   \n\n                                                  url  off_page_count     time  \n0   https://en.wikipedia.org/wiki/Massachusetts_he...               0  105.615  \n8        https://en.wikipedia.org/wiki/Chris_Christie               0  414.396  \n16  https://www.politifact.com/global-news/stateme...               0   96.154  \n24  https://www.politifact.com/virginia/statements...               0   32.374  \n32  https://en.wikipedia.org/wiki/Massachusetts_he...               0  218.792  ",
      "text/html": "<div>\n<style scoped>\n    .dataframe tbody tr th:only-of-type {\n        vertical-align: middle;\n    }\n\n    .dataframe tbody tr th {\n        vertical-align: top;\n    }\n\n    .dataframe thead th {\n        text-align: right;\n    }\n</style>\n<table border=\"1\" class=\"dataframe\">\n  <thead>\n    <tr style=\"text-align: right;\">\n      <th></th>\n      <th>unit_id</th>\n      <th>doc_id</th>\n      <th>rel</th>\n      <th>gender</th>\n      <th>age</th>\n      <th>school</th>\n      <th>income</th>\n      <th>party</th>\n      <th>party_ln</th>\n      <th>ideo</th>\n      <th>elections</th>\n      <th>teaparty</th>\n      <th>position_in_task</th>\n      <th>S6_rel</th>\n      <th>justification</th>\n      <th>url</th>\n      <th>off_page_count</th>\n      <th>time</th>\n    </tr>\n  </thead>\n  <tbody>\n    <tr>\n      <th>0</th>\n      <td>unit_0</td>\n      <td>REP_LIE_doc6</td>\n      <td>LIE</td>\n      <td>2</td>\n      <td>3</td>\n      <td>4</td>\n      <td>3</td>\n      <td>2</td>\n      <td>2</td>\n      <td>4</td>\n      <td>1</td>\n      <td>3</td>\n      <td>1</td>\n      <td>1</td>\n      <td>After implementation of the law, 98% of Massac...</td>\n      <td>https://en.wikipedia.org/wiki/Massachusetts_he...</td>\n      <td>0</td>\n      <td>105.615</td>\n    </tr>\n    <tr>\n      <th>8</th>\n      <td>unit_1</td>\n      <td>REP_TRUE_doc8</td>\n      <td>TRUE</td>\n      <td>2</td>\n      <td>3</td>\n      <td>5</td>\n      <td>7</td>\n      <td>3</td>\n      <td>1</td>\n      <td>4</td>\n      <td>1</td>\n      <td>1</td>\n      <td>1</td>\n      <td>5</td>\n      <td>ITS MOSTLY CRT</td>\n      <td>https://en.wikipedia.org/wiki/Chris_Christie</td>\n      <td>0</td>\n      <td>414.396</td>\n    </tr>\n    <tr>\n      <th>16</th>\n      <td>unit_2</td>\n      <td>DEM_HALFTRUE_doc3</td>\n      <td>HALFTRUE</td>\n      <td>1</td>\n      <td>4</td>\n      <td>4</td>\n      <td>7</td>\n      <td>4</td>\n      <td>2</td>\n      <td>3</td>\n      <td>1</td>\n      <td>3</td>\n      <td>1</td>\n      <td>6</td>\n      <td>A very true statement of Gwen Moore regarding ...</td>\n      <td>https://www.politifact.com/global-news/stateme...</td>\n      <td>0</td>\n      <td>96.154</td>\n    </tr>\n    <tr>\n      <th>24</th>\n      <td>unit_3</td>\n      <td>DEM_BARELYTRUE_doc9</td>\n      <td>BARELYTRUE</td>\n      <td>1</td>\n      <td>3</td>\n      <td>6</td>\n      <td>9</td>\n      <td>1</td>\n      <td>1</td>\n      <td>1</td>\n      <td>1</td>\n      <td>1</td>\n      <td>1</td>\n      <td>2</td>\n      <td>The researchers say they \"don’t know\" if their...</td>\n      <td>https://www.politifact.com/virginia/statements...</td>\n      <td>0</td>\n      <td>32.374</td>\n    </tr>\n    <tr>\n      <th>32</th>\n      <td>unit_4</td>\n      <td>REP_LIE_doc6</td>\n      <td>LIE</td>\n      <td>1</td>\n      <td>4</td>\n      <td>3</td>\n      <td>8</td>\n      <td>3</td>\n      <td>2</td>\n      <td>3</td>\n      <td>1</td>\n      <td>1</td>\n      <td>1</td>\n      <td>3</td>\n      <td>A passage from the provided link states \"The n...</td>\n      <td>https://en.wikipedia.org/wiki/Massachusetts_he...</td>\n      <td>0</td>\n      <td>218.792</td>\n    </tr>\n  </tbody>\n</table>\n</div>"
     },
     "metadata": {}
    }
   ]
  },
  {
   "cell_type": "code",
   "metadata": {
    "tags": [],
    "cell_id": "00004-73c9146d-596e-4386-b2d7-32352155b284",
    "deepnote_to_be_reexecuted": false,
    "source_hash": "56b44b3e",
    "execution_start": 1641811637820,
    "execution_millis": 8,
    "deepnote_cell_type": "code"
   },
   "source": "print(len(df))",
   "execution_count": null,
   "outputs": [
    {
     "name": "stdout",
     "text": "200\n",
     "output_type": "stream",
     "data": {}
    }
   ]
  },
  {
   "cell_type": "code",
   "metadata": {
    "tags": [],
    "cell_id": "00004-d308a659-82a2-40cf-a91e-97365de9a0dc",
    "deepnote_to_be_reexecuted": false,
    "source_hash": "58c7419e",
    "execution_start": 1641811637870,
    "execution_millis": 0,
    "deepnote_table_state": {
     "pageSize": 50,
     "pageIndex": 0,
     "filters": [],
     "sortBy": []
    },
    "deepnote_table_loading": false,
    "deepnote_table_invalid": false,
    "deepnote_cell_type": "code"
   },
   "source": "dfcorr = df.copy()\n\ndfcorr.loc[dfcorr.elections == 3, 'elections'] = float('nan')\ndfcorr.loc[dfcorr.teaparty == 3, 'teaparty'] = float('nan')\ndfcorr.loc[dfcorr.gender == -1, 'gender'] = float('nan')\n\ndfcorr['republican'] = 0\ndfcorr['democrat'] = 0\ndfcorr['independent'] = 0\ndfcorr['somethingElse'] = 0\n\n#renaming party\ndfcorr.loc[dfcorr.party == 1, 'republican'] = 1\ndfcorr.loc[dfcorr.party == 2, 'democrat'] = 1\ndfcorr.loc[dfcorr.party == 3, 'independent'] = 1\ndfcorr.loc[dfcorr.party == 4, 'somethingElse'] = 1\n\ndfcorr = dfcorr.drop(columns=['party', 'position_in_task', 'off_page_count'])\n\n#display(dfcorr.head(50))",
   "execution_count": null,
   "outputs": []
  },
  {
   "cell_type": "code",
   "metadata": {
    "tags": [],
    "cell_id": "00004-44caf80e-bb04-431b-81f3-21101809da25",
    "deepnote_to_be_reexecuted": false,
    "source_hash": "bcf7ffe5",
    "execution_start": 1641811637871,
    "execution_millis": 674,
    "deepnote_output_heights": [
     535
    ],
    "deepnote_cell_type": "code"
   },
   "source": "fig, ax = plt.subplots(figsize=(8,8))   \nsns.heatmap(dfcorr.corr(), ax=ax);",
   "execution_count": null,
   "outputs": [
    {
     "data": {
      "text/plain": "<Figure size 576x576 with 2 Axes>",
      "image/png": "[encoded data removed]"
     },
     "metadata": {
      "needs_background": "light",
      "image/png": {
       "width": 527,
       "height": 533
      }
     },
     "output_type": "display_data"
    }
   ]
  },
  {
   "cell_type": "code",
   "metadata": {
    "tags": [],
    "cell_id": "00009-143ef73a-e6c8-450e-9ff6-b3e34d56f4b7",
    "deepnote_to_be_reexecuted": false,
    "source_hash": "9a340beb",
    "execution_start": 1641811638552,
    "execution_millis": 3,
    "deepnote_cell_type": "code"
   },
   "source": "#renaming Gender\ndf.loc[df.gender == 1, 'gender'] = 'Male'\ndf.loc[df.gender == 2, 'gender'] = 'Female'\ndf.loc[df.gender == -1, 'gender'] = 'Other/No Answer'\n\n#renaming party_in\ndf.loc[df.party_ln == 1, 'party_ln'] = 'The Republican Party'\ndf.loc[df.party_ln == 2, 'party_ln'] = 'The Democratic Party'",
   "execution_count": null,
   "outputs": []
  },
  {
   "cell_type": "code",
   "metadata": {
    "tags": [],
    "cell_id": "00007-73fe535a-bd7f-42e2-98d4-f9598c055c10",
    "deepnote_to_be_reexecuted": false,
    "source_hash": "589099fe",
    "execution_start": 1641811638593,
    "execution_millis": 1,
    "deepnote_output_heights": [
     270.79998779296875
    ],
    "deepnote_cell_type": "code"
   },
   "source": "#wie sind wähler bestimmter parteien?\n#mediangehälter und bildungsgrad von Republikaner und Demokraten\n#alter von Demokraten und Republikaner\n#Histogramm Geschlechter Parteizugehörigkeit 4 Felder Matrix\n\nselect_df = df.loc[:, df.columns.intersection(['party_ln','income','gender', 'school'])]\nrep_df = select_df.drop(select_df[select_df.party_ln != 'The Republican Party'].index)\ndem_df = select_df.drop(select_df[select_df.party_ln != 'The Democratic Party'].index)",
   "execution_count": null,
   "outputs": []
  },
  {
   "cell_type": "code",
   "metadata": {
    "tags": [],
    "cell_id": "00010-15994d33-43bc-48ea-bcfc-ed1ba84eb86f",
    "deepnote_to_be_reexecuted": false,
    "source_hash": "b0f98587",
    "execution_start": 1641811638594,
    "execution_millis": 3,
    "deepnote_cell_type": "code"
   },
   "source": "print(rep_df['income'].mean())\nprint(dem_df['income'].mean())",
   "execution_count": null,
   "outputs": [
    {
     "name": "stdout",
     "text": "5.706521739130435\n5.861111111111111\n",
     "output_type": "stream",
     "data": {}
    }
   ]
  },
  {
   "cell_type": "code",
   "metadata": {
    "tags": [],
    "cell_id": "00011-368ba5aa-26fb-4b09-a40a-999a17a203ab",
    "deepnote_to_be_reexecuted": false,
    "source_hash": "ee089282",
    "execution_start": 1641811638595,
    "execution_millis": 2,
    "deepnote_cell_type": "code"
   },
   "source": "print(rep_df['school'].mean())\nprint(dem_df['school'].mean())",
   "execution_count": null,
   "outputs": [
    {
     "name": "stdout",
     "text": "4.173913043478261\n4.305555555555555\n",
     "output_type": "stream",
     "data": {}
    }
   ]
  },
  {
   "cell_type": "code",
   "metadata": {
    "tags": [],
    "cell_id": "00012-9615ef75-3c3d-436c-9737-077aa2653ca0",
    "deepnote_to_be_reexecuted": false,
    "source_hash": "d0c0ab9d",
    "execution_start": 1641811638596,
    "execution_millis": 6,
    "deepnote_cell_type": "code"
   },
   "source": "print(rep_df['gender'].value_counts())\nprint(dem_df['gender'].value_counts())",
   "execution_count": null,
   "outputs": [
    {
     "name": "stdout",
     "text": "Male               61\nFemale             30\nOther/No Answer     1\nName: gender, dtype: int64\nMale               64\nFemale             43\nOther/No Answer     1\nName: gender, dtype: int64\n",
     "output_type": "stream",
     "data": {}
    }
   ]
  },
  {
   "cell_type": "code",
   "metadata": {
    "tags": [],
    "cell_id": "00012-f54abb9a-e3c0-4ca5-a042-9fdc621f22bc",
    "deepnote_to_be_reexecuted": false,
    "source_hash": "271e20d0",
    "execution_start": 1641811638604,
    "execution_millis": 1083,
    "deepnote_output_heights": [
     266,
     266
    ],
    "deepnote_cell_type": "code"
   },
   "source": "hist = rep_df.hist(bins = 48)\nhist = dem_df.hist(bins = 48)",
   "execution_count": null,
   "outputs": [
    {
     "data": {
      "text/plain": "<Figure size 432x288 with 2 Axes>",
      "image/png": "[encoded data removed]"
     },
     "metadata": {
      "needs_background": "light",
      "image/png": {
       "width": 368,
       "height": 264
      }
     },
     "output_type": "display_data"
    },
    {
     "data": {
      "text/plain": "<Figure size 432x288 with 2 Axes>",
      "image/png": "[encoded data removed]"
     },
     "metadata": {
      "needs_background": "light",
      "image/png": {
       "width": 368,
       "height": 264
      }
     },
     "output_type": "display_data"
    }
   ]
  },
  {
   "cell_type": "code",
   "metadata": {
    "tags": [],
    "cell_id": "00013-0205d3aa-9fb4-4c3f-b5d4-a694d7d72153",
    "deepnote_to_be_reexecuted": false,
    "source_hash": "d63feab1",
    "execution_start": 1641811639692,
    "execution_millis": 176,
    "deepnote_output_heights": [
     21.199996948242188,
     325
    ],
    "deepnote_cell_type": "code"
   },
   "source": "rep_df.gender.value_counts().sort_values().plot(kind = 'bar')",
   "execution_count": null,
   "outputs": [
    {
     "output_type": "execute_result",
     "execution_count": 13,
     "data": {
      "text/plain": "<AxesSubplot:>"
     },
     "metadata": {}
    },
    {
     "data": {
      "text/plain": "<Figure size 432x288 with 1 Axes>",
      "image/png": "[encoded data removed]"
     },
     "metadata": {
      "needs_background": "light",
      "image/png": {
       "width": 368,
       "height": 323
      }
     },
     "output_type": "display_data"
    }
   ]
  },
  {
   "cell_type": "code",
   "metadata": {
    "tags": [],
    "cell_id": "00014-6752cfa0-70d5-4164-b66e-d4eae9c7a2ab",
    "deepnote_to_be_reexecuted": false,
    "source_hash": "fb9a8dd8",
    "execution_start": 1641811639925,
    "execution_millis": 174,
    "deepnote_output_heights": [
     21.199996948242188,
     325
    ],
    "deepnote_cell_type": "code"
   },
   "source": "dem_df.gender.value_counts().sort_values().plot(kind = 'bar')",
   "execution_count": null,
   "outputs": [
    {
     "output_type": "execute_result",
     "execution_count": 14,
     "data": {
      "text/plain": "<AxesSubplot:>"
     },
     "metadata": {}
    },
    {
     "data": {
      "text/plain": "<Figure size 432x288 with 1 Axes>",
      "image/png": "[encoded data removed]"
     },
     "metadata": {
      "needs_background": "light",
      "image/png": {
       "width": 368,
       "height": 323
      }
     },
     "output_type": "display_data"
    }
   ]
  },
  {
   "cell_type": "code",
   "metadata": {
    "tags": [],
    "cell_id": "00015-05dd5020-b986-4528-b221-b0d2ad5821f7",
    "deepnote_to_be_reexecuted": false,
    "source_hash": "51966b80",
    "execution_start": 1641811640098,
    "execution_millis": 237,
    "deepnote_output_heights": [
     21.199996948242188,
     325
    ],
    "deepnote_cell_type": "code"
   },
   "source": "df.gender.value_counts().sort_values().plot(kind = 'bar')",
   "execution_count": null,
   "outputs": [
    {
     "output_type": "execute_result",
     "execution_count": 15,
     "data": {
      "text/plain": "<AxesSubplot:>"
     },
     "metadata": {}
    },
    {
     "data": {
      "text/plain": "<Figure size 432x288 with 1 Axes>",
      "image/png": "[encoded data removed]"
     },
     "metadata": {
      "needs_background": "light",
      "image/png": {
       "width": 375,
       "height": 323
      }
     },
     "output_type": "display_data"
    }
   ]
  },
  {
   "cell_type": "code",
   "metadata": {
    "tags": [],
    "cell_id": "00016-772a5023-d4b8-4aca-a1ee-c4c4dc530d54",
    "deepnote_to_be_reexecuted": false,
    "source_hash": "4057e97d",
    "execution_start": 1641811640394,
    "execution_millis": 0,
    "deepnote_cell_type": "code"
   },
   "source": "#onehotencode gender\nselect_df.loc[select_df.gender == 'Female', 'gender'] = 1\nselect_df.loc[select_df.gender == 'Male', 'gender'] = 0\nselect_df.loc[select_df.gender == 'Other/No Answer', 'gender'] = float(\"nan\")\n\n#onehotencode target variable\nselect_df.loc[select_df.party_ln == 'The Democratic Party', 'party_ln'] = 1\nselect_df.loc[select_df.party_ln == 'The Republican Party', 'party_ln'] = 0\n\nselect_df = select_df.dropna()",
   "execution_count": null,
   "outputs": []
  },
  {
   "cell_type": "code",
   "metadata": {
    "tags": [],
    "cell_id": "00015-de89d1bf-d118-4ab3-8b96-e988443f1857",
    "deepnote_to_be_reexecuted": false,
    "source_hash": "fcc34fc4",
    "execution_start": 1641811640395,
    "execution_millis": 0,
    "deepnote_output_heights": [
     611
    ],
    "deepnote_cell_type": "code"
   },
   "source": "X = select_df.drop(columns=['party_ln'])\ny = select_df['party_ln']\ny = y.astype('int') ",
   "execution_count": null,
   "outputs": []
  },
  {
   "cell_type": "code",
   "metadata": {
    "tags": [],
    "cell_id": "00018-d405df7f-5908-4933-bf74-c4b90b5183e0",
    "deepnote_to_be_reexecuted": false,
    "source_hash": "c26c694f",
    "execution_start": 1641811640396,
    "execution_millis": 2,
    "deepnote_output_heights": [
     40.399993896484375
    ],
    "deepnote_cell_type": "code"
   },
   "source": "model = LogisticRegression(solver='liblinear', random_state=10).fit(X, y)\nmodel.predict_proba(X)\nmodel.predict(X)\nmodel.score(X, y)\nconfusion_matrix(y, model.predict(X))",
   "execution_count": null,
   "outputs": [
    {
     "output_type": "execute_result",
     "execution_count": 18,
     "data": {
      "text/plain": "array([[21, 70],\n       [15, 92]])"
     },
     "metadata": {}
    }
   ]
  },
  {
   "cell_type": "code",
   "metadata": {
    "tags": [],
    "cell_id": "00019-dddd3495-2c7c-4e2e-919a-112b5e31943f",
    "deepnote_to_be_reexecuted": false,
    "source_hash": "876b4632",
    "execution_start": 1641811640441,
    "execution_millis": 159,
    "deepnote_output_heights": [
     468
    ],
    "deepnote_cell_type": "code"
   },
   "source": "cm = confusion_matrix(y, model.predict(X))\n\nfig, ax = plt.subplots(figsize=(8, 8))\nax.imshow(cm)\nax.grid(False)\nax.xaxis.set(ticks=(0, 1), ticklabels=('Predicted 0s', 'Predicted 1s'))\nax.yaxis.set(ticks=(0, 1), ticklabels=('Actual 0s', 'Actual 1s'))\nax.set_ylim(1.5, -0.5)\nfor i in range(2):\n    for j in range(2):\n        ax.text(j, i, cm[i, j], ha='center', va='center', color='red')\nplt.show()\n",
   "execution_count": null,
   "outputs": [
    {
     "data": {
      "text/plain": "<Figure size 576x576 with 1 Axes>",
      "image/png": "[encoded data removed]"
     },
     "metadata": {
      "needs_background": "light",
      "image/png": {
       "width": 502,
       "height": 466
      }
     },
     "output_type": "display_data"
    }
   ]
  },
  {
   "cell_type": "code",
   "metadata": {
    "tags": [],
    "cell_id": "00020-1253a5e4-dd38-4a3f-b86f-ba6919f2c0d7",
    "deepnote_to_be_reexecuted": false,
    "source_hash": "befa2478",
    "execution_start": 1641811640649,
    "execution_millis": 2,
    "deepnote_cell_type": "code"
   },
   "source": "print(classification_report(y, model.predict(X)))",
   "execution_count": null,
   "outputs": [
    {
     "name": "stdout",
     "text": "              precision    recall  f1-score   support\n\n           0       0.58      0.23      0.33        91\n           1       0.57      0.86      0.68       107\n\n    accuracy                           0.57       198\n   macro avg       0.58      0.55      0.51       198\nweighted avg       0.57      0.57      0.52       198\n\n",
     "output_type": "stream",
     "data": {}
    }
   ]
  },
  {
   "cell_type": "code",
   "metadata": {
    "tags": [],
    "cell_id": "00003-2c162441-4dee-49dd-8d2b-b530907598d2",
    "deepnote_to_be_reexecuted": false,
    "source_hash": "7497b720",
    "execution_start": 1641811640716,
    "execution_millis": 149,
    "deepnote_table_state": {
     "pageSize": 10,
     "pageIndex": 3,
     "filters": [],
     "sortBy": []
    },
    "deepnote_table_loading": false,
    "deepnote_table_invalid": false,
    "deepnote_cell_type": "code"
   },
   "source": "#renaming Age\ndf.loc[df.age == 1, 'age'] = '0-18'\ndf.loc[df.age == 2, 'age'] = '19-25'\ndf.loc[df.age == 3, 'age'] = '26-35'\ndf.loc[df.age == 4, 'age'] = '36-50'\ndf.loc[df.age == 5, 'age'] = '50-80'\ndf.loc[df.age == 6, 'age'] = '80'\n\n#renaming school\ndf.loc[df.school == 1, 'school'] = 'High school incomplete or less'\ndf.loc[df.school == 2, 'school'] = 'High school graduate or GED (includes technical/vocational training that doesn’t count towards college credit)'\ndf.loc[df.school == 3, 'school'] = 'Some college (some community college, associate’s degree)'\ndf.loc[df.school == 4, 'school'] = 'Four year college degree/bachelor’s degree'\ndf.loc[df.school == 5, 'school'] = 'Some postgraduate or professional schooling, no postgraduate degree'\ndf.loc[df.school == 6, 'school'] = 'Postgraduate or professional degree, including master’s, doctorate, medical or law degree'\n\n#renaming income\ndf.loc[df.income == 1, 'income'] = 'Less than $10,000'\ndf.loc[df.income == 2, 'income'] = '$10,000 to less than $20,000'\ndf.loc[df.income == 3, 'income'] = '$20,000 to less than $30,000'\ndf.loc[df.income == 4, 'income'] = '$30,000 to less than $40,000'\ndf.loc[df.income == 5, 'income'] = '$40,000 to less than $50,000'\ndf.loc[df.income == 6, 'income'] = '$50,000 to less than $75,000'\ndf.loc[df.income == 7, 'income'] = '$75,000 to less than $100,000'\ndf.loc[df.income == 8, 'income'] = '$100,000 to less than $150,000'\ndf.loc[df.income == 9, 'income'] = '$150,000 or more'\n\n#renaming party\ndf.loc[df.party == 1, 'party'] = 'Republican'\ndf.loc[df.party == 2, 'party'] = 'Democrat'\ndf.loc[df.party == 3, 'party'] = 'Indipendent'\ndf.loc[df.party == 4, 'party'] = 'Something else'\n\n#renaming ideo\ndf.loc[df.ideo == 1, 'ideo'] = 'Very conservative'\ndf.loc[df.ideo == 2, 'ideo'] = 'Conservative'\ndf.loc[df.ideo == 3, 'ideo'] = 'Moderate'\ndf.loc[df.ideo == 4, 'ideo'] = 'Liberal'\ndf.loc[df.ideo == 5, 'ideo'] = 'Very Liberal'\n\n#renaming elections\ndf.loc[df.elections == 1, 'elections'] = 'Yes'\ndf.loc[df.elections == 1, 'elections'] = 'No'\ndf.loc[df.elections == 1, 'elections'] = 'Rather not answer'\n\n#renaming teaparty\ndf.loc[df.teaparty == 1, 'teaparty'] = 'Agree'\ndf.loc[df.teaparty == 2, 'teaparty'] = 'Disagree'\ndf.loc[df.teaparty == 3, 'teaparty'] = 'No opinion either way'\n\n\n\ndisplay(df)",
   "execution_count": null,
   "outputs": [
    {
     "data": {
      "application/vnd.deepnote.dataframe.v3+json": {
       "column_count": 18,
       "row_count": 200,
       "columns": [
        {
         "name": "unit_id",
         "dtype": "object",
         "stats": {
          "unique_count": 200,
          "nan_count": 0,
          "categories": [
           {
            "name": "unit_0",
            "count": 1
           },
           {
            "name": "unit_1",
            "count": 1
           },
           {
            "name": "198 others",
            "count": 198
           }
          ]
         }
        },
        {
         "name": "doc_id",
         "dtype": "object",
         "stats": {
          "unique_count": 94,
          "nan_count": 0,
          "categories": [
           {
            "name": "LOW",
            "count": 29
           },
           {
            "name": "HIGH",
            "count": 18
           },
           {
            "name": "92 others",
            "count": 153
           }
          ]
         }
        },
        {
         "name": "rel",
         "dtype": "object",
         "stats": {
          "unique_count": 8,
          "nan_count": 0,
          "categories": [
           {
            "name": "HALFTRUE",
            "count": 33
           },
           {
            "name": "LIE",
            "count": 29
           },
           {
            "name": "6 others",
            "count": 138
           }
          ]
         }
        },
        {
         "name": "gender",
         "dtype": "object",
         "stats": {
          "unique_count": 3,
          "nan_count": 0,
          "categories": [
           {
            "name": "Male",
            "count": 125
           },
           {
            "name": "Female",
            "count": 73
           },
           {
            "name": "Other/No Answer",
            "count": 2
           }
          ]
         }
        },
        {
         "name": "age",
         "dtype": "object",
         "stats": {
          "unique_count": 4,
          "nan_count": 0,
          "categories": [
           {
            "name": "26-35",
            "count": 92
           },
           {
            "name": "36-50",
            "count": 55
           },
           {
            "name": "2 others",
            "count": 53
           }
          ]
         }
        },
        {
         "name": "school",
         "dtype": "object",
         "stats": {
          "unique_count": 6,
          "nan_count": 0,
          "categories": [
           {
            "name": "Four year college degree/bachelor’s degree",
            "count": 94
           },
           {
            "name": "Postgraduate or professional degree, including master’s, doctorate, medical or law degree",
            "count": 42
           },
           {
            "name": "4 others",
            "count": 64
           }
          ]
         }
        },
        {
         "name": "income",
         "dtype": "object",
         "stats": {
          "unique_count": 9,
          "nan_count": 0,
          "categories": [
           {
            "name": "$50,000 to less than $75,000",
            "count": 48
           },
           {
            "name": "$75,000 to less than $100,000",
            "count": 28
           },
           {
            "name": "7 others",
            "count": 124
           }
          ]
         }
        },
        {
         "name": "party",
         "dtype": "object",
         "stats": {
          "unique_count": 4,
          "nan_count": 0,
          "categories": [
           {
            "name": "Democrat",
            "count": 81
           },
           {
            "name": "Republican",
            "count": 55
           },
           {
            "name": "2 others",
            "count": 64
           }
          ]
         }
        },
        {
         "name": "party_ln",
         "dtype": "object",
         "stats": {
          "unique_count": 2,
          "nan_count": 0,
          "categories": [
           {
            "name": "The Democratic Party",
            "count": 108
           },
           {
            "name": "The Republican Party",
            "count": 92
           }
          ]
         }
        },
        {
         "name": "ideo",
         "dtype": "object",
         "stats": {
          "unique_count": 5,
          "nan_count": 0,
          "categories": [
           {
            "name": "Moderate",
            "count": 62
           },
           {
            "name": "Liberal",
            "count": 59
           },
           {
            "name": "3 others",
            "count": 79
           }
          ]
         }
        },
        {
         "name": "elections",
         "dtype": "object",
         "stats": {
          "unique_count": 3,
          "nan_count": 0,
          "categories": [
           {
            "name": "Yes",
            "count": 171
           },
           {
            "name": "2",
            "count": 21
           },
           {
            "name": "3",
            "count": 8
           }
          ]
         }
        },
        {
         "name": "teaparty",
         "dtype": "object",
         "stats": {
          "unique_count": 4,
          "nan_count": 0,
          "categories": [
           {
            "name": "Disagree",
            "count": 89
           },
           {
            "name": "Agree",
            "count": 56
           },
           {
            "name": "2 others",
            "count": 55
           }
          ]
         }
        },
        {
         "name": "position_in_task",
         "dtype": "int64",
         "stats": {
          "unique_count": 1,
          "nan_count": 0,
          "min": "1",
          "max": "1",
          "histogram": [
           {
            "bin_start": 0.5,
            "bin_end": 0.6,
            "count": 0
           },
           {
            "bin_start": 0.6,
            "bin_end": 0.7,
            "count": 0
           },
           {
            "bin_start": 0.7,
            "bin_end": 0.8,
            "count": 0
           },
           {
            "bin_start": 0.8,
            "bin_end": 0.9,
            "count": 0
           },
           {
            "bin_start": 0.9,
            "bin_end": 1,
            "count": 0
           },
           {
            "bin_start": 1,
            "bin_end": 1.1,
            "count": 200
           },
           {
            "bin_start": 1.1,
            "bin_end": 1.2000000000000002,
            "count": 0
           },
           {
            "bin_start": 1.2000000000000002,
            "bin_end": 1.3,
            "count": 0
           },
           {
            "bin_start": 1.3,
            "bin_end": 1.4,
            "count": 0
           },
           {
            "bin_start": 1.4,
            "bin_end": 1.5,
            "count": 0
           }
          ]
         }
        },
        {
         "name": "S6_rel",
         "dtype": "int64",
         "stats": {
          "unique_count": 6,
          "nan_count": 0,
          "min": "1",
          "max": "6",
          "histogram": [
           {
            "bin_start": 1,
            "bin_end": 1.5,
            "count": 37
           },
           {
            "bin_start": 1.5,
            "bin_end": 2,
            "count": 0
           },
           {
            "bin_start": 2,
            "bin_end": 2.5,
            "count": 28
           },
           {
            "bin_start": 2.5,
            "bin_end": 3,
            "count": 0
           },
           {
            "bin_start": 3,
            "bin_end": 3.5,
            "count": 16
           },
           {
            "bin_start": 3.5,
            "bin_end": 4,
            "count": 0
           },
           {
            "bin_start": 4,
            "bin_end": 4.5,
            "count": 33
           },
           {
            "bin_start": 4.5,
            "bin_end": 5,
            "count": 0
           },
           {
            "bin_start": 5,
            "bin_end": 5.5,
            "count": 33
           },
           {
            "bin_start": 5.5,
            "bin_end": 6,
            "count": 53
           }
          ]
         }
        },
        {
         "name": "justification",
         "dtype": "object",
         "stats": {
          "unique_count": 199,
          "nan_count": 0,
          "categories": [
           {
            "name": "That’s a serious accusation. And though Letson hedges with words such as \"as if\" and \"implying,\" that doesn’t excuse the gravity of his claim. We don’t think anyone could reasonably come away from Kasich’s email with the impression he implied what Letson says he did.\r\r\n\r\r\n\r\r\nPolitiFact Ohio has a rating for such absurd statements: Pants on Fire!",
            "count": 2
           },
           {
            "name": "After implementation of the law, 98% of Massachusetts residents had health coverage",
            "count": 1
           },
           {
            "name": "197 others",
            "count": 197
           }
          ]
         }
        },
        {
         "name": "url",
         "dtype": "object",
         "stats": {
          "unique_count": 153,
          "nan_count": 0,
          "categories": [
           {
            "name": "https://en.wikipedia.org/wiki/Abraham_Lincoln",
            "count": 11
           },
           {
            "name": "https://en.wikipedia.org/wiki/Formula_One",
            "count": 5
           },
           {
            "name": "151 others",
            "count": 184
           }
          ]
         }
        },
        {
         "name": "off_page_count",
         "dtype": "int64",
         "stats": {
          "unique_count": 1,
          "nan_count": 0,
          "min": "0",
          "max": "0",
          "histogram": [
           {
            "bin_start": -0.5,
            "bin_end": -0.4,
            "count": 0
           },
           {
            "bin_start": -0.4,
            "bin_end": -0.3,
            "count": 0
           },
           {
            "bin_start": -0.3,
            "bin_end": -0.19999999999999996,
            "count": 0
           },
           {
            "bin_start": -0.19999999999999996,
            "bin_end": -0.09999999999999998,
            "count": 0
           },
           {
            "bin_start": -0.09999999999999998,
            "bin_end": 0,
            "count": 0
           },
           {
            "bin_start": 0,
            "bin_end": 0.10000000000000009,
            "count": 200
           },
           {
            "bin_start": 0.10000000000000009,
            "bin_end": 0.20000000000000007,
            "count": 0
           },
           {
            "bin_start": 0.20000000000000007,
            "bin_end": 0.30000000000000004,
            "count": 0
           },
           {
            "bin_start": 0.30000000000000004,
            "bin_end": 0.4,
            "count": 0
           },
           {
            "bin_start": 0.4,
            "bin_end": 0.5,
            "count": 0
           }
          ]
         }
        },
        {
         "name": "time",
         "dtype": "float64",
         "stats": {
          "unique_count": 200,
          "nan_count": 0,
          "min": "11.15",
          "max": "1149.703",
          "histogram": [
           {
            "bin_start": 11.15,
            "bin_end": 125.00529999999999,
            "count": 86
           },
           {
            "bin_start": 125.00529999999999,
            "bin_end": 238.86059999999998,
            "count": 66
           },
           {
            "bin_start": 238.86059999999998,
            "bin_end": 352.7158999999999,
            "count": 18
           },
           {
            "bin_start": 352.7158999999999,
            "bin_end": 466.5711999999999,
            "count": 17
           },
           {
            "bin_start": 466.5711999999999,
            "bin_end": 580.4264999999999,
            "count": 2
           },
           {
            "bin_start": 580.4264999999999,
            "bin_end": 694.2817999999999,
            "count": 4
           },
           {
            "bin_start": 694.2817999999999,
            "bin_end": 808.1370999999999,
            "count": 5
           },
           {
            "bin_start": 808.1370999999999,
            "bin_end": 921.9923999999999,
            "count": 0
           },
           {
            "bin_start": 921.9923999999999,
            "bin_end": 1035.8477,
            "count": 0
           },
           {
            "bin_start": 1035.8477,
            "bin_end": 1149.703,
            "count": 2
           }
          ]
         }
        },
        {
         "name": "_deepnote_index_column",
         "dtype": "int64"
        }
       ],
       "rows": [
        {
         "unit_id": "unit_30",
         "doc_id": "DEM_HALFTRUE_doc8",
         "rel": "HALFTRUE",
         "gender": "Male",
         "age": "26-35",
         "school": "Some college (some community college, associate’s degree)",
         "income": "$30,000 to less than $40,000",
         "party": "Indipendent",
         "party_ln": "The Democratic Party",
         "ideo": "Moderate",
         "elections": "Yes",
         "teaparty": "Disagree",
         "position_in_task": 1,
         "S6_rel": 4,
         "justification": "I based my rating on the politifact scale from the website.",
         "url": "https://www.politifact.com/rhode-island/statements/2013/jun/02/frank-caprio/ri-treasurer-candidate-…",
         "off_page_count": 0,
         "time": 288.593,
         "_deepnote_index_column": 240
        },
        {
         "unit_id": "unit_31",
         "doc_id": "DEM_LIE_doc2",
         "rel": "LIE",
         "gender": "Female",
         "age": "26-35",
         "school": "Postgraduate or professional degree, including master’s, doctorate, medical or law degree",
         "income": "$40,000 to less than $50,000",
         "party": "Indipendent",
         "party_ln": "The Republican Party",
         "ideo": "Conservative",
         "elections": "Yes",
         "teaparty": "Disagree",
         "position_in_task": 1,
         "S6_rel": 1,
         "justification": "Actually, it looks more like it's the other way around. ",
         "url": "https://www.realclearpolitics.com/video/2019/07/09/giuliani_joe_biden_is_not_a_racist_but_hes_not_t…",
         "off_page_count": 0,
         "time": 107.354,
         "_deepnote_index_column": 248
        },
        {
         "unit_id": "unit_32",
         "doc_id": "REP_TRUE_doc6",
         "rel": "TRUE",
         "gender": "Female",
         "age": "36-50",
         "school": "Some college (some community college, associate’s degree)",
         "income": "$20,000 to less than $30,000",
         "party": "Democrat",
         "party_ln": "The Democratic Party",
         "ideo": "Liberal",
         "elections": "Yes",
         "teaparty": "Disagree",
         "position_in_task": 1,
         "S6_rel": 2,
         "justification": "Although The United States spending is out of control and we are racking up millions every year, th…",
         "url": "https://www.debt.org/government/",
         "off_page_count": 0,
         "time": 152.632,
         "_deepnote_index_column": 256
        },
        {
         "unit_id": "unit_33",
         "doc_id": "REP_HALFTRUE_doc2",
         "rel": "HALFTRUE",
         "gender": "Female",
         "age": "26-35",
         "school": "Some college (some community college, associate’s degree)",
         "income": "$50,000 to less than $75,000",
         "party": "Something else",
         "party_ln": "The Republican Party",
         "ideo": "Moderate",
         "elections": "2",
         "teaparty": "No opinion either way",
         "position_in_task": 1,
         "S6_rel": 6,
         "justification": "The article clearly quotes Romney as saying such.",
         "url": "https://www.politifact.com/texas/statements/2011/aug/14/mitt-romney/mitt-romney-says-poll-showed-hi…",
         "off_page_count": 0,
         "time": 85.171,
         "_deepnote_index_column": 264
        },
        {
         "unit_id": "unit_34",
         "doc_id": "DEM_HALFTRUE_doc8",
         "rel": "HALFTRUE",
         "gender": "Female",
         "age": "50-80",
         "school": "Postgraduate or professional degree, including master’s, doctorate, medical or law degree",
         "income": "$75,000 to less than $100,000",
         "party": "Democrat",
         "party_ln": "The Democratic Party",
         "ideo": "Very Liberal",
         "elections": "Yes",
         "teaparty": "Disagree",
         "position_in_task": 1,
         "S6_rel": 1,
         "justification": "The article leads me to believe that the fund is actually doing much worse. ",
         "url": "https://www.forbes.com/sites/edwardsiedle/2019/03/07/rhode-island-state-pension-may-never-be-able-t…",
         "off_page_count": 0,
         "time": 176.795,
         "_deepnote_index_column": 272
        },
        {
         "unit_id": "unit_35",
         "doc_id": "REP_BARELYTRUE_doc8",
         "rel": "BARELYTRUE",
         "gender": "Male",
         "age": "19-25",
         "school": "Four year college degree/bachelor’s degree",
         "income": "$40,000 to less than $50,000",
         "party": "Republican",
         "party_ln": "The Republican Party",
         "ideo": "Conservative",
         "elections": "Yes",
         "teaparty": "Disagree",
         "position_in_task": 1,
         "S6_rel": 3,
         "justification": "The eight percent estimate was an economic assessment from the Obama administration, and explicitly…",
         "url": "https://www.politifact.com/truth-o-meter/statements/2012/oct/12/paul-ryan/ryan-obama-promised-unemp…",
         "off_page_count": 0,
         "time": 421.46,
         "_deepnote_index_column": 280
        },
        {
         "unit_id": "unit_36",
         "doc_id": "HIGH",
         "rel": "HIGH",
         "gender": "Male",
         "age": "36-50",
         "school": "Postgraduate or professional degree, including master’s, doctorate, medical or law degree",
         "income": "$50,000 to less than $75,000",
         "party": "Democrat",
         "party_ln": "The Democratic Party",
         "ideo": "Liberal",
         "elections": "Yes",
         "teaparty": "Disagree",
         "position_in_task": 1,
         "S6_rel": 5,
         "justification": "The 'yes we can' slogan was part of Barack Obama's first Presidential campaign. Apparently, 'we can…",
         "url": "https://www.politico.com/story/2017/01/barack-obama-farewell-speech-233457",
         "off_page_count": 0,
         "time": 168.324,
         "_deepnote_index_column": 288
        },
        {
         "unit_id": "unit_37",
         "doc_id": "REP_FALSE_doc7",
         "rel": "FALSE",
         "gender": "Male",
         "age": "36-50",
         "school": "Some college (some community college, associate’s degree)",
         "income": "$10,000 to less than $20,000",
         "party": "Something else",
         "party_ln": "The Democratic Party",
         "ideo": "Moderate",
         "elections": "2",
         "teaparty": "No opinion either way",
         "position_in_task": 1,
         "S6_rel": 2,
         "justification": "There was nothing in the memo written by the man that said anything in regard to the Lincoln bedroo…",
         "url": "https://www.politifact.com/virginia/statements/2013/aug/26/ken-cuccinelli/cuccinell-overstates-mcau…",
         "off_page_count": 0,
         "time": 189.163,
         "_deepnote_index_column": 296
        },
        {
         "unit_id": "unit_38",
         "doc_id": "REP_LIE_doc1",
         "rel": "LIE",
         "gender": "Male",
         "age": "26-35",
         "school": "Some college (some community college, associate’s degree)",
         "income": "$40,000 to less than $50,000",
         "party": "Democrat",
         "party_ln": "The Democratic Party",
         "ideo": "Moderate",
         "elections": "Yes",
         "teaparty": "Agree",
         "position_in_task": 1,
         "S6_rel": 6,
         "justification": "I READ ABOUT HIM",
         "url": "https://en.wikipedia.org/wiki/Jeff_Kruse",
         "off_page_count": 0,
         "time": 70.893,
         "_deepnote_index_column": 304
        },
        {
         "unit_id": "unit_39",
         "doc_id": "REP_FALSE_doc7",
         "rel": "FALSE",
         "gender": "Male",
         "age": "26-35",
         "school": "Four year college degree/bachelor’s degree",
         "income": "$75,000 to less than $100,000",
         "party": "Democrat",
         "party_ln": "The Democratic Party",
         "ideo": "Very Liberal",
         "elections": "Yes",
         "teaparty": "Disagree",
         "position_in_task": 1,
         "S6_rel": 6,
         "justification": "I did some research and found some results as it pertains to this statement ",
         "url": "https://www.politifact.com/virginia/statements/2013/aug/26/ken-cuccinelli/cuccinell-overstates-mcau…",
         "off_page_count": 0,
         "time": 120.057,
         "_deepnote_index_column": 312
        }
       ]
      },
      "text/plain": "       unit_id               doc_id         rel  gender    age  \\\n0       unit_0         REP_LIE_doc6         LIE  Female  26-35   \n8       unit_1        REP_TRUE_doc8        TRUE  Female  26-35   \n16      unit_2    DEM_HALFTRUE_doc3    HALFTRUE    Male  36-50   \n24      unit_3  DEM_BARELYTRUE_doc9  BARELYTRUE    Male  26-35   \n32      unit_4         REP_LIE_doc6         LIE    Male  36-50   \n...        ...                  ...         ...     ...    ...   \n1560  unit_195    DEM_HALFTRUE_doc2    HALFTRUE    Male  19-25   \n1568  unit_196                  LOW         LOW  Female  26-35   \n1576  unit_197         REP_LIE_doc2         LIE    Male  19-25   \n1584  unit_198                 HIGH        HIGH    Male  26-35   \n1592  unit_199    DEM_HALFTRUE_doc2    HALFTRUE    Male  36-50   \n\n                                                 school  \\\n0            Four year college degree/bachelor’s degree   \n8     Some postgraduate or professional schooling, n...   \n16           Four year college degree/bachelor’s degree   \n24    Postgraduate or professional degree, including...   \n32    Some college (some community college, associat...   \n...                                                 ...   \n1560         Four year college degree/bachelor’s degree   \n1568         Four year college degree/bachelor’s degree   \n1576  Some college (some community college, associat...   \n1584         Four year college degree/bachelor’s degree   \n1592         Four year college degree/bachelor’s degree   \n\n                              income           party              party_ln  \\\n0       $20,000 to less than $30,000        Democrat  The Democratic Party   \n8      $75,000 to less than $100,000     Indipendent  The Republican Party   \n16     $75,000 to less than $100,000  Something else  The Democratic Party   \n24                  $150,000 or more      Republican  The Republican Party   \n32    $100,000 to less than $150,000     Indipendent  The Democratic Party   \n...                              ...             ...                   ...   \n1560    $10,000 to less than $20,000      Republican  The Republican Party   \n1568    $30,000 to less than $40,000      Republican  The Republican Party   \n1576               Less than $10,000        Democrat  The Democratic Party   \n1584   $75,000 to less than $100,000        Democrat  The Democratic Party   \n1592    $50,000 to less than $75,000      Republican  The Republican Party   \n\n                   ideo elections               teaparty  position_in_task  \\\n0               Liberal       Yes  No opinion either way                 1   \n8               Liberal       Yes                  Agree                 1   \n16             Moderate       Yes  No opinion either way                 1   \n24    Very conservative       Yes                  Agree                 1   \n32             Moderate       Yes                  Agree                 1   \n...                 ...       ...                    ...               ...   \n1560            Liberal         2               Disagree                 1   \n1568           Moderate       Yes               Disagree                 1   \n1576            Liberal         3  No opinion either way                 1   \n1584            Liberal       Yes               Disagree                 1   \n1592       Conservative       Yes               Disagree                 1   \n\n      S6_rel                                      justification  \\\n0          1  After implementation of the law, 98% of Massac...   \n8          5                                     ITS MOSTLY CRT   \n16         6  A very true statement of Gwen Moore regarding ...   \n24         2  The researchers say they \"don’t know\" if their...   \n32         3  A passage from the provided link states \"The n...   \n...      ...                                                ...   \n1560       5  OBAMA: I'm the only person on this stage who h...   \n1568       4  no such thing as a formula one drive at the ti...   \n1576       4  Even though I am not a big fan of him but it s...   \n1584       6                       Have heard the speech before   \n1592       4  I think everyone wants trump out, because nobo...   \n\n                                                    url  off_page_count  \\\n0     https://en.wikipedia.org/wiki/Massachusetts_he...               0   \n8          https://en.wikipedia.org/wiki/Chris_Christie               0   \n16    https://www.politifact.com/global-news/stateme...               0   \n24    https://www.politifact.com/virginia/statements...               0   \n32    https://en.wikipedia.org/wiki/Massachusetts_he...               0   \n...                                                 ...             ...   \n1560              http://beachwoodreporter.com/2007/10/               0   \n1568  https://www.google.com/search?q=If+I+were+not+...               0   \n1576  https://www.politifact.com/texas/statements/20...               0   \n1584  https://www.japantimes.co.jp/news/2017/01/11/w...               0   \n1592  https://www.politifact.com/truth-o-meter/staff...               0   \n\n         time  \n0     105.615  \n8     414.396  \n16     96.154  \n24     32.374  \n32    218.792  \n...       ...  \n1560  207.229  \n1568  131.724  \n1576   81.111  \n1584   75.338  \n1592   90.254  \n\n[200 rows x 18 columns]",
      "text/html": "<div>\n<style scoped>\n    .dataframe tbody tr th:only-of-type {\n        vertical-align: middle;\n    }\n\n    .dataframe tbody tr th {\n        vertical-align: top;\n    }\n\n    .dataframe thead th {\n        text-align: right;\n    }\n</style>\n<table border=\"1\" class=\"dataframe\">\n  <thead>\n    <tr style=\"text-align: right;\">\n      <th></th>\n      <th>unit_id</th>\n      <th>doc_id</th>\n      <th>rel</th>\n      <th>gender</th>\n      <th>age</th>\n      <th>school</th>\n      <th>income</th>\n      <th>party</th>\n      <th>party_ln</th>\n      <th>ideo</th>\n      <th>elections</th>\n      <th>teaparty</th>\n      <th>position_in_task</th>\n      <th>S6_rel</th>\n      <th>justification</th>\n      <th>url</th>\n      <th>off_page_count</th>\n      <th>time</th>\n    </tr>\n  </thead>\n  <tbody>\n    <tr>\n      <th>0</th>\n      <td>unit_0</td>\n      <td>REP_LIE_doc6</td>\n      <td>LIE</td>\n      <td>Female</td>\n      <td>26-35</td>\n      <td>Four year college degree/bachelor’s degree</td>\n      <td>$20,000 to less than $30,000</td>\n      <td>Democrat</td>\n      <td>The Democratic Party</td>\n      <td>Liberal</td>\n      <td>Yes</td>\n      <td>No opinion either way</td>\n      <td>1</td>\n      <td>1</td>\n      <td>After implementation of the law, 98% of Massac...</td>\n      <td>https://en.wikipedia.org/wiki/Massachusetts_he...</td>\n      <td>0</td>\n      <td>105.615</td>\n    </tr>\n    <tr>\n      <th>8</th>\n      <td>unit_1</td>\n      <td>REP_TRUE_doc8</td>\n      <td>TRUE</td>\n      <td>Female</td>\n      <td>26-35</td>\n      <td>Some postgraduate or professional schooling, n...</td>\n      <td>$75,000 to less than $100,000</td>\n      <td>Indipendent</td>\n      <td>The Republican Party</td>\n      <td>Liberal</td>\n      <td>Yes</td>\n      <td>Agree</td>\n      <td>1</td>\n      <td>5</td>\n      <td>ITS MOSTLY CRT</td>\n      <td>https://en.wikipedia.org/wiki/Chris_Christie</td>\n      <td>0</td>\n      <td>414.396</td>\n    </tr>\n    <tr>\n      <th>16</th>\n      <td>unit_2</td>\n      <td>DEM_HALFTRUE_doc3</td>\n      <td>HALFTRUE</td>\n      <td>Male</td>\n      <td>36-50</td>\n      <td>Four year college degree/bachelor’s degree</td>\n      <td>$75,000 to less than $100,000</td>\n      <td>Something else</td>\n      <td>The Democratic Party</td>\n      <td>Moderate</td>\n      <td>Yes</td>\n      <td>No opinion either way</td>\n      <td>1</td>\n      <td>6</td>\n      <td>A very true statement of Gwen Moore regarding ...</td>\n      <td>https://www.politifact.com/global-news/stateme...</td>\n      <td>0</td>\n      <td>96.154</td>\n    </tr>\n    <tr>\n      <th>24</th>\n      <td>unit_3</td>\n      <td>DEM_BARELYTRUE_doc9</td>\n      <td>BARELYTRUE</td>\n      <td>Male</td>\n      <td>26-35</td>\n      <td>Postgraduate or professional degree, including...</td>\n      <td>$150,000 or more</td>\n      <td>Republican</td>\n      <td>The Republican Party</td>\n      <td>Very conservative</td>\n      <td>Yes</td>\n      <td>Agree</td>\n      <td>1</td>\n      <td>2</td>\n      <td>The researchers say they \"don’t know\" if their...</td>\n      <td>https://www.politifact.com/virginia/statements...</td>\n      <td>0</td>\n      <td>32.374</td>\n    </tr>\n    <tr>\n      <th>32</th>\n      <td>unit_4</td>\n      <td>REP_LIE_doc6</td>\n      <td>LIE</td>\n      <td>Male</td>\n      <td>36-50</td>\n      <td>Some college (some community college, associat...</td>\n      <td>$100,000 to less than $150,000</td>\n      <td>Indipendent</td>\n      <td>The Democratic Party</td>\n      <td>Moderate</td>\n      <td>Yes</td>\n      <td>Agree</td>\n      <td>1</td>\n      <td>3</td>\n      <td>A passage from the provided link states \"The n...</td>\n      <td>https://en.wikipedia.org/wiki/Massachusetts_he...</td>\n      <td>0</td>\n      <td>218.792</td>\n    </tr>\n    <tr>\n      <th>...</th>\n      <td>...</td>\n      <td>...</td>\n      <td>...</td>\n      <td>...</td>\n      <td>...</td>\n      <td>...</td>\n      <td>...</td>\n      <td>...</td>\n      <td>...</td>\n      <td>...</td>\n      <td>...</td>\n      <td>...</td>\n      <td>...</td>\n      <td>...</td>\n      <td>...</td>\n      <td>...</td>\n      <td>...</td>\n      <td>...</td>\n    </tr>\n    <tr>\n      <th>1560</th>\n      <td>unit_195</td>\n      <td>DEM_HALFTRUE_doc2</td>\n      <td>HALFTRUE</td>\n      <td>Male</td>\n      <td>19-25</td>\n      <td>Four year college degree/bachelor’s degree</td>\n      <td>$10,000 to less than $20,000</td>\n      <td>Republican</td>\n      <td>The Republican Party</td>\n      <td>Liberal</td>\n      <td>2</td>\n      <td>Disagree</td>\n      <td>1</td>\n      <td>5</td>\n      <td>OBAMA: I'm the only person on this stage who h...</td>\n      <td>http://beachwoodreporter.com/2007/10/</td>\n      <td>0</td>\n      <td>207.229</td>\n    </tr>\n    <tr>\n      <th>1568</th>\n      <td>unit_196</td>\n      <td>LOW</td>\n      <td>LOW</td>\n      <td>Female</td>\n      <td>26-35</td>\n      <td>Four year college degree/bachelor’s degree</td>\n      <td>$30,000 to less than $40,000</td>\n      <td>Republican</td>\n      <td>The Republican Party</td>\n      <td>Moderate</td>\n      <td>Yes</td>\n      <td>Disagree</td>\n      <td>1</td>\n      <td>4</td>\n      <td>no such thing as a formula one drive at the ti...</td>\n      <td>https://www.google.com/search?q=If+I+were+not+...</td>\n      <td>0</td>\n      <td>131.724</td>\n    </tr>\n    <tr>\n      <th>1576</th>\n      <td>unit_197</td>\n      <td>REP_LIE_doc2</td>\n      <td>LIE</td>\n      <td>Male</td>\n      <td>19-25</td>\n      <td>Some college (some community college, associat...</td>\n      <td>Less than $10,000</td>\n      <td>Democrat</td>\n      <td>The Democratic Party</td>\n      <td>Liberal</td>\n      <td>3</td>\n      <td>No opinion either way</td>\n      <td>1</td>\n      <td>4</td>\n      <td>Even though I am not a big fan of him but it s...</td>\n      <td>https://www.politifact.com/texas/statements/20...</td>\n      <td>0</td>\n      <td>81.111</td>\n    </tr>\n    <tr>\n      <th>1584</th>\n      <td>unit_198</td>\n      <td>HIGH</td>\n      <td>HIGH</td>\n      <td>Male</td>\n      <td>26-35</td>\n      <td>Four year college degree/bachelor’s degree</td>\n      <td>$75,000 to less than $100,000</td>\n      <td>Democrat</td>\n      <td>The Democratic Party</td>\n      <td>Liberal</td>\n      <td>Yes</td>\n      <td>Disagree</td>\n      <td>1</td>\n      <td>6</td>\n      <td>Have heard the speech before</td>\n      <td>https://www.japantimes.co.jp/news/2017/01/11/w...</td>\n      <td>0</td>\n      <td>75.338</td>\n    </tr>\n    <tr>\n      <th>1592</th>\n      <td>unit_199</td>\n      <td>DEM_HALFTRUE_doc2</td>\n      <td>HALFTRUE</td>\n      <td>Male</td>\n      <td>36-50</td>\n      <td>Four year college degree/bachelor’s degree</td>\n      <td>$50,000 to less than $75,000</td>\n      <td>Republican</td>\n      <td>The Republican Party</td>\n      <td>Conservative</td>\n      <td>Yes</td>\n      <td>Disagree</td>\n      <td>1</td>\n      <td>4</td>\n      <td>I think everyone wants trump out, because nobo...</td>\n      <td>https://www.politifact.com/truth-o-meter/staff...</td>\n      <td>0</td>\n      <td>90.254</td>\n    </tr>\n  </tbody>\n</table>\n<p>200 rows × 18 columns</p>\n</div>"
     },
     "metadata": {},
     "output_type": "display_data"
    }
   ]
  },
  {
   "cell_type": "code",
   "metadata": {
    "tags": [],
    "cell_id": "00005-2950cf39-2b42-4672-a186-ad4cef4846dc",
    "deepnote_to_be_reexecuted": false,
    "source_hash": "b7c6f148",
    "execution_start": 1641811640866,
    "execution_millis": 9,
    "deepnote_cell_type": "code"
   },
   "source": "print(df.isna().sum())",
   "execution_count": null,
   "outputs": [
    {
     "name": "stdout",
     "text": "unit_id             0\ndoc_id              0\nrel                 0\ngender              0\nage                 0\nschool              0\nincome              0\nparty               0\nparty_ln            0\nideo                0\nelections           0\nteaparty            0\nposition_in_task    0\nS6_rel              0\njustification       0\nurl                 0\noff_page_count      0\ntime                0\ndtype: int64\n",
     "output_type": "stream",
     "data": {}
    }
   ]
  },
  {
   "cell_type": "markdown",
   "source": "<a style='text-decoration:none;line-height:16px;display:flex;color:#5B5B62;padding:10px;justify-content:end;' href='https://deepnote.com?utm_source=created-in-deepnote-cell&projectId=7373d0f7-b35e-460a-b7ec-c43f8d39233d' target=\"_blank\">\n<img alt='Created in deepnote.com' style='display:inline;max-height:16px;margin:0px;margin-right:7.5px;' src='data:image/svg+xml;base64,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' > </img>\nCreated in <span style='font-weight:600;margin-left:4px;'>Deepnote</span></a>",
   "metadata": {
    "tags": [],
    "created_in_deepnote_cell": true,
    "deepnote_cell_type": "markdown"
   }
  }
 ],
 "nbformat": 4,
 "nbformat_minor": 2,
 "metadata": {
  "orig_nbformat": 2,
  "deepnote": {
   "is_reactive": false
  },
  "deepnote_notebook_id": "312df876-cca9-4239-bd07-68e2dc97fc5e",
  "deepnote_execution_queue": []
 }
}