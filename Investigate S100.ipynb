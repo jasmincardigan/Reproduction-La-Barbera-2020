{
 "cells": [
  {
   "cell_type": "code",
   "metadata": {
    "tags": [],
    "deepnote_to_be_reexecuted": false,
    "source_hash": "be80449c",
    "execution_start": 1641811705334,
    "execution_millis": 2004,
    "cell_id": "00000-8525b2cc-24df-4c2f-8a1e-5ebcb45e2a04",
    "deepnote_cell_type": "code"
   },
   "source": "import pandas as pd\nimport matplotlib.pyplot as plt\nimport seaborn as sns\nimport numpy as np\nimport matplotlib.pyplot as plt\nfrom sklearn.linear_model import LogisticRegression\nfrom sklearn.model_selection import train_test_split\nfrom sklearn.metrics import classification_report, confusion_matrix\n",
   "outputs": [],
   "execution_count": null
  },
  {
   "cell_type": "markdown",
   "source": "{\n    \"gender\" : {\n        \"question\" : \"What is your gender?\",\n        \"1\" : \"Male\",\n        \"2\" : \"Female\",\n        \"3\" : \"Other/No answer\"\n    },\n    \"age\" : {\n        \"question\" : \"What is your age range?\",\n        \"1\" : \"0-18\",\n        \"2\" : \"19-25\",\n        \"3\" : \"26-35\",\n        \"4\" : \"36-50\",\n        \"5\" : \"50-80\",\n        \"6\" : \"80\"\n    },\n    \"school\" : {\n        \"question\" : \"What is the highest level of school you have completed or the highest degree you have received?\",\n        \"1\" : \"High school incomplete or less\",\n        \"2\" : \"High school graduate or GED (includes technical/vocational training that doesn’t count towards college credit)\",\n        \"3\" : \"Some college (some community college, associate’s degree)\",\n        \"4\" : \"Four year college degree/bachelor’s degree\",\n        \"5\" : \"Some postgraduate or professional schooling, no postgraduate degree\",\n        \"6\" : \"Postgraduate or professional degree, including master’s, doctorate, medical or law degree\"\n    },\n    \"income\" : {\n        \"question\" : \"Last year what was your total family income from all sources, before taxes?\",\n        \"1\" : \"Less than $10,000\",\n        \"2\" : \"$10,000 to less than $20,000\",\n        \"3\" : \"$20,000 to less than $30,000\",\n        \"4\" : \"$30,000 to less than $40,000\",\n        \"5\" : \"$40,000 to less than $50,000\",\n        \"6\" : \"$50,000 to less than $75,000\",\n        \"7\" : \"$75,000 to less than $100,000\",\n        \"8\" : \"$100,000 to less than $150,000\",\n        \"9\" : \"$150,000 or more\"\n    },\n    \"party\" : {\n        \"question\" : \"In politics today, do you consider yourself a:\",\n        \"1\" : \"Republican\",\n        \"2\" : \"Democrat\",\n        \"3\" : \"Indipendent\",\n        \"4\" : \"Something else\"\n    },\n    \"party_ln\" : {\n        \"question\" : \"As of today do you lean more to:\",\n        \"1\" : \"The Republican Party\",\n        \"2\" : \"The Democratic Party\"\n    },\n    \"ideo\" : {\n        \"question\" : \"In general, would you describe your political views as:\",\n        \"1\" : \"Very conservative\",\n        \"2\" : \"Conservative\",\n        \"3\" : \"Moderate\",\n        \"4\" : \"Liberal\",\n        \"5\" : \"Very liberal\"\n    },\n    \"elections\" : {\n        \"question\" : \"Have you voted in the 2016 US presidential election?\",\n        \"1\" : \"Yes\",\n        \"2\" : \"No\",\n        \"3\" : \"Rather not answer\"\n    },\n    \"teaparty\" : {\n        \"question\" : \"From what you know, do you agree or disagree with the Tea Party movement, or don't you have an opinion either way?\",\n        \"1\" : \"Agree\",\n        \"2\" : \"Disagree\",\n        \"3\" : \"No opinion either way\"\n    }\n}",
   "metadata": {
    "tags": [],
    "cell_id": "00001-d2709a67-79f0-4fc5-ad1b-8a9d0582f843",
    "deepnote_cell_type": "markdown"
   }
  },
  {
   "cell_type": "code",
   "metadata": {
    "tags": [],
    "deepnote_to_be_reexecuted": false,
    "source_hash": "104d1dca",
    "execution_start": 1641811707342,
    "execution_millis": 21,
    "cell_id": "00002-ed5cffef-efdb-4494-907b-bed616ce2714",
    "deepnote_cell_type": "code"
   },
   "source": "df = pd.read_csv(\"S100_Data.csv\")\ndf = df.iloc[::8, :]\n",
   "outputs": [],
   "execution_count": null
  },
  {
   "cell_type": "code",
   "metadata": {
    "tags": [],
    "deepnote_to_be_reexecuted": false,
    "source_hash": "c085b6ba",
    "execution_start": 1641811707375,
    "execution_millis": 88,
    "deepnote_output_heights": [
     21.199996948242188
    ],
    "cell_id": "00003-6552e4b5-9a8b-48da-8a78-8b3d8015ec82",
    "deepnote_cell_type": "code"
   },
   "source": "df.head()",
   "outputs": [
    {
     "output_type": "execute_result",
     "execution_count": 3,
     "data": {
      "application/vnd.deepnote.dataframe.v3+json": {
       "column_count": 18,
       "row_count": 5,
       "columns": [
        {
         "name": "unit_id",
         "dtype": "object",
         "stats": {
          "unique_count": 5,
          "nan_count": 0,
          "categories": [
           {
            "name": "unit_0",
            "count": 1
           },
           {
            "name": "unit_1",
            "count": 1
           },
           {
            "name": "3 others",
            "count": 3
           }
          ]
         }
        },
        {
         "name": "doc_id",
         "dtype": "object",
         "stats": {
          "unique_count": 4,
          "nan_count": 0,
          "categories": [
           {
            "name": "REP_LIE_doc6",
            "count": 2
           },
           {
            "name": "REP_TRUE_doc8",
            "count": 1
           },
           {
            "name": "2 others",
            "count": 2
           }
          ]
         }
        },
        {
         "name": "rel",
         "dtype": "object",
         "stats": {
          "unique_count": 4,
          "nan_count": 0,
          "categories": [
           {
            "name": "LIE",
            "count": 2
           },
           {
            "name": "TRUE",
            "count": 1
           },
           {
            "name": "2 others",
            "count": 2
           }
          ]
         }
        },
        {
         "name": "gender",
         "dtype": "int64",
         "stats": {
          "unique_count": 2,
          "nan_count": 0,
          "min": "1",
          "max": "2",
          "histogram": [
           {
            "bin_start": 1,
            "bin_end": 1.1,
            "count": 4
           },
           {
            "bin_start": 1.1,
            "bin_end": 1.2,
            "count": 0
           },
           {
            "bin_start": 1.2,
            "bin_end": 1.3,
            "count": 0
           },
           {
            "bin_start": 1.3,
            "bin_end": 1.4,
            "count": 0
           },
           {
            "bin_start": 1.4,
            "bin_end": 1.5,
            "count": 0
           },
           {
            "bin_start": 1.5,
            "bin_end": 1.6,
            "count": 0
           },
           {
            "bin_start": 1.6,
            "bin_end": 1.7000000000000002,
            "count": 0
           },
           {
            "bin_start": 1.7000000000000002,
            "bin_end": 1.8,
            "count": 0
           },
           {
            "bin_start": 1.8,
            "bin_end": 1.9,
            "count": 0
           },
           {
            "bin_start": 1.9,
            "bin_end": 2,
            "count": 1
           }
          ]
         }
        },
        {
         "name": "age",
         "dtype": "int64",
         "stats": {
          "unique_count": 3,
          "nan_count": 0,
          "min": "3",
          "max": "5",
          "histogram": [
           {
            "bin_start": 3,
            "bin_end": 3.2,
            "count": 2
           },
           {
            "bin_start": 3.2,
            "bin_end": 3.4,
            "count": 0
           },
           {
            "bin_start": 3.4,
            "bin_end": 3.6,
            "count": 0
           },
           {
            "bin_start": 3.6,
            "bin_end": 3.8,
            "count": 0
           },
           {
            "bin_start": 3.8,
            "bin_end": 4,
            "count": 0
           },
           {
            "bin_start": 4,
            "bin_end": 4.2,
            "count": 2
           },
           {
            "bin_start": 4.2,
            "bin_end": 4.4,
            "count": 0
           },
           {
            "bin_start": 4.4,
            "bin_end": 4.6,
            "count": 0
           },
           {
            "bin_start": 4.6,
            "bin_end": 4.8,
            "count": 0
           },
           {
            "bin_start": 4.8,
            "bin_end": 5,
            "count": 1
           }
          ]
         }
        },
        {
         "name": "school",
         "dtype": "int64",
         "stats": {
          "unique_count": 3,
          "nan_count": 0,
          "min": "3",
          "max": "6",
          "histogram": [
           {
            "bin_start": 3,
            "bin_end": 3.3,
            "count": 2
           },
           {
            "bin_start": 3.3,
            "bin_end": 3.6,
            "count": 0
           },
           {
            "bin_start": 3.6,
            "bin_end": 3.9,
            "count": 0
           },
           {
            "bin_start": 3.9,
            "bin_end": 4.2,
            "count": 2
           },
           {
            "bin_start": 4.2,
            "bin_end": 4.5,
            "count": 0
           },
           {
            "bin_start": 4.5,
            "bin_end": 4.8,
            "count": 0
           },
           {
            "bin_start": 4.8,
            "bin_end": 5.1,
            "count": 0
           },
           {
            "bin_start": 5.1,
            "bin_end": 5.4,
            "count": 0
           },
           {
            "bin_start": 5.4,
            "bin_end": 5.699999999999999,
            "count": 0
           },
           {
            "bin_start": 5.699999999999999,
            "bin_end": 6,
            "count": 1
           }
          ]
         }
        },
        {
         "name": "income",
         "dtype": "int64",
         "stats": {
          "unique_count": 3,
          "nan_count": 0,
          "min": "6",
          "max": "9",
          "histogram": [
           {
            "bin_start": 6,
            "bin_end": 6.3,
            "count": 2
           },
           {
            "bin_start": 6.3,
            "bin_end": 6.6,
            "count": 0
           },
           {
            "bin_start": 6.6,
            "bin_end": 6.9,
            "count": 0
           },
           {
            "bin_start": 6.9,
            "bin_end": 7.2,
            "count": 1
           },
           {
            "bin_start": 7.2,
            "bin_end": 7.5,
            "count": 0
           },
           {
            "bin_start": 7.5,
            "bin_end": 7.8,
            "count": 0
           },
           {
            "bin_start": 7.8,
            "bin_end": 8.1,
            "count": 0
           },
           {
            "bin_start": 8.1,
            "bin_end": 8.4,
            "count": 0
           },
           {
            "bin_start": 8.4,
            "bin_end": 8.7,
            "count": 0
           },
           {
            "bin_start": 8.7,
            "bin_end": 9,
            "count": 2
           }
          ]
         }
        },
        {
         "name": "party",
         "dtype": "int64",
         "stats": {
          "unique_count": 2,
          "nan_count": 0,
          "min": "1",
          "max": "3",
          "histogram": [
           {
            "bin_start": 1,
            "bin_end": 1.2,
            "count": 2
           },
           {
            "bin_start": 1.2,
            "bin_end": 1.4,
            "count": 0
           },
           {
            "bin_start": 1.4,
            "bin_end": 1.6,
            "count": 0
           },
           {
            "bin_start": 1.6,
            "bin_end": 1.8,
            "count": 0
           },
           {
            "bin_start": 1.8,
            "bin_end": 2,
            "count": 0
           },
           {
            "bin_start": 2,
            "bin_end": 2.2,
            "count": 0
           },
           {
            "bin_start": 2.2,
            "bin_end": 2.4000000000000004,
            "count": 0
           },
           {
            "bin_start": 2.4000000000000004,
            "bin_end": 2.6,
            "count": 0
           },
           {
            "bin_start": 2.6,
            "bin_end": 2.8,
            "count": 0
           },
           {
            "bin_start": 2.8,
            "bin_end": 3,
            "count": 3
           }
          ]
         }
        },
        {
         "name": "party_ln",
         "dtype": "int64",
         "stats": {
          "unique_count": 2,
          "nan_count": 0,
          "min": "1",
          "max": "2",
          "histogram": [
           {
            "bin_start": 1,
            "bin_end": 1.1,
            "count": 3
           },
           {
            "bin_start": 1.1,
            "bin_end": 1.2,
            "count": 0
           },
           {
            "bin_start": 1.2,
            "bin_end": 1.3,
            "count": 0
           },
           {
            "bin_start": 1.3,
            "bin_end": 1.4,
            "count": 0
           },
           {
            "bin_start": 1.4,
            "bin_end": 1.5,
            "count": 0
           },
           {
            "bin_start": 1.5,
            "bin_end": 1.6,
            "count": 0
           },
           {
            "bin_start": 1.6,
            "bin_end": 1.7000000000000002,
            "count": 0
           },
           {
            "bin_start": 1.7000000000000002,
            "bin_end": 1.8,
            "count": 0
           },
           {
            "bin_start": 1.8,
            "bin_end": 1.9,
            "count": 0
           },
           {
            "bin_start": 1.9,
            "bin_end": 2,
            "count": 2
           }
          ]
         }
        },
        {
         "name": "ideo",
         "dtype": "int64",
         "stats": {
          "unique_count": 3,
          "nan_count": 0,
          "min": "2",
          "max": "4",
          "histogram": [
           {
            "bin_start": 2,
            "bin_end": 2.2,
            "count": 3
           },
           {
            "bin_start": 2.2,
            "bin_end": 2.4,
            "count": 0
           },
           {
            "bin_start": 2.4,
            "bin_end": 2.6,
            "count": 0
           },
           {
            "bin_start": 2.6,
            "bin_end": 2.8,
            "count": 0
           },
           {
            "bin_start": 2.8,
            "bin_end": 3,
            "count": 0
           },
           {
            "bin_start": 3,
            "bin_end": 3.2,
            "count": 1
           },
           {
            "bin_start": 3.2,
            "bin_end": 3.4000000000000004,
            "count": 0
           },
           {
            "bin_start": 3.4000000000000004,
            "bin_end": 3.6,
            "count": 0
           },
           {
            "bin_start": 3.6,
            "bin_end": 3.8,
            "count": 0
           },
           {
            "bin_start": 3.8,
            "bin_end": 4,
            "count": 1
           }
          ]
         }
        },
        {
         "name": "elections",
         "dtype": "int64",
         "stats": {
          "unique_count": 1,
          "nan_count": 0,
          "min": "1",
          "max": "1",
          "histogram": [
           {
            "bin_start": 0.5,
            "bin_end": 0.6,
            "count": 0
           },
           {
            "bin_start": 0.6,
            "bin_end": 0.7,
            "count": 0
           },
           {
            "bin_start": 0.7,
            "bin_end": 0.8,
            "count": 0
           },
           {
            "bin_start": 0.8,
            "bin_end": 0.9,
            "count": 0
           },
           {
            "bin_start": 0.9,
            "bin_end": 1,
            "count": 0
           },
           {
            "bin_start": 1,
            "bin_end": 1.1,
            "count": 5
           },
           {
            "bin_start": 1.1,
            "bin_end": 1.2000000000000002,
            "count": 0
           },
           {
            "bin_start": 1.2000000000000002,
            "bin_end": 1.3,
            "count": 0
           },
           {
            "bin_start": 1.3,
            "bin_end": 1.4,
            "count": 0
           },
           {
            "bin_start": 1.4,
            "bin_end": 1.5,
            "count": 0
           }
          ]
         }
        },
        {
         "name": "teaparty",
         "dtype": "int64",
         "stats": {
          "unique_count": 2,
          "nan_count": 0,
          "min": "1",
          "max": "2",
          "histogram": [
           {
            "bin_start": 1,
            "bin_end": 1.1,
            "count": 4
           },
           {
            "bin_start": 1.1,
            "bin_end": 1.2,
            "count": 0
           },
           {
            "bin_start": 1.2,
            "bin_end": 1.3,
            "count": 0
           },
           {
            "bin_start": 1.3,
            "bin_end": 1.4,
            "count": 0
           },
           {
            "bin_start": 1.4,
            "bin_end": 1.5,
            "count": 0
           },
           {
            "bin_start": 1.5,
            "bin_end": 1.6,
            "count": 0
           },
           {
            "bin_start": 1.6,
            "bin_end": 1.7000000000000002,
            "count": 0
           },
           {
            "bin_start": 1.7000000000000002,
            "bin_end": 1.8,
            "count": 0
           },
           {
            "bin_start": 1.8,
            "bin_end": 1.9,
            "count": 0
           },
           {
            "bin_start": 1.9,
            "bin_end": 2,
            "count": 1
           }
          ]
         }
        },
        {
         "name": "position_in_task",
         "dtype": "int64",
         "stats": {
          "unique_count": 1,
          "nan_count": 0,
          "min": "1",
          "max": "1",
          "histogram": [
           {
            "bin_start": 0.5,
            "bin_end": 0.6,
            "count": 0
           },
           {
            "bin_start": 0.6,
            "bin_end": 0.7,
            "count": 0
           },
           {
            "bin_start": 0.7,
            "bin_end": 0.8,
            "count": 0
           },
           {
            "bin_start": 0.8,
            "bin_end": 0.9,
            "count": 0
           },
           {
            "bin_start": 0.9,
            "bin_end": 1,
            "count": 0
           },
           {
            "bin_start": 1,
            "bin_end": 1.1,
            "count": 5
           },
           {
            "bin_start": 1.1,
            "bin_end": 1.2000000000000002,
            "count": 0
           },
           {
            "bin_start": 1.2000000000000002,
            "bin_end": 1.3,
            "count": 0
           },
           {
            "bin_start": 1.3,
            "bin_end": 1.4,
            "count": 0
           },
           {
            "bin_start": 1.4,
            "bin_end": 1.5,
            "count": 0
           }
          ]
         }
        },
        {
         "name": "S100_rel",
         "dtype": "float64",
         "stats": {
          "unique_count": 5,
          "nan_count": 0,
          "min": "3.0",
          "max": "100.0",
          "histogram": [
           {
            "bin_start": 3,
            "bin_end": 12.7,
            "count": 2
           },
           {
            "bin_start": 12.7,
            "bin_end": 22.4,
            "count": 1
           },
           {
            "bin_start": 22.4,
            "bin_end": 32.099999999999994,
            "count": 0
           },
           {
            "bin_start": 32.099999999999994,
            "bin_end": 41.8,
            "count": 1
           },
           {
            "bin_start": 41.8,
            "bin_end": 51.5,
            "count": 0
           },
           {
            "bin_start": 51.5,
            "bin_end": 61.199999999999996,
            "count": 0
           },
           {
            "bin_start": 61.199999999999996,
            "bin_end": 70.89999999999999,
            "count": 0
           },
           {
            "bin_start": 70.89999999999999,
            "bin_end": 80.6,
            "count": 0
           },
           {
            "bin_start": 80.6,
            "bin_end": 90.3,
            "count": 0
           },
           {
            "bin_start": 90.3,
            "bin_end": 100,
            "count": 1
           }
          ]
         }
        },
        {
         "name": "justification",
         "dtype": "object",
         "stats": {
          "unique_count": 5,
          "nan_count": 0,
          "categories": [
           {
            "name": "Rick Perry was governor of Texas, not Massachusetts.  ",
            "count": 1
           },
           {
            "name": "\r\r\nThe average annual pension benefit for new retirees in the judicial pension system is the largest. And judges contributed, prior to the pension and benefit reform law, 3 percent of their salary toward their pension,  the smallest percentage among public employees.\r\r\n\r\r\nWe rate Christie’s statement True.",
            "count": 1
           },
           {
            "name": "3 others",
            "count": 3
           }
          ]
         }
        },
        {
         "name": "url",
         "dtype": "object",
         "stats": {
          "unique_count": 5,
          "nan_count": 0,
          "categories": [
           {
            "name": "https://en.wikipedia.org/wiki/Rick_Perry",
            "count": 1
           },
           {
            "name": "https://www.politifact.com/new-jersey/statements/2011/oct/27/chris-christie/chris-christie-claims-judges-reap-better-pension-b/",
            "count": 1
           },
           {
            "name": "3 others",
            "count": 3
           }
          ]
         }
        },
        {
         "name": "off_page_count",
         "dtype": "int64",
         "stats": {
          "unique_count": 1,
          "nan_count": 0,
          "min": "0",
          "max": "0",
          "histogram": [
           {
            "bin_start": -0.5,
            "bin_end": -0.4,
            "count": 0
           },
           {
            "bin_start": -0.4,
            "bin_end": -0.3,
            "count": 0
           },
           {
            "bin_start": -0.3,
            "bin_end": -0.19999999999999996,
            "count": 0
           },
           {
            "bin_start": -0.19999999999999996,
            "bin_end": -0.09999999999999998,
            "count": 0
           },
           {
            "bin_start": -0.09999999999999998,
            "bin_end": 0,
            "count": 0
           },
           {
            "bin_start": 0,
            "bin_end": 0.10000000000000009,
            "count": 5
           },
           {
            "bin_start": 0.10000000000000009,
            "bin_end": 0.20000000000000007,
            "count": 0
           },
           {
            "bin_start": 0.20000000000000007,
            "bin_end": 0.30000000000000004,
            "count": 0
           },
           {
            "bin_start": 0.30000000000000004,
            "bin_end": 0.4,
            "count": 0
           },
           {
            "bin_start": 0.4,
            "bin_end": 0.5,
            "count": 0
           }
          ]
         }
        },
        {
         "name": "time",
         "dtype": "float64",
         "stats": {
          "unique_count": 5,
          "nan_count": 0,
          "min": "25.925",
          "max": "313.121",
          "histogram": [
           {
            "bin_start": 25.925,
            "bin_end": 54.6446,
            "count": 2
           },
           {
            "bin_start": 54.6446,
            "bin_end": 83.3642,
            "count": 1
           },
           {
            "bin_start": 83.3642,
            "bin_end": 112.08379999999998,
            "count": 0
           },
           {
            "bin_start": 112.08379999999998,
            "bin_end": 140.80339999999998,
            "count": 1
           },
           {
            "bin_start": 140.80339999999998,
            "bin_end": 169.523,
            "count": 0
           },
           {
            "bin_start": 169.523,
            "bin_end": 198.24259999999998,
            "count": 0
           },
           {
            "bin_start": 198.24259999999998,
            "bin_end": 226.9622,
            "count": 0
           },
           {
            "bin_start": 226.9622,
            "bin_end": 255.68179999999998,
            "count": 0
           },
           {
            "bin_start": 255.68179999999998,
            "bin_end": 284.40139999999997,
            "count": 0
           },
           {
            "bin_start": 284.40139999999997,
            "bin_end": 313.121,
            "count": 1
           }
          ]
         }
        },
        {
         "name": "_deepnote_index_column",
         "dtype": "int64"
        }
       ],
       "rows": [
        {
         "unit_id": "unit_0",
         "doc_id": "REP_LIE_doc6",
         "rel": "LIE",
         "gender": 2,
         "age": 5,
         "school": 3,
         "income": 6,
         "party": 3,
         "party_ln": 1,
         "ideo": 2,
         "elections": 1,
         "teaparty": 1,
         "position_in_task": 1,
         "S100_rel": 3,
         "justification": "Rick Perry was governor of Texas, not Massachusetts.  ",
         "url": "https://en.wikipedia.org/wiki/Rick_Perry",
         "off_page_count": 0,
         "time": 59.715,
         "_deepnote_index_column": 0
        },
        {
         "unit_id": "unit_1",
         "doc_id": "REP_TRUE_doc8",
         "rel": "TRUE",
         "gender": 1,
         "age": 3,
         "school": 6,
         "income": 9,
         "party": 1,
         "party_ln": 1,
         "ideo": 2,
         "elections": 1,
         "teaparty": 1,
         "position_in_task": 1,
         "S100_rel": 100,
         "justification": "\r\r\nThe average annual pension benefit for new retirees in the judicial pension system is the larges…",
         "url": "https://www.politifact.com/new-jersey/statements/2011/oct/27/chris-christie/chris-christie-claims-j…",
         "off_page_count": 0,
         "time": 25.925,
         "_deepnote_index_column": 8
        },
        {
         "unit_id": "unit_2",
         "doc_id": "DEM_HALFTRUE_doc3",
         "rel": "HALFTRUE",
         "gender": 1,
         "age": 4,
         "school": 3,
         "income": 9,
         "party": 1,
         "party_ln": 1,
         "ideo": 2,
         "elections": 1,
         "teaparty": 1,
         "position_in_task": 1,
         "S100_rel": 40,
         "justification": "Poltifact is generally spot on ",
         "url": "https://www.politifact.com/global-news/statements/2016/may/12/gwen-moore/arm-world-bank-tied-8-fold…",
         "off_page_count": 0,
         "time": 50.47,
         "_deepnote_index_column": 16
        },
        {
         "unit_id": "unit_3",
         "doc_id": "DEM_BARELYTRUE_doc9",
         "rel": "BARELYTRUE",
         "gender": 1,
         "age": 4,
         "school": 4,
         "income": 6,
         "party": 3,
         "party_ln": 2,
         "ideo": 3,
         "elections": 1,
         "teaparty": 2,
         "position_in_task": 1,
         "S100_rel": 17,
         "justification": "the 40-percent figure, refers to all gun transactions, not just gun sales. A large percentage of th…",
         "url": "https://www.washingtonpost.com/news/fact-checker/wp/2015/10/16/clintons-claim-that-40-percent-of-gu…",
         "off_page_count": 0,
         "time": 313.121,
         "_deepnote_index_column": 24
        },
        {
         "unit_id": "unit_4",
         "doc_id": "REP_LIE_doc6",
         "rel": "LIE",
         "gender": 1,
         "age": 3,
         "school": 4,
         "income": 7,
         "party": 3,
         "party_ln": 2,
         "ideo": 4,
         "elections": 1,
         "teaparty": 1,
         "position_in_task": 1,
         "S100_rel": 10,
         "justification": "Since its passage in April 2006, the Massachusetts health reform law (Chapter 58) has expanded affo…",
         "url": "https://www.healthaffairs.org/doi/full/10.1377/hlthaff.27.4.w285",
         "off_page_count": 0,
         "time": 116.611,
         "_deepnote_index_column": 32
        }
       ]
      },
      "text/plain": "   unit_id               doc_id         rel  gender  age  school  income  \\\n0   unit_0         REP_LIE_doc6         LIE       2    5       3       6   \n8   unit_1        REP_TRUE_doc8        TRUE       1    3       6       9   \n16  unit_2    DEM_HALFTRUE_doc3    HALFTRUE       1    4       3       9   \n24  unit_3  DEM_BARELYTRUE_doc9  BARELYTRUE       1    4       4       6   \n32  unit_4         REP_LIE_doc6         LIE       1    3       4       7   \n\n    party  party_ln  ideo  elections  teaparty  position_in_task  S100_rel  \\\n0       3         1     2          1         1                 1       3.0   \n8       1         1     2          1         1                 1     100.0   \n16      1         1     2          1         1                 1      40.0   \n24      3         2     3          1         2                 1      17.0   \n32      3         2     4          1         1                 1      10.0   \n\n                                        justification  \\\n0   Rick Perry was governor of Texas, not Massachu...   \n8   \\r\\r\\nThe average annual pension benefit for n...   \n16                    Poltifact is generally spot on    \n24  the 40-percent figure, refers to all gun trans...   \n32  Since its passage in April 2006, the Massachus...   \n\n                                                  url  off_page_count     time  \n0            https://en.wikipedia.org/wiki/Rick_Perry               0   59.715  \n8   https://www.politifact.com/new-jersey/statemen...               0   25.925  \n16  https://www.politifact.com/global-news/stateme...               0   50.470  \n24  https://www.washingtonpost.com/news/fact-check...               0  313.121  \n32  https://www.healthaffairs.org/doi/full/10.1377...               0  116.611  ",
      "text/html": "<div>\n<style scoped>\n    .dataframe tbody tr th:only-of-type {\n        vertical-align: middle;\n    }\n\n    .dataframe tbody tr th {\n        vertical-align: top;\n    }\n\n    .dataframe thead th {\n        text-align: right;\n    }\n</style>\n<table border=\"1\" class=\"dataframe\">\n  <thead>\n    <tr style=\"text-align: right;\">\n      <th></th>\n      <th>unit_id</th>\n      <th>doc_id</th>\n      <th>rel</th>\n      <th>gender</th>\n      <th>age</th>\n      <th>school</th>\n      <th>income</th>\n      <th>party</th>\n      <th>party_ln</th>\n      <th>ideo</th>\n      <th>elections</th>\n      <th>teaparty</th>\n      <th>position_in_task</th>\n      <th>S100_rel</th>\n      <th>justification</th>\n      <th>url</th>\n      <th>off_page_count</th>\n      <th>time</th>\n    </tr>\n  </thead>\n  <tbody>\n    <tr>\n      <th>0</th>\n      <td>unit_0</td>\n      <td>REP_LIE_doc6</td>\n      <td>LIE</td>\n      <td>2</td>\n      <td>5</td>\n      <td>3</td>\n      <td>6</td>\n      <td>3</td>\n      <td>1</td>\n      <td>2</td>\n      <td>1</td>\n      <td>1</td>\n      <td>1</td>\n      <td>3.0</td>\n      <td>Rick Perry was governor of Texas, not Massachu...</td>\n      <td>https://en.wikipedia.org/wiki/Rick_Perry</td>\n      <td>0</td>\n      <td>59.715</td>\n    </tr>\n    <tr>\n      <th>8</th>\n      <td>unit_1</td>\n      <td>REP_TRUE_doc8</td>\n      <td>TRUE</td>\n      <td>1</td>\n      <td>3</td>\n      <td>6</td>\n      <td>9</td>\n      <td>1</td>\n      <td>1</td>\n      <td>2</td>\n      <td>1</td>\n      <td>1</td>\n      <td>1</td>\n      <td>100.0</td>\n      <td>\\r\\r\\nThe average annual pension benefit for n...</td>\n      <td>https://www.politifact.com/new-jersey/statemen...</td>\n      <td>0</td>\n      <td>25.925</td>\n    </tr>\n    <tr>\n      <th>16</th>\n      <td>unit_2</td>\n      <td>DEM_HALFTRUE_doc3</td>\n      <td>HALFTRUE</td>\n      <td>1</td>\n      <td>4</td>\n      <td>3</td>\n      <td>9</td>\n      <td>1</td>\n      <td>1</td>\n      <td>2</td>\n      <td>1</td>\n      <td>1</td>\n      <td>1</td>\n      <td>40.0</td>\n      <td>Poltifact is generally spot on</td>\n      <td>https://www.politifact.com/global-news/stateme...</td>\n      <td>0</td>\n      <td>50.470</td>\n    </tr>\n    <tr>\n      <th>24</th>\n      <td>unit_3</td>\n      <td>DEM_BARELYTRUE_doc9</td>\n      <td>BARELYTRUE</td>\n      <td>1</td>\n      <td>4</td>\n      <td>4</td>\n      <td>6</td>\n      <td>3</td>\n      <td>2</td>\n      <td>3</td>\n      <td>1</td>\n      <td>2</td>\n      <td>1</td>\n      <td>17.0</td>\n      <td>the 40-percent figure, refers to all gun trans...</td>\n      <td>https://www.washingtonpost.com/news/fact-check...</td>\n      <td>0</td>\n      <td>313.121</td>\n    </tr>\n    <tr>\n      <th>32</th>\n      <td>unit_4</td>\n      <td>REP_LIE_doc6</td>\n      <td>LIE</td>\n      <td>1</td>\n      <td>3</td>\n      <td>4</td>\n      <td>7</td>\n      <td>3</td>\n      <td>2</td>\n      <td>4</td>\n      <td>1</td>\n      <td>1</td>\n      <td>1</td>\n      <td>10.0</td>\n      <td>Since its passage in April 2006, the Massachus...</td>\n      <td>https://www.healthaffairs.org/doi/full/10.1377...</td>\n      <td>0</td>\n      <td>116.611</td>\n    </tr>\n  </tbody>\n</table>\n</div>"
     },
     "metadata": {}
    }
   ],
   "execution_count": null
  },
  {
   "cell_type": "code",
   "metadata": {
    "tags": [],
    "deepnote_to_be_reexecuted": false,
    "source_hash": "56b44b3e",
    "execution_start": 1641811707464,
    "execution_millis": 69643,
    "cell_id": "00004-cee7230a-081b-458f-8e6f-23bae93066de",
    "deepnote_cell_type": "code"
   },
   "source": "print(len(df))",
   "outputs": [
    {
     "name": "stdout",
     "text": "200\n",
     "output_type": "stream",
     "data": {}
    }
   ],
   "execution_count": null
  },
  {
   "cell_type": "code",
   "metadata": {
    "tags": [],
    "deepnote_to_be_reexecuted": false,
    "source_hash": "58c7419e",
    "execution_start": 1641811707472,
    "execution_millis": 16,
    "deepnote_table_state": {
     "pageSize": 50,
     "pageIndex": 0,
     "filters": [],
     "sortBy": []
    },
    "deepnote_table_loading": false,
    "deepnote_table_invalid": false,
    "cell_id": "00005-7918f8ac-0349-4279-9a9b-ac67b16dba49",
    "deepnote_cell_type": "code"
   },
   "source": "dfcorr = df.copy()\n\ndfcorr.loc[dfcorr.elections == 3, 'elections'] = float('nan')\ndfcorr.loc[dfcorr.teaparty == 3, 'teaparty'] = float('nan')\ndfcorr.loc[dfcorr.gender == -1, 'gender'] = float('nan')\n\ndfcorr['republican'] = 0\ndfcorr['democrat'] = 0\ndfcorr['independent'] = 0\ndfcorr['somethingElse'] = 0\n\n#renaming party\ndfcorr.loc[dfcorr.party == 1, 'republican'] = 1\ndfcorr.loc[dfcorr.party == 2, 'democrat'] = 1\ndfcorr.loc[dfcorr.party == 3, 'independent'] = 1\ndfcorr.loc[dfcorr.party == 4, 'somethingElse'] = 1\n\ndfcorr = dfcorr.drop(columns=['party', 'position_in_task', 'off_page_count'])\n\n#display(dfcorr.head(50))",
   "outputs": [],
   "execution_count": null
  },
  {
   "cell_type": "code",
   "metadata": {
    "tags": [],
    "deepnote_to_be_reexecuted": false,
    "source_hash": "bcf7ffe5",
    "execution_start": 1641811707495,
    "execution_millis": 544,
    "deepnote_output_heights": [
     535
    ],
    "cell_id": "00006-21a14ef7-98f6-4840-b7f2-2542c65003a5",
    "deepnote_cell_type": "code"
   },
   "source": "fig, ax = plt.subplots(figsize=(8,8))   \nsns.heatmap(dfcorr.corr(), ax=ax);",
   "outputs": [
    {
     "data": {
      "text/plain": "<Figure size 576x576 with 2 Axes>",
      "image/png": "[encoded data removed]"
     },
     "metadata": {
      "needs_background": "light",
      "image/png": {
       "width": 527,
       "height": 533
      }
     },
     "output_type": "display_data"
    }
   ],
   "execution_count": null
  },
  {
   "cell_type": "code",
   "metadata": {
    "tags": [],
    "deepnote_to_be_reexecuted": false,
    "source_hash": "9a340beb",
    "execution_start": 1641811708022,
    "execution_millis": 17,
    "cell_id": "00007-cb6fbaf5-f574-4f9c-b8ea-3c5ee5863a3b",
    "deepnote_cell_type": "code"
   },
   "source": "#renaming Gender\ndf.loc[df.gender == 1, 'gender'] = 'Male'\ndf.loc[df.gender == 2, 'gender'] = 'Female'\ndf.loc[df.gender == -1, 'gender'] = 'Other/No Answer'\n\n#renaming party_in\ndf.loc[df.party_ln == 1, 'party_ln'] = 'The Republican Party'\ndf.loc[df.party_ln == 2, 'party_ln'] = 'The Democratic Party'",
   "outputs": [],
   "execution_count": null
  },
  {
   "cell_type": "code",
   "metadata": {
    "tags": [],
    "deepnote_to_be_reexecuted": false,
    "source_hash": "589099fe",
    "execution_start": 1641811708041,
    "execution_millis": 22,
    "deepnote_output_heights": [
     270.79998779296875
    ],
    "cell_id": "00008-cb1cbf57-2815-47d3-b758-062a9b1f7e53",
    "deepnote_cell_type": "code"
   },
   "source": "#wie sind wähler bestimmter parteien?\n#mediangehälter und bildungsgrad von Republikaner und Demokraten\n#alter von Demokraten und Republikaner\n#Histogramm Geschlechter Parteizugehörigkeit 4 Felder Matrix\n\nselect_df = df.loc[:, df.columns.intersection(['party_ln','income','gender', 'school'])]\nrep_df = select_df.drop(select_df[select_df.party_ln != 'The Republican Party'].index)\ndem_df = select_df.drop(select_df[select_df.party_ln != 'The Democratic Party'].index)",
   "outputs": [],
   "execution_count": null
  },
  {
   "cell_type": "code",
   "metadata": {
    "tags": [],
    "deepnote_to_be_reexecuted": false,
    "source_hash": "b0f98587",
    "execution_start": 1641811708068,
    "execution_millis": 69472,
    "cell_id": "00009-68f1a189-4ad0-44e9-8fd9-be914d1cb6cf",
    "deepnote_cell_type": "code"
   },
   "source": "print(rep_df['income'].mean())\nprint(dem_df['income'].mean())",
   "outputs": [
    {
     "name": "stdout",
     "text": "6.43956043956044\n5.458715596330276\n",
     "output_type": "stream",
     "data": {}
    }
   ],
   "execution_count": null
  },
  {
   "cell_type": "code",
   "metadata": {
    "tags": [],
    "deepnote_to_be_reexecuted": false,
    "source_hash": "ee089282",
    "execution_start": 1641811708117,
    "execution_millis": 214,
    "cell_id": "00010-9febfb06-4d93-40cd-b04a-87dc9e6b15cc",
    "deepnote_cell_type": "code"
   },
   "source": "print(rep_df['school'].mean())\nprint(dem_df['school'].mean())",
   "outputs": [
    {
     "name": "stdout",
     "text": "4.34065934065934\n4.10091743119266\n",
     "output_type": "stream",
     "data": {}
    }
   ],
   "execution_count": null
  },
  {
   "cell_type": "code",
   "metadata": {
    "tags": [],
    "deepnote_to_be_reexecuted": false,
    "source_hash": "d0c0ab9d",
    "execution_start": 1641811708118,
    "execution_millis": 214,
    "cell_id": "00011-e67c7176-d2db-4659-b185-0b9fb8c36a96",
    "deepnote_cell_type": "code"
   },
   "source": "print(rep_df['gender'].value_counts())\nprint(dem_df['gender'].value_counts())",
   "outputs": [
    {
     "name": "stdout",
     "text": "Male      59\nFemale    32\nName: gender, dtype: int64\nMale      70\nFemale    39\nName: gender, dtype: int64\n",
     "output_type": "stream",
     "data": {}
    }
   ],
   "execution_count": null
  },
  {
   "cell_type": "code",
   "metadata": {
    "tags": [],
    "deepnote_to_be_reexecuted": false,
    "source_hash": "271e20d0",
    "execution_start": 1641811708119,
    "execution_millis": 933,
    "deepnote_output_heights": [
     266,
     266
    ],
    "cell_id": "00012-f3dcef3f-3e05-40e3-9e32-6ffe894996e6",
    "deepnote_cell_type": "code"
   },
   "source": "hist = rep_df.hist(bins = 48)\nhist = dem_df.hist(bins = 48)",
   "outputs": [
    {
     "data": {
      "text/plain": "<Figure size 432x288 with 2 Axes>",
      "image/png": "[encoded data removed]"
     },
     "metadata": {
      "needs_background": "light",
      "image/png": {
       "width": 368,
       "height": 264
      }
     },
     "output_type": "display_data"
    },
    {
     "data": {
      "text/plain": "<Figure size 432x288 with 2 Axes>",
      "image/png": "[encoded data removed]"
     },
     "metadata": {
      "needs_background": "light",
      "image/png": {
       "width": 368,
       "height": 264
      }
     },
     "output_type": "display_data"
    }
   ],
   "execution_count": null
  },
  {
   "cell_type": "code",
   "metadata": {
    "tags": [],
    "deepnote_to_be_reexecuted": false,
    "source_hash": "d63feab1",
    "execution_start": 1641811709101,
    "execution_millis": 189,
    "deepnote_output_heights": [
     21.199996948242188,
     276
    ],
    "cell_id": "00013-505c30b7-632c-4045-9c64-ca02383be7c9",
    "deepnote_cell_type": "code"
   },
   "source": "rep_df.gender.value_counts().sort_values().plot(kind = 'bar')",
   "outputs": [
    {
     "output_type": "execute_result",
     "execution_count": 13,
     "data": {
      "text/plain": "<AxesSubplot:>"
     },
     "metadata": {}
    },
    {
     "data": {
      "text/plain": "<Figure size 432x288 with 1 Axes>",
      "image/png": "[encoded data removed]"
     },
     "metadata": {
      "needs_background": "light",
      "image/png": {
       "width": 368,
       "height": 274
      }
     },
     "output_type": "display_data"
    }
   ],
   "execution_count": null
  },
  {
   "cell_type": "code",
   "metadata": {
    "tags": [],
    "deepnote_to_be_reexecuted": false,
    "source_hash": "fb9a8dd8",
    "execution_start": 1641811709290,
    "execution_millis": 216,
    "deepnote_output_heights": [
     21.199996948242188,
     276
    ],
    "cell_id": "00014-6e89f923-c1b6-4ebe-aa9d-59a8a8403e13",
    "deepnote_cell_type": "code"
   },
   "source": "dem_df.gender.value_counts().sort_values().plot(kind = 'bar')",
   "outputs": [
    {
     "output_type": "execute_result",
     "execution_count": 14,
     "data": {
      "text/plain": "<AxesSubplot:>"
     },
     "metadata": {}
    },
    {
     "data": {
      "text/plain": "<Figure size 432x288 with 1 Axes>",
      "image/png": "[encoded data removed]"
     },
     "metadata": {
      "needs_background": "light",
      "image/png": {
       "width": 368,
       "height": 274
      }
     },
     "output_type": "display_data"
    }
   ],
   "execution_count": null
  },
  {
   "cell_type": "code",
   "metadata": {
    "tags": [],
    "deepnote_to_be_reexecuted": false,
    "source_hash": "51966b80",
    "execution_start": 1641811709506,
    "execution_millis": 180,
    "deepnote_output_heights": [
     21.199996948242188,
     276
    ],
    "cell_id": "00015-dbf37c35-5792-4750-a252-a478a6ce74c0",
    "deepnote_cell_type": "code"
   },
   "source": "df.gender.value_counts().sort_values().plot(kind = 'bar')",
   "outputs": [
    {
     "output_type": "execute_result",
     "execution_count": 15,
     "data": {
      "text/plain": "<AxesSubplot:>"
     },
     "metadata": {}
    },
    {
     "data": {
      "text/plain": "<Figure size 432x288 with 1 Axes>",
      "image/png": "[encoded data removed]"
     },
     "metadata": {
      "needs_background": "light",
      "image/png": {
       "width": 375,
       "height": 274
      }
     },
     "output_type": "display_data"
    }
   ],
   "execution_count": null
  },
  {
   "cell_type": "code",
   "metadata": {
    "tags": [],
    "deepnote_to_be_reexecuted": false,
    "source_hash": "4057e97d",
    "execution_start": 1641811709701,
    "execution_millis": 15,
    "cell_id": "00016-27fe37e7-d3da-4699-8869-47fec9fa24f0",
    "deepnote_cell_type": "code"
   },
   "source": "#onehotencode gender\nselect_df.loc[select_df.gender == 'Female', 'gender'] = 1\nselect_df.loc[select_df.gender == 'Male', 'gender'] = 0\nselect_df.loc[select_df.gender == 'Other/No Answer', 'gender'] = float(\"nan\")\n\n#onehotencode target variable\nselect_df.loc[select_df.party_ln == 'The Democratic Party', 'party_ln'] = 1\nselect_df.loc[select_df.party_ln == 'The Republican Party', 'party_ln'] = 0\n\nselect_df = select_df.dropna()",
   "outputs": [],
   "execution_count": null
  },
  {
   "cell_type": "code",
   "metadata": {
    "tags": [],
    "deepnote_to_be_reexecuted": false,
    "source_hash": "fcc34fc4",
    "execution_start": 1641811709729,
    "execution_millis": 20,
    "deepnote_output_heights": [
     611
    ],
    "cell_id": "00017-56fcd219-3360-49ed-8236-65496fa4acb5",
    "deepnote_cell_type": "code"
   },
   "source": "X = select_df.drop(columns=['party_ln'])\ny = select_df['party_ln']\ny = y.astype('int') ",
   "outputs": [],
   "execution_count": null
  },
  {
   "cell_type": "code",
   "metadata": {
    "tags": [],
    "deepnote_to_be_reexecuted": false,
    "source_hash": "c26c694f",
    "execution_start": 1641811709750,
    "execution_millis": 56,
    "deepnote_output_heights": [
     40.399993896484375
    ],
    "cell_id": "00018-9a621ae1-4191-4ee5-8ea1-9ad5c98d58a8",
    "deepnote_cell_type": "code"
   },
   "source": "model = LogisticRegression(solver='liblinear', random_state=10).fit(X, y)\nmodel.predict_proba(X)\nmodel.predict(X)\nmodel.score(X, y)\nconfusion_matrix(y, model.predict(X))",
   "outputs": [
    {
     "output_type": "execute_result",
     "execution_count": 18,
     "data": {
      "text/plain": "array([[46, 45],\n       [29, 80]])"
     },
     "metadata": {}
    }
   ],
   "execution_count": null
  },
  {
   "cell_type": "code",
   "metadata": {
    "tags": [],
    "deepnote_to_be_reexecuted": false,
    "source_hash": "876b4632",
    "execution_start": 1641811709809,
    "execution_millis": 345,
    "deepnote_output_heights": [
     468
    ],
    "cell_id": "00019-c9bbb8c9-4c23-43a9-a2e5-58ac6b494d69",
    "deepnote_cell_type": "code"
   },
   "source": "cm = confusion_matrix(y, model.predict(X))\n\nfig, ax = plt.subplots(figsize=(8, 8))\nax.imshow(cm)\nax.grid(False)\nax.xaxis.set(ticks=(0, 1), ticklabels=('Predicted 0s', 'Predicted 1s'))\nax.yaxis.set(ticks=(0, 1), ticklabels=('Actual 0s', 'Actual 1s'))\nax.set_ylim(1.5, -0.5)\nfor i in range(2):\n    for j in range(2):\n        ax.text(j, i, cm[i, j], ha='center', va='center', color='red')\nplt.show()\n",
   "outputs": [
    {
     "data": {
      "text/plain": "<Figure size 576x576 with 1 Axes>",
      "image/png": "[encoded data removed]"
     },
     "metadata": {
      "needs_background": "light",
      "image/png": {
       "width": 502,
       "height": 466
      }
     },
     "output_type": "display_data"
    }
   ],
   "execution_count": null
  },
  {
   "cell_type": "code",
   "metadata": {
    "tags": [],
    "deepnote_to_be_reexecuted": false,
    "source_hash": "befa2478",
    "execution_start": 1641811710162,
    "execution_millis": 38,
    "cell_id": "00020-8f483800-378e-4e78-8acc-8b23fc907405",
    "deepnote_cell_type": "code"
   },
   "source": "print(classification_report(y, model.predict(X)))",
   "outputs": [
    {
     "name": "stdout",
     "text": "              precision    recall  f1-score   support\n\n           0       0.61      0.51      0.55        91\n           1       0.64      0.73      0.68       109\n\n    accuracy                           0.63       200\n   macro avg       0.63      0.62      0.62       200\nweighted avg       0.63      0.63      0.62       200\n\n",
     "output_type": "stream",
     "data": {}
    }
   ],
   "execution_count": null
  },
  {
   "cell_type": "code",
   "metadata": {
    "tags": [],
    "deepnote_to_be_reexecuted": false,
    "source_hash": "7497b720",
    "execution_start": 1641811710216,
    "execution_millis": 473,
    "deepnote_table_state": {
     "pageSize": 10,
     "pageIndex": 3,
     "filters": [],
     "sortBy": []
    },
    "deepnote_table_loading": false,
    "deepnote_table_invalid": false,
    "cell_id": "00021-fa212778-c7e0-47ca-b499-636c57df6135",
    "deepnote_cell_type": "code"
   },
   "source": "#renaming Age\ndf.loc[df.age == 1, 'age'] = '0-18'\ndf.loc[df.age == 2, 'age'] = '19-25'\ndf.loc[df.age == 3, 'age'] = '26-35'\ndf.loc[df.age == 4, 'age'] = '36-50'\ndf.loc[df.age == 5, 'age'] = '50-80'\ndf.loc[df.age == 6, 'age'] = '80'\n\n#renaming school\ndf.loc[df.school == 1, 'school'] = 'High school incomplete or less'\ndf.loc[df.school == 2, 'school'] = 'High school graduate or GED (includes technical/vocational training that doesn’t count towards college credit)'\ndf.loc[df.school == 3, 'school'] = 'Some college (some community college, associate’s degree)'\ndf.loc[df.school == 4, 'school'] = 'Four year college degree/bachelor’s degree'\ndf.loc[df.school == 5, 'school'] = 'Some postgraduate or professional schooling, no postgraduate degree'\ndf.loc[df.school == 6, 'school'] = 'Postgraduate or professional degree, including master’s, doctorate, medical or law degree'\n\n#renaming income\ndf.loc[df.income == 1, 'income'] = 'Less than $10,000'\ndf.loc[df.income == 2, 'income'] = '$10,000 to less than $20,000'\ndf.loc[df.income == 3, 'income'] = '$20,000 to less than $30,000'\ndf.loc[df.income == 4, 'income'] = '$30,000 to less than $40,000'\ndf.loc[df.income == 5, 'income'] = '$40,000 to less than $50,000'\ndf.loc[df.income == 6, 'income'] = '$50,000 to less than $75,000'\ndf.loc[df.income == 7, 'income'] = '$75,000 to less than $100,000'\ndf.loc[df.income == 8, 'income'] = '$100,000 to less than $150,000'\ndf.loc[df.income == 9, 'income'] = '$150,000 or more'\n\n#renaming party\ndf.loc[df.party == 1, 'party'] = 'Republican'\ndf.loc[df.party == 2, 'party'] = 'Democrat'\ndf.loc[df.party == 3, 'party'] = 'Indipendent'\ndf.loc[df.party == 4, 'party'] = 'Something else'\n\n#renaming ideo\ndf.loc[df.ideo == 1, 'ideo'] = 'Very conservative'\ndf.loc[df.ideo == 2, 'ideo'] = 'Conservative'\ndf.loc[df.ideo == 3, 'ideo'] = 'Moderate'\ndf.loc[df.ideo == 4, 'ideo'] = 'Liberal'\ndf.loc[df.ideo == 5, 'ideo'] = 'Very Liberal'\n\n#renaming elections\ndf.loc[df.elections == 1, 'elections'] = 'Yes'\ndf.loc[df.elections == 1, 'elections'] = 'No'\ndf.loc[df.elections == 1, 'elections'] = 'Rather not answer'\n\n#renaming teaparty\ndf.loc[df.teaparty == 1, 'teaparty'] = 'Agree'\ndf.loc[df.teaparty == 2, 'teaparty'] = 'Disagree'\ndf.loc[df.teaparty == 3, 'teaparty'] = 'No opinion either way'\n\n\n\ndisplay(df)",
   "outputs": [
    {
     "data": {
      "application/vnd.deepnote.dataframe.v3+json": {
       "column_count": 18,
       "row_count": 200,
       "columns": [
        {
         "name": "unit_id",
         "dtype": "object",
         "stats": {
          "unique_count": 200,
          "nan_count": 0,
          "categories": [
           {
            "name": "unit_0",
            "count": 1
           },
           {
            "name": "unit_1",
            "count": 1
           },
           {
            "name": "198 others",
            "count": 198
           }
          ]
         }
        },
        {
         "name": "doc_id",
         "dtype": "object",
         "stats": {
          "unique_count": 85,
          "nan_count": 0,
          "categories": [
           {
            "name": "LOW",
            "count": 31
           },
           {
            "name": "HIGH",
            "count": 25
           },
           {
            "name": "83 others",
            "count": 144
           }
          ]
         }
        },
        {
         "name": "rel",
         "dtype": "object",
         "stats": {
          "unique_count": 8,
          "nan_count": 0,
          "categories": [
           {
            "name": "LOW",
            "count": 31
           },
           {
            "name": "TRUE",
            "count": 27
           },
           {
            "name": "6 others",
            "count": 142
           }
          ]
         }
        },
        {
         "name": "gender",
         "dtype": "object",
         "stats": {
          "unique_count": 2,
          "nan_count": 0,
          "categories": [
           {
            "name": "Male",
            "count": 129
           },
           {
            "name": "Female",
            "count": 71
           }
          ]
         }
        },
        {
         "name": "age",
         "dtype": "object",
         "stats": {
          "unique_count": 4,
          "nan_count": 0,
          "categories": [
           {
            "name": "26-35",
            "count": 97
           },
           {
            "name": "36-50",
            "count": 70
           },
           {
            "name": "2 others",
            "count": 33
           }
          ]
         }
        },
        {
         "name": "school",
         "dtype": "object",
         "stats": {
          "unique_count": 6,
          "nan_count": 0,
          "categories": [
           {
            "name": "Four year college degree/bachelor’s degree",
            "count": 97
           },
           {
            "name": "Postgraduate or professional degree, including master’s, doctorate, medical or law degree",
            "count": 42
           },
           {
            "name": "4 others",
            "count": 61
           }
          ]
         }
        },
        {
         "name": "income",
         "dtype": "object",
         "stats": {
          "unique_count": 9,
          "nan_count": 0,
          "categories": [
           {
            "name": "$50,000 to less than $75,000",
            "count": 62
           },
           {
            "name": "$75,000 to less than $100,000",
            "count": 33
           },
           {
            "name": "7 others",
            "count": 105
           }
          ]
         }
        },
        {
         "name": "party",
         "dtype": "object",
         "stats": {
          "unique_count": 4,
          "nan_count": 0,
          "categories": [
           {
            "name": "Democrat",
            "count": 67
           },
           {
            "name": "Republican",
            "count": 66
           },
           {
            "name": "2 others",
            "count": 67
           }
          ]
         }
        },
        {
         "name": "party_ln",
         "dtype": "object",
         "stats": {
          "unique_count": 2,
          "nan_count": 0,
          "categories": [
           {
            "name": "The Democratic Party",
            "count": 109
           },
           {
            "name": "The Republican Party",
            "count": 91
           }
          ]
         }
        },
        {
         "name": "ideo",
         "dtype": "object",
         "stats": {
          "unique_count": 5,
          "nan_count": 0,
          "categories": [
           {
            "name": "Conservative",
            "count": 55
           },
           {
            "name": "Moderate",
            "count": 52
           },
           {
            "name": "3 others",
            "count": 93
           }
          ]
         }
        },
        {
         "name": "elections",
         "dtype": "object",
         "stats": {
          "unique_count": 3,
          "nan_count": 0,
          "categories": [
           {
            "name": "Yes",
            "count": 173
           },
           {
            "name": "2",
            "count": 22
           },
           {
            "name": "3",
            "count": 5
           }
          ]
         }
        },
        {
         "name": "teaparty",
         "dtype": "object",
         "stats": {
          "unique_count": 3,
          "nan_count": 0,
          "categories": [
           {
            "name": "Disagree",
            "count": 74
           },
           {
            "name": "No opinion either way",
            "count": 74
           },
           {
            "name": "Agree",
            "count": 52
           }
          ]
         }
        },
        {
         "name": "position_in_task",
         "dtype": "int64",
         "stats": {
          "unique_count": 2,
          "nan_count": 0,
          "min": "1",
          "max": "4",
          "histogram": [
           {
            "bin_start": 1,
            "bin_end": 1.3,
            "count": 11
           },
           {
            "bin_start": 1.3,
            "bin_end": 1.6,
            "count": 0
           },
           {
            "bin_start": 1.6,
            "bin_end": 1.9,
            "count": 0
           },
           {
            "bin_start": 1.9,
            "bin_end": 2.2,
            "count": 0
           },
           {
            "bin_start": 2.2,
            "bin_end": 2.5,
            "count": 0
           },
           {
            "bin_start": 2.5,
            "bin_end": 2.8,
            "count": 0
           },
           {
            "bin_start": 2.8,
            "bin_end": 3.1,
            "count": 0
           },
           {
            "bin_start": 3.1,
            "bin_end": 3.4,
            "count": 0
           },
           {
            "bin_start": 3.4,
            "bin_end": 3.6999999999999997,
            "count": 0
           },
           {
            "bin_start": 3.6999999999999997,
            "bin_end": 4,
            "count": 189
           }
          ]
         }
        },
        {
         "name": "S100_rel",
         "dtype": "float64",
         "stats": {
          "unique_count": 56,
          "nan_count": 1,
          "min": "0.0",
          "max": "100.0",
          "histogram": [
           {
            "bin_start": 0,
            "bin_end": 10,
            "count": 53
           },
           {
            "bin_start": 10,
            "bin_end": 20,
            "count": 13
           },
           {
            "bin_start": 20,
            "bin_end": 30,
            "count": 6
           },
           {
            "bin_start": 30,
            "bin_end": 40,
            "count": 1
           },
           {
            "bin_start": 40,
            "bin_end": 50,
            "count": 6
           },
           {
            "bin_start": 50,
            "bin_end": 60,
            "count": 22
           },
           {
            "bin_start": 60,
            "bin_end": 70,
            "count": 9
           },
           {
            "bin_start": 70,
            "bin_end": 80,
            "count": 11
           },
           {
            "bin_start": 80,
            "bin_end": 90,
            "count": 13
           },
           {
            "bin_start": 90,
            "bin_end": 100,
            "count": 65
           }
          ]
         }
        },
        {
         "name": "justification",
         "dtype": "object",
         "stats": {
          "unique_count": 200,
          "nan_count": 0,
          "categories": [
           {
            "name": "Rick Perry was governor of Texas, not Massachusetts.  ",
            "count": 1
           },
           {
            "name": "\r\r\nThe average annual pension benefit for new retirees in the judicial pension system is the largest. And judges contributed, prior to the pension and benefit reform law, 3 percent of their salary toward their pension,  the smallest percentage among public employees.\r\r\n\r\r\nWe rate Christie’s statement True.",
            "count": 1
           },
           {
            "name": "198 others",
            "count": 198
           }
          ]
         }
        },
        {
         "name": "url",
         "dtype": "object",
         "stats": {
          "unique_count": 154,
          "nan_count": 0,
          "categories": [
           {
            "name": "https://en.wikipedia.org/wiki/Barack_Obama_2008_presidential_campaign#Slogan",
            "count": 6
           },
           {
            "name": "https://en.wikipedia.org/wiki/Formula_One",
            "count": 6
           },
           {
            "name": "152 others",
            "count": 188
           }
          ]
         }
        },
        {
         "name": "off_page_count",
         "dtype": "int64",
         "stats": {
          "unique_count": 8,
          "nan_count": 0,
          "min": "0",
          "max": "7",
          "histogram": [
           {
            "bin_start": 0,
            "bin_end": 0.7,
            "count": 43
           },
           {
            "bin_start": 0.7,
            "bin_end": 1.4,
            "count": 59
           },
           {
            "bin_start": 1.4,
            "bin_end": 2.0999999999999996,
            "count": 43
           },
           {
            "bin_start": 2.0999999999999996,
            "bin_end": 2.8,
            "count": 0
           },
           {
            "bin_start": 2.8,
            "bin_end": 3.5,
            "count": 28
           },
           {
            "bin_start": 3.5,
            "bin_end": 4.199999999999999,
            "count": 16
           },
           {
            "bin_start": 4.199999999999999,
            "bin_end": 4.8999999999999995,
            "count": 0
           },
           {
            "bin_start": 4.8999999999999995,
            "bin_end": 5.6,
            "count": 7
           },
           {
            "bin_start": 5.6,
            "bin_end": 6.3,
            "count": 3
           },
           {
            "bin_start": 6.3,
            "bin_end": 7,
            "count": 1
           }
          ]
         }
        },
        {
         "name": "time",
         "dtype": "float64",
         "stats": {
          "unique_count": 199,
          "nan_count": 1,
          "min": "9.432",
          "max": "653.972",
          "histogram": [
           {
            "bin_start": 9.432,
            "bin_end": 73.886,
            "count": 82
           },
           {
            "bin_start": 73.886,
            "bin_end": 138.33999999999997,
            "count": 52
           },
           {
            "bin_start": 138.33999999999997,
            "bin_end": 202.79399999999995,
            "count": 30
           },
           {
            "bin_start": 202.79399999999995,
            "bin_end": 267.248,
            "count": 18
           },
           {
            "bin_start": 267.248,
            "bin_end": 331.702,
            "count": 8
           },
           {
            "bin_start": 331.702,
            "bin_end": 396.15599999999995,
            "count": 1
           },
           {
            "bin_start": 396.15599999999995,
            "bin_end": 460.60999999999996,
            "count": 5
           },
           {
            "bin_start": 460.60999999999996,
            "bin_end": 525.064,
            "count": 0
           },
           {
            "bin_start": 525.064,
            "bin_end": 589.5179999999999,
            "count": 1
           },
           {
            "bin_start": 589.5179999999999,
            "bin_end": 653.972,
            "count": 2
           }
          ]
         }
        },
        {
         "name": "_deepnote_index_column",
         "dtype": "int64"
        }
       ],
       "rows": [
        {
         "unit_id": "unit_30",
         "doc_id": "DEM_FALSE_doc4",
         "rel": "FALSE",
         "gender": "Male",
         "age": "26-35",
         "school": "Four year college degree/bachelor’s degree",
         "income": "$20,000 to less than $30,000",
         "party": "Republican",
         "party_ln": "The Republican Party",
         "ideo": "Liberal",
         "elections": "Yes",
         "teaparty": "Agree",
         "position_in_task": 4,
         "S100_rel": 83,
         "justification": "cool justification",
         "url": "https://www.politifact.com/personalities/gina-raimondo/statements/about/",
         "off_page_count": 0,
         "time": 17.233,
         "_deepnote_index_column": 240
        },
        {
         "unit_id": "unit_31",
         "doc_id": "HIGH",
         "rel": "HIGH",
         "gender": "Female",
         "age": "36-50",
         "school": "Some postgraduate or professional schooling, no postgraduate degree",
         "income": "$50,000 to less than $75,000",
         "party": "Indipendent",
         "party_ln": "The Democratic Party",
         "ideo": "Moderate",
         "elections": "Yes",
         "teaparty": "Disagree",
         "position_in_task": 4,
         "S100_rel": 100,
         "justification": "This is a direct quote of a well documented speech.",
         "url": "https://www.nytimes.com/2008/01/08/us/politics/08text-obama.html",
         "off_page_count": 1,
         "time": 109.262,
         "_deepnote_index_column": 248
        },
        {
         "unit_id": "unit_32",
         "doc_id": "REP_LIE_doc1",
         "rel": "LIE",
         "gender": "Male",
         "age": "36-50",
         "school": "Postgraduate or professional degree, including master’s, doctorate, medical or law degree",
         "income": "$75,000 to less than $100,000",
         "party": "Indipendent",
         "party_ln": "The Republican Party",
         "ideo": "Conservative",
         "elections": "Yes",
         "teaparty": "No opinion either way",
         "position_in_task": 4,
         "S100_rel": 24,
         "justification": "There may be some truth in it but not all the facts were collected. Mostly due to illegal redemptio…",
         "url": "https://www.politifact.com/oregon/statements/2011/jun/06/jeff-kruse/state-senator-says-two-states-b…",
         "off_page_count": 2,
         "time": 187.719,
         "_deepnote_index_column": 256
        },
        {
         "unit_id": "unit_33",
         "doc_id": "LOW",
         "rel": "LOW",
         "gender": "Female",
         "age": "36-50",
         "school": "Some college (some community college, associate’s degree)",
         "income": "$40,000 to less than $50,000",
         "party": "Something else",
         "party_ln": "The Republican Party",
         "ideo": "Moderate",
         "elections": "Yes",
         "teaparty": "No opinion either way",
         "position_in_task": 4,
         "S100_rel": 0,
         "justification": "This person was not alive at the time of football and Formula One.",
         "url": "https://en.wikipedia.org/wiki/Abraham_Lincoln",
         "off_page_count": 1,
         "time": 95.362,
         "_deepnote_index_column": 264
        },
        {
         "unit_id": "unit_34",
         "doc_id": "REP_TRUE_doc6",
         "rel": "TRUE",
         "gender": "Male",
         "age": "36-50",
         "school": "Four year college degree/bachelor’s degree",
         "income": "$50,000 to less than $75,000",
         "party": "Something else",
         "party_ln": "The Democratic Party",
         "ideo": "Moderate",
         "elections": "Yes",
         "teaparty": "No opinion either way",
         "position_in_task": 4,
         "S100_rel": 0,
         "justification": "Not a true statement from Rick Perry",
         "url": "https://www.debt.org/government/",
         "off_page_count": 1,
         "time": 142.014,
         "_deepnote_index_column": 272
        },
        {
         "unit_id": "unit_35",
         "doc_id": "DEM_TRUE_doc3",
         "rel": "TRUE",
         "gender": "Male",
         "age": "36-50",
         "school": "Four year college degree/bachelor’s degree",
         "income": "$100,000 to less than $150,000",
         "party": "Indipendent",
         "party_ln": "The Democratic Party",
         "ideo": "Moderate",
         "elections": "Yes",
         "teaparty": "Agree",
         "position_in_task": 4,
         "S100_rel": 100,
         "justification": "It's mathematically accurate",
         "url": "https://www.politifact.com/texas/statements/2014/mar/07/lee-leffingwell/austins-population-has-doub…",
         "off_page_count": 1,
         "time": 43.375,
         "_deepnote_index_column": 280
        },
        {
         "unit_id": "unit_36",
         "doc_id": "LOW",
         "rel": "LOW",
         "gender": "Male",
         "age": "26-35",
         "school": "Four year college degree/bachelor’s degree",
         "income": "$40,000 to less than $50,000",
         "party": "Democrat",
         "party_ln": "The Democratic Party",
         "ideo": "Very Liberal",
         "elections": "Yes",
         "teaparty": "Disagree",
         "position_in_task": 4,
         "S100_rel": 0,
         "justification": "Abraham Lincoln could not have flown planes and played football during the Civil War era!",
         "url": "https://en.wikipedia.org/wiki/Football",
         "off_page_count": 5,
         "time": 22.798,
         "_deepnote_index_column": 288
        },
        {
         "unit_id": "unit_37",
         "doc_id": "REP_BARELYTRUE_doc8",
         "rel": "BARELYTRUE",
         "gender": "Male",
         "age": "26-35",
         "school": "Four year college degree/bachelor’s degree",
         "income": "$50,000 to less than $75,000",
         "party": "Democrat",
         "party_ln": "The Democratic Party",
         "ideo": "Liberal",
         "elections": "Yes",
         "teaparty": "Disagree",
         "position_in_task": 4,
         "S100_rel": 100,
         "justification": "Paul Ryan did say these exact words. ",
         "url": "https://www.politifact.com/truth-o-meter/statements/2012/oct/12/paul-ryan/ryan-obama-promised-unemp…",
         "off_page_count": 2,
         "time": 33.152,
         "_deepnote_index_column": 296
        },
        {
         "unit_id": "unit_38",
         "doc_id": "DEM_FALSE_doc4",
         "rel": "FALSE",
         "gender": "Male",
         "age": "26-35",
         "school": "Four year college degree/bachelor’s degree",
         "income": "$75,000 to less than $100,000",
         "party": "Indipendent",
         "party_ln": "The Democratic Party",
         "ideo": "Very Liberal",
         "elections": "Yes",
         "teaparty": "Disagree",
         "position_in_task": 4,
         "S100_rel": 0,
         "justification": "Russia and China operate a lot more than us.",
         "url": "https://www.politifact.com/rhode-island/statements/2012/oct/22/david-cicilline/us-rep-david-cicilli…",
         "off_page_count": 1,
         "time": 39.581,
         "_deepnote_index_column": 304
        },
        {
         "unit_id": "unit_39",
         "doc_id": "DEM_LIE_doc2",
         "rel": "LIE",
         "gender": "Female",
         "age": "26-35",
         "school": "Some college (some community college, associate’s degree)",
         "income": "$40,000 to less than $50,000",
         "party": "Indipendent",
         "party_ln": "The Republican Party",
         "ideo": "Liberal",
         "elections": "2",
         "teaparty": "No opinion either way",
         "position_in_task": 4,
         "S100_rel": 0,
         "justification": "Biden's rhetoric is not backed up by the facts because it ignores Giuliani's considerable experienc…",
         "url": "https://www.politifact.com/truth-o-meter/statements/2007/nov/06/joe-biden/rudy-has-run-the-nations-…",
         "off_page_count": 4,
         "time": 160.218,
         "_deepnote_index_column": 312
        }
       ]
      },
      "text/plain": "       unit_id               doc_id         rel  gender    age  \\\n0       unit_0         REP_LIE_doc6         LIE  Female  50-80   \n8       unit_1        REP_TRUE_doc8        TRUE    Male  26-35   \n16      unit_2    DEM_HALFTRUE_doc3    HALFTRUE    Male  36-50   \n24      unit_3  DEM_BARELYTRUE_doc9  BARELYTRUE    Male  36-50   \n32      unit_4         REP_LIE_doc6         LIE    Male  26-35   \n...        ...                  ...         ...     ...    ...   \n1560  unit_195                  LOW         LOW    Male  50-80   \n1568  unit_196                 HIGH        HIGH  Female  26-35   \n1576  unit_197        REP_TRUE_doc4        TRUE    Male  26-35   \n1584  unit_198  REP_BARELYTRUE_doc3  BARELYTRUE  Female  26-35   \n1592  unit_199                 HIGH        HIGH    Male  36-50   \n\n                                                 school  \\\n0     Some college (some community college, associat...   \n8     Postgraduate or professional degree, including...   \n16    Some college (some community college, associat...   \n24           Four year college degree/bachelor’s degree   \n32           Four year college degree/bachelor’s degree   \n...                                                 ...   \n1560         Four year college degree/bachelor’s degree   \n1568  Postgraduate or professional degree, including...   \n1576         Four year college degree/bachelor’s degree   \n1584  Some postgraduate or professional schooling, n...   \n1592  Postgraduate or professional degree, including...   \n\n                             income        party              party_ln  \\\n0      $50,000 to less than $75,000  Indipendent  The Republican Party   \n8                  $150,000 or more   Republican  The Republican Party   \n16                 $150,000 or more   Republican  The Republican Party   \n24     $50,000 to less than $75,000  Indipendent  The Democratic Party   \n32    $75,000 to less than $100,000  Indipendent  The Democratic Party   \n...                             ...          ...                   ...   \n1560   $50,000 to less than $75,000  Indipendent  The Democratic Party   \n1568  $75,000 to less than $100,000     Democrat  The Democratic Party   \n1576   $20,000 to less than $30,000  Indipendent  The Democratic Party   \n1584   $50,000 to less than $75,000  Indipendent  The Republican Party   \n1592              Less than $10,000     Democrat  The Democratic Party   \n\n              ideo elections               teaparty  position_in_task  \\\n0     Conservative       Yes                  Agree                 1   \n8     Conservative       Yes                  Agree                 1   \n16    Conservative       Yes                  Agree                 1   \n24        Moderate       Yes               Disagree                 1   \n32         Liberal       Yes                  Agree                 1   \n...            ...       ...                    ...               ...   \n1560       Liberal       Yes  No opinion either way                 4   \n1568  Very Liberal       Yes               Disagree                 4   \n1576  Very Liberal       Yes               Disagree                 4   \n1584       Liberal         2               Disagree                 4   \n1592       Liberal       Yes               Disagree                 4   \n\n      S100_rel                                      justification  \\\n0          3.0  Rick Perry was governor of Texas, not Massachu...   \n8        100.0  \\r\\r\\nThe average annual pension benefit for n...   \n16        40.0                    Poltifact is generally spot on    \n24        17.0  the 40-percent figure, refers to all gun trans...   \n32        10.0  Since its passage in April 2006, the Massachus...   \n...        ...                                                ...   \n1560       0.0  Formula one did not exist during Lincoln's tim...   \n1568      99.0  this is was just a chant that we can do things...   \n1576     100.0            This is a true statement made by Romney   \n1584      66.0  miller's predecessors questioning whether the ...   \n1592     100.0                     That was his campaign slogan.    \n\n                                                    url  off_page_count  \\\n0              https://en.wikipedia.org/wiki/Rick_Perry               0   \n8     https://www.politifact.com/new-jersey/statemen...               0   \n16    https://www.politifact.com/global-news/stateme...               0   \n24    https://www.washingtonpost.com/news/fact-check...               0   \n32    https://www.healthaffairs.org/doi/full/10.1377...               0   \n...                                                 ...             ...   \n1560  https://en.wikipedia.org/wiki/American_footbal...               4   \n1568  https://en.wikipedia.org/wiki/Barack_Obama_200...               1   \n1576  https://www.politifact.com/truth-o-meter/state...               1   \n1584  https://www.texastribune.org/2015/04/11/sid-mi...               2   \n1592         https://en.wikipedia.org/wiki/Barack_Obama               1   \n\n         time  \n0      59.715  \n8      25.925  \n16     50.470  \n24    313.121  \n32    116.611  \n...       ...  \n1560  325.240  \n1568  114.089  \n1576   74.237  \n1584   51.948  \n1592   41.572  \n\n[200 rows x 18 columns]",
      "text/html": "<div>\n<style scoped>\n    .dataframe tbody tr th:only-of-type {\n        vertical-align: middle;\n    }\n\n    .dataframe tbody tr th {\n        vertical-align: top;\n    }\n\n    .dataframe thead th {\n        text-align: right;\n    }\n</style>\n<table border=\"1\" class=\"dataframe\">\n  <thead>\n    <tr style=\"text-align: right;\">\n      <th></th>\n      <th>unit_id</th>\n      <th>doc_id</th>\n      <th>rel</th>\n      <th>gender</th>\n      <th>age</th>\n      <th>school</th>\n      <th>income</th>\n      <th>party</th>\n      <th>party_ln</th>\n      <th>ideo</th>\n      <th>elections</th>\n      <th>teaparty</th>\n      <th>position_in_task</th>\n      <th>S100_rel</th>\n      <th>justification</th>\n      <th>url</th>\n      <th>off_page_count</th>\n      <th>time</th>\n    </tr>\n  </thead>\n  <tbody>\n    <tr>\n      <th>0</th>\n      <td>unit_0</td>\n      <td>REP_LIE_doc6</td>\n      <td>LIE</td>\n      <td>Female</td>\n      <td>50-80</td>\n      <td>Some college (some community college, associat...</td>\n      <td>$50,000 to less than $75,000</td>\n      <td>Indipendent</td>\n      <td>The Republican Party</td>\n      <td>Conservative</td>\n      <td>Yes</td>\n      <td>Agree</td>\n      <td>1</td>\n      <td>3.0</td>\n      <td>Rick Perry was governor of Texas, not Massachu...</td>\n      <td>https://en.wikipedia.org/wiki/Rick_Perry</td>\n      <td>0</td>\n      <td>59.715</td>\n    </tr>\n    <tr>\n      <th>8</th>\n      <td>unit_1</td>\n      <td>REP_TRUE_doc8</td>\n      <td>TRUE</td>\n      <td>Male</td>\n      <td>26-35</td>\n      <td>Postgraduate or professional degree, including...</td>\n      <td>$150,000 or more</td>\n      <td>Republican</td>\n      <td>The Republican Party</td>\n      <td>Conservative</td>\n      <td>Yes</td>\n      <td>Agree</td>\n      <td>1</td>\n      <td>100.0</td>\n      <td>\\r\\r\\nThe average annual pension benefit for n...</td>\n      <td>https://www.politifact.com/new-jersey/statemen...</td>\n      <td>0</td>\n      <td>25.925</td>\n    </tr>\n    <tr>\n      <th>16</th>\n      <td>unit_2</td>\n      <td>DEM_HALFTRUE_doc3</td>\n      <td>HALFTRUE</td>\n      <td>Male</td>\n      <td>36-50</td>\n      <td>Some college (some community college, associat...</td>\n      <td>$150,000 or more</td>\n      <td>Republican</td>\n      <td>The Republican Party</td>\n      <td>Conservative</td>\n      <td>Yes</td>\n      <td>Agree</td>\n      <td>1</td>\n      <td>40.0</td>\n      <td>Poltifact is generally spot on</td>\n      <td>https://www.politifact.com/global-news/stateme...</td>\n      <td>0</td>\n      <td>50.470</td>\n    </tr>\n    <tr>\n      <th>24</th>\n      <td>unit_3</td>\n      <td>DEM_BARELYTRUE_doc9</td>\n      <td>BARELYTRUE</td>\n      <td>Male</td>\n      <td>36-50</td>\n      <td>Four year college degree/bachelor’s degree</td>\n      <td>$50,000 to less than $75,000</td>\n      <td>Indipendent</td>\n      <td>The Democratic Party</td>\n      <td>Moderate</td>\n      <td>Yes</td>\n      <td>Disagree</td>\n      <td>1</td>\n      <td>17.0</td>\n      <td>the 40-percent figure, refers to all gun trans...</td>\n      <td>https://www.washingtonpost.com/news/fact-check...</td>\n      <td>0</td>\n      <td>313.121</td>\n    </tr>\n    <tr>\n      <th>32</th>\n      <td>unit_4</td>\n      <td>REP_LIE_doc6</td>\n      <td>LIE</td>\n      <td>Male</td>\n      <td>26-35</td>\n      <td>Four year college degree/bachelor’s degree</td>\n      <td>$75,000 to less than $100,000</td>\n      <td>Indipendent</td>\n      <td>The Democratic Party</td>\n      <td>Liberal</td>\n      <td>Yes</td>\n      <td>Agree</td>\n      <td>1</td>\n      <td>10.0</td>\n      <td>Since its passage in April 2006, the Massachus...</td>\n      <td>https://www.healthaffairs.org/doi/full/10.1377...</td>\n      <td>0</td>\n      <td>116.611</td>\n    </tr>\n    <tr>\n      <th>...</th>\n      <td>...</td>\n      <td>...</td>\n      <td>...</td>\n      <td>...</td>\n      <td>...</td>\n      <td>...</td>\n      <td>...</td>\n      <td>...</td>\n      <td>...</td>\n      <td>...</td>\n      <td>...</td>\n      <td>...</td>\n      <td>...</td>\n      <td>...</td>\n      <td>...</td>\n      <td>...</td>\n      <td>...</td>\n      <td>...</td>\n    </tr>\n    <tr>\n      <th>1560</th>\n      <td>unit_195</td>\n      <td>LOW</td>\n      <td>LOW</td>\n      <td>Male</td>\n      <td>50-80</td>\n      <td>Four year college degree/bachelor’s degree</td>\n      <td>$50,000 to less than $75,000</td>\n      <td>Indipendent</td>\n      <td>The Democratic Party</td>\n      <td>Liberal</td>\n      <td>Yes</td>\n      <td>No opinion either way</td>\n      <td>4</td>\n      <td>0.0</td>\n      <td>Formula one did not exist during Lincoln's tim...</td>\n      <td>https://en.wikipedia.org/wiki/American_footbal...</td>\n      <td>4</td>\n      <td>325.240</td>\n    </tr>\n    <tr>\n      <th>1568</th>\n      <td>unit_196</td>\n      <td>HIGH</td>\n      <td>HIGH</td>\n      <td>Female</td>\n      <td>26-35</td>\n      <td>Postgraduate or professional degree, including...</td>\n      <td>$75,000 to less than $100,000</td>\n      <td>Democrat</td>\n      <td>The Democratic Party</td>\n      <td>Very Liberal</td>\n      <td>Yes</td>\n      <td>Disagree</td>\n      <td>4</td>\n      <td>99.0</td>\n      <td>this is was just a chant that we can do things...</td>\n      <td>https://en.wikipedia.org/wiki/Barack_Obama_200...</td>\n      <td>1</td>\n      <td>114.089</td>\n    </tr>\n    <tr>\n      <th>1576</th>\n      <td>unit_197</td>\n      <td>REP_TRUE_doc4</td>\n      <td>TRUE</td>\n      <td>Male</td>\n      <td>26-35</td>\n      <td>Four year college degree/bachelor’s degree</td>\n      <td>$20,000 to less than $30,000</td>\n      <td>Indipendent</td>\n      <td>The Democratic Party</td>\n      <td>Very Liberal</td>\n      <td>Yes</td>\n      <td>Disagree</td>\n      <td>4</td>\n      <td>100.0</td>\n      <td>This is a true statement made by Romney</td>\n      <td>https://www.politifact.com/truth-o-meter/state...</td>\n      <td>1</td>\n      <td>74.237</td>\n    </tr>\n    <tr>\n      <th>1584</th>\n      <td>unit_198</td>\n      <td>REP_BARELYTRUE_doc3</td>\n      <td>BARELYTRUE</td>\n      <td>Female</td>\n      <td>26-35</td>\n      <td>Some postgraduate or professional schooling, n...</td>\n      <td>$50,000 to less than $75,000</td>\n      <td>Indipendent</td>\n      <td>The Republican Party</td>\n      <td>Liberal</td>\n      <td>2</td>\n      <td>Disagree</td>\n      <td>4</td>\n      <td>66.0</td>\n      <td>miller's predecessors questioning whether the ...</td>\n      <td>https://www.texastribune.org/2015/04/11/sid-mi...</td>\n      <td>2</td>\n      <td>51.948</td>\n    </tr>\n    <tr>\n      <th>1592</th>\n      <td>unit_199</td>\n      <td>HIGH</td>\n      <td>HIGH</td>\n      <td>Male</td>\n      <td>36-50</td>\n      <td>Postgraduate or professional degree, including...</td>\n      <td>Less than $10,000</td>\n      <td>Democrat</td>\n      <td>The Democratic Party</td>\n      <td>Liberal</td>\n      <td>Yes</td>\n      <td>Disagree</td>\n      <td>4</td>\n      <td>100.0</td>\n      <td>That was his campaign slogan.</td>\n      <td>https://en.wikipedia.org/wiki/Barack_Obama</td>\n      <td>1</td>\n      <td>41.572</td>\n    </tr>\n  </tbody>\n</table>\n<p>200 rows × 18 columns</p>\n</div>"
     },
     "metadata": {},
     "output_type": "display_data"
    }
   ],
   "execution_count": null
  },
  {
   "cell_type": "code",
   "metadata": {
    "tags": [],
    "deepnote_to_be_reexecuted": false,
    "source_hash": "b7c6f148",
    "execution_start": 1641811710559,
    "execution_millis": 133,
    "cell_id": "00022-41bbc71c-3983-412d-958c-506701bd4229",
    "deepnote_cell_type": "code"
   },
   "source": "print(df.isna().sum())",
   "outputs": [
    {
     "name": "stdout",
     "text": "unit_id             0\ndoc_id              0\nrel                 0\ngender              0\nage                 0\nschool              0\nincome              0\nparty               0\nparty_ln            0\nideo                0\nelections           0\nteaparty            0\nposition_in_task    0\nS100_rel            1\njustification       0\nurl                 0\noff_page_count      0\ntime                1\ndtype: int64\n",
     "output_type": "stream",
     "data": {}
    }
   ],
   "execution_count": null
  },
  {
   "cell_type": "markdown",
   "source": "<a style='text-decoration:none;line-height:16px;display:flex;color:#5B5B62;padding:10px;justify-content:end;' href='https://deepnote.com?utm_source=created-in-deepnote-cell&projectId=7373d0f7-b35e-460a-b7ec-c43f8d39233d' target=\"_blank\">\n<img alt='Created in deepnote.com' style='display:inline;max-height:16px;margin:0px;margin-right:7.5px;' src='data:image/svg+xml;base64,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' > </img>\nCreated in <span style='font-weight:600;margin-left:4px;'>Deepnote</span></a>",
   "metadata": {
    "tags": [],
    "created_in_deepnote_cell": true,
    "deepnote_cell_type": "markdown"
   }
  }
 ],
 "nbformat": 4,
 "nbformat_minor": 2,
 "metadata": {
  "orig_nbformat": 2,
  "deepnote": {
   "is_reactive": false
  },
  "deepnote_notebook_id": "1711379b-c9fd-4ac0-a56c-cd3708eecdb1",
  "deepnote_execution_queue": []
 }
}