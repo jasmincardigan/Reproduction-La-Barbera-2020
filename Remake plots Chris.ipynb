{
 "cells": [
  {
   "cell_type": "markdown",
   "source": "# First Part Plots",
   "metadata": {
    "cell_id": "2482a8d4-5273-4eee-98f0-b38c755e724f",
    "tags": [],
    "is_collapsed": false,
    "deepnote_cell_type": "text-cell-h1"
   }
  },
  {
   "cell_type": "markdown",
   "source": "## Imports",
   "metadata": {
    "cell_id": "3cbe798c-3d60-43f6-adf2-a65db7617e84",
    "tags": [],
    "is_collapsed": false,
    "deepnote_cell_type": "text-cell-h2"
   }
  },
  {
   "cell_type": "code",
   "source": "import numpy as np\nimport pandas as pd\nimport matplotlib.pyplot as plt",
   "metadata": {
    "cell_id": "b00a8432-271f-4df1-b92a-a8993d9d4dc4",
    "tags": [],
    "deepnote_cell_type": "code"
   },
   "outputs": [],
   "execution_count": null
  },
  {
   "cell_type": "markdown",
   "source": "## Data Reading",
   "metadata": {
    "cell_id": "4c5a0cd8-3cac-4f0b-ac58-c120e4f54193",
    "tags": [],
    "is_collapsed": false,
    "deepnote_cell_type": "text-cell-h2"
   }
  },
  {
   "cell_type": "code",
   "metadata": {
    "tags": [],
    "cell_id": "00000-d2abb00b-b6be-4fe3-8446-c805d9ab606f",
    "deepnote_to_be_reexecuted": false,
    "source_hash": "7594a75c",
    "execution_start": 1643540480702,
    "execution_millis": 1670,
    "deepnote_cell_type": "code"
   },
   "source": "s6_data = pd.read_csv(\"S6_Data.csv\")\ns100_data = pd.read_csv(\"S100_Data.csv\")\ns6_data.head(16)",
   "execution_count": null,
   "outputs": [
    {
     "output_type": "execute_result",
     "execution_count": 1,
     "data": {
      "application/vnd.deepnote.dataframe.v3+json": {
       "column_count": 18,
       "row_count": 16,
       "columns": [
        {
         "name": "unit_id",
         "dtype": "object",
         "stats": {
          "unique_count": 2,
          "nan_count": 0,
          "categories": [
           {
            "name": "unit_0",
            "count": 8
           },
           {
            "name": "unit_1",
            "count": 8
           }
          ]
         }
        },
        {
         "name": "doc_id",
         "dtype": "object",
         "stats": {
          "unique_count": 14,
          "nan_count": 0,
          "categories": [
           {
            "name": "LOW",
            "count": 2
           },
           {
            "name": "HIGH",
            "count": 2
           },
           {
            "name": "12 others",
            "count": 12
           }
          ]
         }
        },
        {
         "name": "rel",
         "dtype": "object",
         "stats": {
          "unique_count": 8,
          "nan_count": 0,
          "categories": [
           {
            "name": "LIE",
            "count": 2
           },
           {
            "name": "FALSE",
            "count": 2
           },
           {
            "name": "6 others",
            "count": 12
           }
          ]
         }
        },
        {
         "name": "gender",
         "dtype": "int64",
         "stats": {
          "unique_count": 1,
          "nan_count": 0,
          "min": "2",
          "max": "2",
          "histogram": [
           {
            "bin_start": 1.5,
            "bin_end": 1.6,
            "count": 0
           },
           {
            "bin_start": 1.6,
            "bin_end": 1.7,
            "count": 0
           },
           {
            "bin_start": 1.7,
            "bin_end": 1.8,
            "count": 0
           },
           {
            "bin_start": 1.8,
            "bin_end": 1.9,
            "count": 0
           },
           {
            "bin_start": 1.9,
            "bin_end": 2,
            "count": 0
           },
           {
            "bin_start": 2,
            "bin_end": 2.1,
            "count": 16
           },
           {
            "bin_start": 2.1,
            "bin_end": 2.2,
            "count": 0
           },
           {
            "bin_start": 2.2,
            "bin_end": 2.3,
            "count": 0
           },
           {
            "bin_start": 2.3,
            "bin_end": 2.4,
            "count": 0
           },
           {
            "bin_start": 2.4,
            "bin_end": 2.5,
            "count": 0
           }
          ]
         }
        },
        {
         "name": "age",
         "dtype": "int64",
         "stats": {
          "unique_count": 1,
          "nan_count": 0,
          "min": "3",
          "max": "3",
          "histogram": [
           {
            "bin_start": 2.5,
            "bin_end": 2.6,
            "count": 0
           },
           {
            "bin_start": 2.6,
            "bin_end": 2.7,
            "count": 0
           },
           {
            "bin_start": 2.7,
            "bin_end": 2.8,
            "count": 0
           },
           {
            "bin_start": 2.8,
            "bin_end": 2.9,
            "count": 0
           },
           {
            "bin_start": 2.9,
            "bin_end": 3,
            "count": 0
           },
           {
            "bin_start": 3,
            "bin_end": 3.1,
            "count": 16
           },
           {
            "bin_start": 3.1,
            "bin_end": 3.2,
            "count": 0
           },
           {
            "bin_start": 3.2,
            "bin_end": 3.3,
            "count": 0
           },
           {
            "bin_start": 3.3,
            "bin_end": 3.4,
            "count": 0
           },
           {
            "bin_start": 3.4,
            "bin_end": 3.5,
            "count": 0
           }
          ]
         }
        },
        {
         "name": "school",
         "dtype": "int64",
         "stats": {
          "unique_count": 2,
          "nan_count": 0,
          "min": "4",
          "max": "5",
          "histogram": [
           {
            "bin_start": 4,
            "bin_end": 4.1,
            "count": 8
           },
           {
            "bin_start": 4.1,
            "bin_end": 4.2,
            "count": 0
           },
           {
            "bin_start": 4.2,
            "bin_end": 4.3,
            "count": 0
           },
           {
            "bin_start": 4.3,
            "bin_end": 4.4,
            "count": 0
           },
           {
            "bin_start": 4.4,
            "bin_end": 4.5,
            "count": 0
           },
           {
            "bin_start": 4.5,
            "bin_end": 4.6,
            "count": 0
           },
           {
            "bin_start": 4.6,
            "bin_end": 4.7,
            "count": 0
           },
           {
            "bin_start": 4.7,
            "bin_end": 4.8,
            "count": 0
           },
           {
            "bin_start": 4.8,
            "bin_end": 4.9,
            "count": 0
           },
           {
            "bin_start": 4.9,
            "bin_end": 5,
            "count": 8
           }
          ]
         }
        },
        {
         "name": "income",
         "dtype": "int64",
         "stats": {
          "unique_count": 2,
          "nan_count": 0,
          "min": "3",
          "max": "7",
          "histogram": [
           {
            "bin_start": 3,
            "bin_end": 3.4,
            "count": 8
           },
           {
            "bin_start": 3.4,
            "bin_end": 3.8,
            "count": 0
           },
           {
            "bin_start": 3.8,
            "bin_end": 4.2,
            "count": 0
           },
           {
            "bin_start": 4.2,
            "bin_end": 4.6,
            "count": 0
           },
           {
            "bin_start": 4.6,
            "bin_end": 5,
            "count": 0
           },
           {
            "bin_start": 5,
            "bin_end": 5.4,
            "count": 0
           },
           {
            "bin_start": 5.4,
            "bin_end": 5.800000000000001,
            "count": 0
           },
           {
            "bin_start": 5.800000000000001,
            "bin_end": 6.2,
            "count": 0
           },
           {
            "bin_start": 6.2,
            "bin_end": 6.6,
            "count": 0
           },
           {
            "bin_start": 6.6,
            "bin_end": 7,
            "count": 8
           }
          ]
         }
        },
        {
         "name": "party",
         "dtype": "int64",
         "stats": {
          "unique_count": 2,
          "nan_count": 0,
          "min": "2",
          "max": "3",
          "histogram": [
           {
            "bin_start": 2,
            "bin_end": 2.1,
            "count": 8
           },
           {
            "bin_start": 2.1,
            "bin_end": 2.2,
            "count": 0
           },
           {
            "bin_start": 2.2,
            "bin_end": 2.3,
            "count": 0
           },
           {
            "bin_start": 2.3,
            "bin_end": 2.4,
            "count": 0
           },
           {
            "bin_start": 2.4,
            "bin_end": 2.5,
            "count": 0
           },
           {
            "bin_start": 2.5,
            "bin_end": 2.6,
            "count": 0
           },
           {
            "bin_start": 2.6,
            "bin_end": 2.7,
            "count": 0
           },
           {
            "bin_start": 2.7,
            "bin_end": 2.8,
            "count": 0
           },
           {
            "bin_start": 2.8,
            "bin_end": 2.9,
            "count": 0
           },
           {
            "bin_start": 2.9,
            "bin_end": 3,
            "count": 8
           }
          ]
         }
        },
        {
         "name": "party_ln",
         "dtype": "int64",
         "stats": {
          "unique_count": 2,
          "nan_count": 0,
          "min": "1",
          "max": "2",
          "histogram": [
           {
            "bin_start": 1,
            "bin_end": 1.1,
            "count": 8
           },
           {
            "bin_start": 1.1,
            "bin_end": 1.2,
            "count": 0
           },
           {
            "bin_start": 1.2,
            "bin_end": 1.3,
            "count": 0
           },
           {
            "bin_start": 1.3,
            "bin_end": 1.4,
            "count": 0
           },
           {
            "bin_start": 1.4,
            "bin_end": 1.5,
            "count": 0
           },
           {
            "bin_start": 1.5,
            "bin_end": 1.6,
            "count": 0
           },
           {
            "bin_start": 1.6,
            "bin_end": 1.7000000000000002,
            "count": 0
           },
           {
            "bin_start": 1.7000000000000002,
            "bin_end": 1.8,
            "count": 0
           },
           {
            "bin_start": 1.8,
            "bin_end": 1.9,
            "count": 0
           },
           {
            "bin_start": 1.9,
            "bin_end": 2,
            "count": 8
           }
          ]
         }
        },
        {
         "name": "ideo",
         "dtype": "int64",
         "stats": {
          "unique_count": 1,
          "nan_count": 0,
          "min": "4",
          "max": "4",
          "histogram": [
           {
            "bin_start": 3.5,
            "bin_end": 3.6,
            "count": 0
           },
           {
            "bin_start": 3.6,
            "bin_end": 3.7,
            "count": 0
           },
           {
            "bin_start": 3.7,
            "bin_end": 3.8,
            "count": 0
           },
           {
            "bin_start": 3.8,
            "bin_end": 3.9,
            "count": 0
           },
           {
            "bin_start": 3.9,
            "bin_end": 4,
            "count": 0
           },
           {
            "bin_start": 4,
            "bin_end": 4.1,
            "count": 16
           },
           {
            "bin_start": 4.1,
            "bin_end": 4.2,
            "count": 0
           },
           {
            "bin_start": 4.2,
            "bin_end": 4.3,
            "count": 0
           },
           {
            "bin_start": 4.3,
            "bin_end": 4.4,
            "count": 0
           },
           {
            "bin_start": 4.4,
            "bin_end": 4.5,
            "count": 0
           }
          ]
         }
        },
        {
         "name": "elections",
         "dtype": "int64",
         "stats": {
          "unique_count": 1,
          "nan_count": 0,
          "min": "1",
          "max": "1",
          "histogram": [
           {
            "bin_start": 0.5,
            "bin_end": 0.6,
            "count": 0
           },
           {
            "bin_start": 0.6,
            "bin_end": 0.7,
            "count": 0
           },
           {
            "bin_start": 0.7,
            "bin_end": 0.8,
            "count": 0
           },
           {
            "bin_start": 0.8,
            "bin_end": 0.9,
            "count": 0
           },
           {
            "bin_start": 0.9,
            "bin_end": 1,
            "count": 0
           },
           {
            "bin_start": 1,
            "bin_end": 1.1,
            "count": 16
           },
           {
            "bin_start": 1.1,
            "bin_end": 1.2000000000000002,
            "count": 0
           },
           {
            "bin_start": 1.2000000000000002,
            "bin_end": 1.3,
            "count": 0
           },
           {
            "bin_start": 1.3,
            "bin_end": 1.4,
            "count": 0
           },
           {
            "bin_start": 1.4,
            "bin_end": 1.5,
            "count": 0
           }
          ]
         }
        },
        {
         "name": "teaparty",
         "dtype": "int64",
         "stats": {
          "unique_count": 2,
          "nan_count": 0,
          "min": "1",
          "max": "3",
          "histogram": [
           {
            "bin_start": 1,
            "bin_end": 1.2,
            "count": 8
           },
           {
            "bin_start": 1.2,
            "bin_end": 1.4,
            "count": 0
           },
           {
            "bin_start": 1.4,
            "bin_end": 1.6,
            "count": 0
           },
           {
            "bin_start": 1.6,
            "bin_end": 1.8,
            "count": 0
           },
           {
            "bin_start": 1.8,
            "bin_end": 2,
            "count": 0
           },
           {
            "bin_start": 2,
            "bin_end": 2.2,
            "count": 0
           },
           {
            "bin_start": 2.2,
            "bin_end": 2.4000000000000004,
            "count": 0
           },
           {
            "bin_start": 2.4000000000000004,
            "bin_end": 2.6,
            "count": 0
           },
           {
            "bin_start": 2.6,
            "bin_end": 2.8,
            "count": 0
           },
           {
            "bin_start": 2.8,
            "bin_end": 3,
            "count": 8
           }
          ]
         }
        },
        {
         "name": "position_in_task",
         "dtype": "int64",
         "stats": {
          "unique_count": 8,
          "nan_count": 0,
          "min": "1",
          "max": "8",
          "histogram": [
           {
            "bin_start": 1,
            "bin_end": 1.7,
            "count": 2
           },
           {
            "bin_start": 1.7,
            "bin_end": 2.4,
            "count": 2
           },
           {
            "bin_start": 2.4,
            "bin_end": 3.0999999999999996,
            "count": 2
           },
           {
            "bin_start": 3.0999999999999996,
            "bin_end": 3.8,
            "count": 0
           },
           {
            "bin_start": 3.8,
            "bin_end": 4.5,
            "count": 2
           },
           {
            "bin_start": 4.5,
            "bin_end": 5.199999999999999,
            "count": 2
           },
           {
            "bin_start": 5.199999999999999,
            "bin_end": 5.8999999999999995,
            "count": 0
           },
           {
            "bin_start": 5.8999999999999995,
            "bin_end": 6.6,
            "count": 2
           },
           {
            "bin_start": 6.6,
            "bin_end": 7.3,
            "count": 2
           },
           {
            "bin_start": 7.3,
            "bin_end": 8,
            "count": 2
           }
          ]
         }
        },
        {
         "name": "S6_rel",
         "dtype": "int64",
         "stats": {
          "unique_count": 5,
          "nan_count": 0,
          "min": "1",
          "max": "6",
          "histogram": [
           {
            "bin_start": 1,
            "bin_end": 1.5,
            "count": 2
           },
           {
            "bin_start": 1.5,
            "bin_end": 2,
            "count": 0
           },
           {
            "bin_start": 2,
            "bin_end": 2.5,
            "count": 2
           },
           {
            "bin_start": 2.5,
            "bin_end": 3,
            "count": 0
           },
           {
            "bin_start": 3,
            "bin_end": 3.5,
            "count": 0
           },
           {
            "bin_start": 3.5,
            "bin_end": 4,
            "count": 0
           },
           {
            "bin_start": 4,
            "bin_end": 4.5,
            "count": 3
           },
           {
            "bin_start": 4.5,
            "bin_end": 5,
            "count": 0
           },
           {
            "bin_start": 5,
            "bin_end": 5.5,
            "count": 5
           },
           {
            "bin_start": 5.5,
            "bin_end": 6,
            "count": 4
           }
          ]
         }
        },
        {
         "name": "justification",
         "dtype": "object",
         "stats": {
          "unique_count": 13,
          "nan_count": 0,
          "categories": [
           {
            "name": "ITS VERY INTERESTING",
            "count": 4
           },
           {
            "name": "After implementation of the law, 98% of Massachusetts residents had health coverage",
            "count": 1
           },
           {
            "name": "11 others",
            "count": 11
           }
          ]
         }
        },
        {
         "name": "url",
         "dtype": "object",
         "stats": {
          "unique_count": 16,
          "nan_count": 0,
          "categories": [
           {
            "name": "https://en.wikipedia.org/wiki/Massachusetts_health_care_reform",
            "count": 1
           },
           {
            "name": "https://twitchy.com/2014/11/13/jonathan-who-nancy-sgt-schultz-pelosi-says-she-has-no-clue-who-this-gruber-guy-is/",
            "count": 1
           },
           {
            "name": "14 others",
            "count": 14
           }
          ]
         }
        },
        {
         "name": "off_page_count",
         "dtype": "int64",
         "stats": {
          "unique_count": 7,
          "nan_count": 0,
          "min": "0",
          "max": "6",
          "histogram": [
           {
            "bin_start": 0,
            "bin_end": 0.6,
            "count": 2
           },
           {
            "bin_start": 0.6,
            "bin_end": 1.2,
            "count": 4
           },
           {
            "bin_start": 1.2,
            "bin_end": 1.7999999999999998,
            "count": 0
           },
           {
            "bin_start": 1.7999999999999998,
            "bin_end": 2.4,
            "count": 1
           },
           {
            "bin_start": 2.4,
            "bin_end": 3,
            "count": 0
           },
           {
            "bin_start": 3,
            "bin_end": 3.5999999999999996,
            "count": 5
           },
           {
            "bin_start": 3.5999999999999996,
            "bin_end": 4.2,
            "count": 2
           },
           {
            "bin_start": 4.2,
            "bin_end": 4.8,
            "count": 0
           },
           {
            "bin_start": 4.8,
            "bin_end": 5.3999999999999995,
            "count": 1
           },
           {
            "bin_start": 5.3999999999999995,
            "bin_end": 6,
            "count": 1
           }
          ]
         }
        },
        {
         "name": "time",
         "dtype": "float64",
         "stats": {
          "unique_count": 16,
          "nan_count": 0,
          "min": "40.084",
          "max": "414.396",
          "histogram": [
           {
            "bin_start": 40.084,
            "bin_end": 77.51520000000001,
            "count": 4
           },
           {
            "bin_start": 77.51520000000001,
            "bin_end": 114.94640000000001,
            "count": 3
           },
           {
            "bin_start": 114.94640000000001,
            "bin_end": 152.37760000000003,
            "count": 5
           },
           {
            "bin_start": 152.37760000000003,
            "bin_end": 189.80880000000002,
            "count": 2
           },
           {
            "bin_start": 189.80880000000002,
            "bin_end": 227.24,
            "count": 0
           },
           {
            "bin_start": 227.24,
            "bin_end": 264.6712,
            "count": 1
           },
           {
            "bin_start": 264.6712,
            "bin_end": 302.10240000000005,
            "count": 0
           },
           {
            "bin_start": 302.10240000000005,
            "bin_end": 339.53360000000004,
            "count": 0
           },
           {
            "bin_start": 339.53360000000004,
            "bin_end": 376.9648,
            "count": 0
           },
           {
            "bin_start": 376.9648,
            "bin_end": 414.396,
            "count": 1
           }
          ]
         }
        },
        {
         "name": "_deepnote_index_column",
         "dtype": "int64"
        }
       ],
       "rows": [
        {
         "unit_id": "unit_0",
         "doc_id": "REP_LIE_doc6",
         "rel": "LIE",
         "gender": 2,
         "age": 3,
         "school": 4,
         "income": 3,
         "party": 2,
         "party_ln": 2,
         "ideo": 4,
         "elections": 1,
         "teaparty": 3,
         "position_in_task": 1,
         "S6_rel": 1,
         "justification": "After implementation of the law, 98% of Massachusetts residents had health coverage",
         "url": "https://en.wikipedia.org/wiki/Massachusetts_health_care_reform",
         "off_page_count": 0,
         "time": 105.615,
         "_deepnote_index_column": 0
        },
        {
         "unit_id": "unit_0",
         "doc_id": "DEM_FALSE_doc1",
         "rel": "FALSE",
         "gender": 2,
         "age": 3,
         "school": 4,
         "income": 3,
         "party": 2,
         "party_ln": 2,
         "ideo": 4,
         "elections": 1,
         "teaparty": 3,
         "position_in_task": 2,
         "S6_rel": 1,
         "justification": "She has literally cited him in the past.",
         "url": "https://twitchy.com/2014/11/13/jonathan-who-nancy-sgt-schultz-pelosi-says-she-has-no-clue-who-this-…",
         "off_page_count": 3,
         "time": 133.09,
         "_deepnote_index_column": 1
        },
        {
         "unit_id": "unit_0",
         "doc_id": "LOW",
         "rel": "LOW",
         "gender": 2,
         "age": 3,
         "school": 4,
         "income": 3,
         "party": 2,
         "party_ln": 2,
         "ideo": 4,
         "elections": 1,
         "teaparty": 3,
         "position_in_task": 3,
         "S6_rel": 2,
         "justification": "Lincoln was assassinated in1865. Organized football didn't become a thing until much later, same as…",
         "url": "https://en.wikipedia.org/wiki/Formula_One",
         "off_page_count": 1,
         "time": 232.598,
         "_deepnote_index_column": 2
        },
        {
         "unit_id": "unit_0",
         "doc_id": "DEM_HALFTRUE_doc3",
         "rel": "HALFTRUE",
         "gender": 2,
         "age": 3,
         "school": 4,
         "income": 3,
         "party": 2,
         "party_ln": 2,
         "ideo": 4,
         "elections": 1,
         "teaparty": 3,
         "position_in_task": 4,
         "S6_rel": 4,
         "justification": "It was found by IFC that yes, water rates did climb but only by about 170 percent, so 845 was an ex…",
         "url": "https://www.politifact.com/global-news/statements/2016/may/12/gwen-moore/arm-world-bank-tied-8-fold…",
         "off_page_count": 6,
         "time": 152.994,
         "_deepnote_index_column": 3
        },
        {
         "unit_id": "unit_0",
         "doc_id": "DEM_TRUE_doc2",
         "rel": "TRUE",
         "gender": 2,
         "age": 3,
         "school": 4,
         "income": 3,
         "party": 2,
         "party_ln": 2,
         "ideo": 4,
         "elections": 1,
         "teaparty": 3,
         "position_in_task": 5,
         "S6_rel": 2,
         "justification": "Ryan sounds like he really does regret ever supporting Trump.",
         "url": "https://www.vanityfair.com/news/2019/07/paul-ryan-admits-he-was-a-fraud-all-along-tim-alberta-book",
         "off_page_count": 3,
         "time": 122.103,
         "_deepnote_index_column": 4
        },
        {
         "unit_id": "unit_0",
         "doc_id": "HIGH",
         "rel": "HIGH",
         "gender": 2,
         "age": 3,
         "school": 4,
         "income": 3,
         "party": 2,
         "party_ln": 2,
         "ideo": 4,
         "elections": 1,
         "teaparty": 3,
         "position_in_task": 6,
         "S6_rel": 6,
         "justification": "At least Obama actually cared about the environment. His yes I can attitude made many differences i…",
         "url": "https://www.huffpost.com/entry/12-reasons-why-obama-is-o_b_4280675",
         "off_page_count": 1,
         "time": 95.043,
         "_deepnote_index_column": 5
        },
        {
         "unit_id": "unit_0",
         "doc_id": "REP_MOSTLYTRUE_doc5",
         "rel": "MOSTLYTRUE",
         "gender": 2,
         "age": 3,
         "school": 4,
         "income": 3,
         "party": 2,
         "party_ln": 2,
         "ideo": 4,
         "elections": 1,
         "teaparty": 3,
         "position_in_task": 7,
         "S6_rel": 5,
         "justification": "His turnaround was a pretty big one and well known. I wouldn't say he is the only one though.",
         "url": "https://www.politifact.com/truth-o-meter/statements/2008/jan/28/rudy-giuliani/a-real-turnaround/",
         "off_page_count": 2,
         "time": 117.847,
         "_deepnote_index_column": 6
        },
        {
         "unit_id": "unit_0",
         "doc_id": "REP_BARELYTRUE_doc4",
         "rel": "BARELYTRUE",
         "gender": 2,
         "age": 3,
         "school": 4,
         "income": 3,
         "party": 2,
         "party_ln": 2,
         "ideo": 4,
         "elections": 1,
         "teaparty": 3,
         "position_in_task": 8,
         "S6_rel": 4,
         "justification": "The Secure Fence Act was a thing and yes it could have happened but the reasons that he states it n…",
         "url": "https://www.politifact.com/truth-o-meter/statements/2016/aug/29/donald-trump/trump-says-they-were-g…",
         "off_page_count": 1,
         "time": 161.113,
         "_deepnote_index_column": 7
        },
        {
         "unit_id": "unit_1",
         "doc_id": "REP_TRUE_doc8",
         "rel": "TRUE",
         "gender": 2,
         "age": 3,
         "school": 5,
         "income": 7,
         "party": 3,
         "party_ln": 1,
         "ideo": 4,
         "elections": 1,
         "teaparty": 1,
         "position_in_task": 1,
         "S6_rel": 5,
         "justification": "ITS MOSTLY CRT",
         "url": "https://en.wikipedia.org/wiki/Chris_Christie",
         "off_page_count": 0,
         "time": 414.396,
         "_deepnote_index_column": 8
        },
        {
         "unit_id": "unit_1",
         "doc_id": "LOW",
         "rel": "LOW",
         "gender": 2,
         "age": 3,
         "school": 5,
         "income": 7,
         "party": 3,
         "party_ln": 1,
         "ideo": 4,
         "elections": 1,
         "teaparty": 1,
         "position_in_task": 2,
         "S6_rel": 5,
         "justification": "ITS TRUE",
         "url": "https://www.battlefields.org/learn/articles/10-facts-abraham-lincoln?gclid=EAIaIQobChMI1ffj_cKq5AIV…",
         "off_page_count": 4,
         "time": 116.518,
         "_deepnote_index_column": 9
        }
       ]
      },
      "text/plain": "   unit_id               doc_id         rel  gender  age  school  income  \\\n0   unit_0         REP_LIE_doc6         LIE       2    3       4       3   \n1   unit_0       DEM_FALSE_doc1       FALSE       2    3       4       3   \n2   unit_0                  LOW         LOW       2    3       4       3   \n3   unit_0    DEM_HALFTRUE_doc3    HALFTRUE       2    3       4       3   \n4   unit_0        DEM_TRUE_doc2        TRUE       2    3       4       3   \n5   unit_0                 HIGH        HIGH       2    3       4       3   \n6   unit_0  REP_MOSTLYTRUE_doc5  MOSTLYTRUE       2    3       4       3   \n7   unit_0  REP_BARELYTRUE_doc4  BARELYTRUE       2    3       4       3   \n8   unit_1        REP_TRUE_doc8        TRUE       2    3       5       7   \n9   unit_1                  LOW         LOW       2    3       5       7   \n10  unit_1       REP_FALSE_doc2       FALSE       2    3       5       7   \n11  unit_1  DEM_BARELYTRUE_doc9  BARELYTRUE       2    3       5       7   \n12  unit_1   REP_HALFTRUE_doc10    HALFTRUE       2    3       5       7   \n13  unit_1  DEM_MOSTLYTRUE_doc3  MOSTLYTRUE       2    3       5       7   \n14  unit_1                 HIGH        HIGH       2    3       5       7   \n15  unit_1         DEM_LIE_doc8         LIE       2    3       5       7   \n\n    party  party_ln  ideo  elections  teaparty  position_in_task  S6_rel  \\\n0       2         2     4          1         3                 1       1   \n1       2         2     4          1         3                 2       1   \n2       2         2     4          1         3                 3       2   \n3       2         2     4          1         3                 4       4   \n4       2         2     4          1         3                 5       2   \n5       2         2     4          1         3                 6       6   \n6       2         2     4          1         3                 7       5   \n7       2         2     4          1         3                 8       4   \n8       3         1     4          1         1                 1       5   \n9       3         1     4          1         1                 2       5   \n10      3         1     4          1         1                 3       6   \n11      3         1     4          1         1                 4       5   \n12      3         1     4          1         1                 5       5   \n13      3         1     4          1         1                 6       6   \n14      3         1     4          1         1                 7       6   \n15      3         1     4          1         1                 8       4   \n\n                                        justification  \\\n0   After implementation of the law, 98% of Massac...   \n1            She has literally cited him in the past.   \n2   Lincoln was assassinated in1865. Organized foo...   \n3   It was found by IFC that yes, water rates did ...   \n4   Ryan sounds like he really does regret ever su...   \n5   At least Obama actually cared about the enviro...   \n6   His turnaround was a pretty big one and well k...   \n7   The Secure Fence Act was a thing and yes it co...   \n8                                      ITS MOSTLY CRT   \n9                                            ITS TRUE   \n10                               ITS VERY INTERESTING   \n11                               ITS VERY INTERESTING   \n12                               ITS VERY INTERESTING   \n13                                      ITS VERY NICE   \n14                               ITS VERY INTERESTING   \n15                                    ITS MOSTLY TRUE   \n\n                                                  url  off_page_count     time  \n0   https://en.wikipedia.org/wiki/Massachusetts_he...               0  105.615  \n1   https://twitchy.com/2014/11/13/jonathan-who-na...               3  133.090  \n2           https://en.wikipedia.org/wiki/Formula_One               1  232.598  \n3   https://www.politifact.com/global-news/stateme...               6  152.994  \n4   https://www.vanityfair.com/news/2019/07/paul-r...               3  122.103  \n5   https://www.huffpost.com/entry/12-reasons-why-...               1   95.043  \n6   https://www.politifact.com/truth-o-meter/state...               2  117.847  \n7   https://www.politifact.com/truth-o-meter/state...               1  161.113  \n8        https://en.wikipedia.org/wiki/Chris_Christie               0  414.396  \n9   https://www.battlefields.org/learn/articles/10...               4  116.518  \n10  https://en.wikipedia.org/wiki/Dennis_Richardso...               5  139.195  \n11      https://en.wikipedia.org/wiki/Terry_McAuliffe               4   94.813  \n12                         https://www.johnmccain.com               3   57.631  \n13             https://en.wikipedia.org/wiki/Jack_Lew               3   46.877  \n14         https://en.wikipedia.org/wiki/Barack_Obama               3   40.084  \n15        https://en.wikipedia.org/wiki/Gina_Raimondo               1   52.432  ",
      "text/html": "<div>\n<style scoped>\n    .dataframe tbody tr th:only-of-type {\n        vertical-align: middle;\n    }\n\n    .dataframe tbody tr th {\n        vertical-align: top;\n    }\n\n    .dataframe thead th {\n        text-align: right;\n    }\n</style>\n<table border=\"1\" class=\"dataframe\">\n  <thead>\n    <tr style=\"text-align: right;\">\n      <th></th>\n      <th>unit_id</th>\n      <th>doc_id</th>\n      <th>rel</th>\n      <th>gender</th>\n      <th>age</th>\n      <th>school</th>\n      <th>income</th>\n      <th>party</th>\n      <th>party_ln</th>\n      <th>ideo</th>\n      <th>elections</th>\n      <th>teaparty</th>\n      <th>position_in_task</th>\n      <th>S6_rel</th>\n      <th>justification</th>\n      <th>url</th>\n      <th>off_page_count</th>\n      <th>time</th>\n    </tr>\n  </thead>\n  <tbody>\n    <tr>\n      <th>0</th>\n      <td>unit_0</td>\n      <td>REP_LIE_doc6</td>\n      <td>LIE</td>\n      <td>2</td>\n      <td>3</td>\n      <td>4</td>\n      <td>3</td>\n      <td>2</td>\n      <td>2</td>\n      <td>4</td>\n      <td>1</td>\n      <td>3</td>\n      <td>1</td>\n      <td>1</td>\n      <td>After implementation of the law, 98% of Massac...</td>\n      <td>https://en.wikipedia.org/wiki/Massachusetts_he...</td>\n      <td>0</td>\n      <td>105.615</td>\n    </tr>\n    <tr>\n      <th>1</th>\n      <td>unit_0</td>\n      <td>DEM_FALSE_doc1</td>\n      <td>FALSE</td>\n      <td>2</td>\n      <td>3</td>\n      <td>4</td>\n      <td>3</td>\n      <td>2</td>\n      <td>2</td>\n      <td>4</td>\n      <td>1</td>\n      <td>3</td>\n      <td>2</td>\n      <td>1</td>\n      <td>She has literally cited him in the past.</td>\n      <td>https://twitchy.com/2014/11/13/jonathan-who-na...</td>\n      <td>3</td>\n      <td>133.090</td>\n    </tr>\n    <tr>\n      <th>2</th>\n      <td>unit_0</td>\n      <td>LOW</td>\n      <td>LOW</td>\n      <td>2</td>\n      <td>3</td>\n      <td>4</td>\n      <td>3</td>\n      <td>2</td>\n      <td>2</td>\n      <td>4</td>\n      <td>1</td>\n      <td>3</td>\n      <td>3</td>\n      <td>2</td>\n      <td>Lincoln was assassinated in1865. Organized foo...</td>\n      <td>https://en.wikipedia.org/wiki/Formula_One</td>\n      <td>1</td>\n      <td>232.598</td>\n    </tr>\n    <tr>\n      <th>3</th>\n      <td>unit_0</td>\n      <td>DEM_HALFTRUE_doc3</td>\n      <td>HALFTRUE</td>\n      <td>2</td>\n      <td>3</td>\n      <td>4</td>\n      <td>3</td>\n      <td>2</td>\n      <td>2</td>\n      <td>4</td>\n      <td>1</td>\n      <td>3</td>\n      <td>4</td>\n      <td>4</td>\n      <td>It was found by IFC that yes, water rates did ...</td>\n      <td>https://www.politifact.com/global-news/stateme...</td>\n      <td>6</td>\n      <td>152.994</td>\n    </tr>\n    <tr>\n      <th>4</th>\n      <td>unit_0</td>\n      <td>DEM_TRUE_doc2</td>\n      <td>TRUE</td>\n      <td>2</td>\n      <td>3</td>\n      <td>4</td>\n      <td>3</td>\n      <td>2</td>\n      <td>2</td>\n      <td>4</td>\n      <td>1</td>\n      <td>3</td>\n      <td>5</td>\n      <td>2</td>\n      <td>Ryan sounds like he really does regret ever su...</td>\n      <td>https://www.vanityfair.com/news/2019/07/paul-r...</td>\n      <td>3</td>\n      <td>122.103</td>\n    </tr>\n    <tr>\n      <th>5</th>\n      <td>unit_0</td>\n      <td>HIGH</td>\n      <td>HIGH</td>\n      <td>2</td>\n      <td>3</td>\n      <td>4</td>\n      <td>3</td>\n      <td>2</td>\n      <td>2</td>\n      <td>4</td>\n      <td>1</td>\n      <td>3</td>\n      <td>6</td>\n      <td>6</td>\n      <td>At least Obama actually cared about the enviro...</td>\n      <td>https://www.huffpost.com/entry/12-reasons-why-...</td>\n      <td>1</td>\n      <td>95.043</td>\n    </tr>\n    <tr>\n      <th>6</th>\n      <td>unit_0</td>\n      <td>REP_MOSTLYTRUE_doc5</td>\n      <td>MOSTLYTRUE</td>\n      <td>2</td>\n      <td>3</td>\n      <td>4</td>\n      <td>3</td>\n      <td>2</td>\n      <td>2</td>\n      <td>4</td>\n      <td>1</td>\n      <td>3</td>\n      <td>7</td>\n      <td>5</td>\n      <td>His turnaround was a pretty big one and well k...</td>\n      <td>https://www.politifact.com/truth-o-meter/state...</td>\n      <td>2</td>\n      <td>117.847</td>\n    </tr>\n    <tr>\n      <th>7</th>\n      <td>unit_0</td>\n      <td>REP_BARELYTRUE_doc4</td>\n      <td>BARELYTRUE</td>\n      <td>2</td>\n      <td>3</td>\n      <td>4</td>\n      <td>3</td>\n      <td>2</td>\n      <td>2</td>\n      <td>4</td>\n      <td>1</td>\n      <td>3</td>\n      <td>8</td>\n      <td>4</td>\n      <td>The Secure Fence Act was a thing and yes it co...</td>\n      <td>https://www.politifact.com/truth-o-meter/state...</td>\n      <td>1</td>\n      <td>161.113</td>\n    </tr>\n    <tr>\n      <th>8</th>\n      <td>unit_1</td>\n      <td>REP_TRUE_doc8</td>\n      <td>TRUE</td>\n      <td>2</td>\n      <td>3</td>\n      <td>5</td>\n      <td>7</td>\n      <td>3</td>\n      <td>1</td>\n      <td>4</td>\n      <td>1</td>\n      <td>1</td>\n      <td>1</td>\n      <td>5</td>\n      <td>ITS MOSTLY CRT</td>\n      <td>https://en.wikipedia.org/wiki/Chris_Christie</td>\n      <td>0</td>\n      <td>414.396</td>\n    </tr>\n    <tr>\n      <th>9</th>\n      <td>unit_1</td>\n      <td>LOW</td>\n      <td>LOW</td>\n      <td>2</td>\n      <td>3</td>\n      <td>5</td>\n      <td>7</td>\n      <td>3</td>\n      <td>1</td>\n      <td>4</td>\n      <td>1</td>\n      <td>1</td>\n      <td>2</td>\n      <td>5</td>\n      <td>ITS TRUE</td>\n      <td>https://www.battlefields.org/learn/articles/10...</td>\n      <td>4</td>\n      <td>116.518</td>\n    </tr>\n    <tr>\n      <th>10</th>\n      <td>unit_1</td>\n      <td>REP_FALSE_doc2</td>\n      <td>FALSE</td>\n      <td>2</td>\n      <td>3</td>\n      <td>5</td>\n      <td>7</td>\n      <td>3</td>\n      <td>1</td>\n      <td>4</td>\n      <td>1</td>\n      <td>1</td>\n      <td>3</td>\n      <td>6</td>\n      <td>ITS VERY INTERESTING</td>\n      <td>https://en.wikipedia.org/wiki/Dennis_Richardso...</td>\n      <td>5</td>\n      <td>139.195</td>\n    </tr>\n    <tr>\n      <th>11</th>\n      <td>unit_1</td>\n      <td>DEM_BARELYTRUE_doc9</td>\n      <td>BARELYTRUE</td>\n      <td>2</td>\n      <td>3</td>\n      <td>5</td>\n      <td>7</td>\n      <td>3</td>\n      <td>1</td>\n      <td>4</td>\n      <td>1</td>\n      <td>1</td>\n      <td>4</td>\n      <td>5</td>\n      <td>ITS VERY INTERESTING</td>\n      <td>https://en.wikipedia.org/wiki/Terry_McAuliffe</td>\n      <td>4</td>\n      <td>94.813</td>\n    </tr>\n    <tr>\n      <th>12</th>\n      <td>unit_1</td>\n      <td>REP_HALFTRUE_doc10</td>\n      <td>HALFTRUE</td>\n      <td>2</td>\n      <td>3</td>\n      <td>5</td>\n      <td>7</td>\n      <td>3</td>\n      <td>1</td>\n      <td>4</td>\n      <td>1</td>\n      <td>1</td>\n      <td>5</td>\n      <td>5</td>\n      <td>ITS VERY INTERESTING</td>\n      <td>https://www.johnmccain.com</td>\n      <td>3</td>\n      <td>57.631</td>\n    </tr>\n    <tr>\n      <th>13</th>\n      <td>unit_1</td>\n      <td>DEM_MOSTLYTRUE_doc3</td>\n      <td>MOSTLYTRUE</td>\n      <td>2</td>\n      <td>3</td>\n      <td>5</td>\n      <td>7</td>\n      <td>3</td>\n      <td>1</td>\n      <td>4</td>\n      <td>1</td>\n      <td>1</td>\n      <td>6</td>\n      <td>6</td>\n      <td>ITS VERY NICE</td>\n      <td>https://en.wikipedia.org/wiki/Jack_Lew</td>\n      <td>3</td>\n      <td>46.877</td>\n    </tr>\n    <tr>\n      <th>14</th>\n      <td>unit_1</td>\n      <td>HIGH</td>\n      <td>HIGH</td>\n      <td>2</td>\n      <td>3</td>\n      <td>5</td>\n      <td>7</td>\n      <td>3</td>\n      <td>1</td>\n      <td>4</td>\n      <td>1</td>\n      <td>1</td>\n      <td>7</td>\n      <td>6</td>\n      <td>ITS VERY INTERESTING</td>\n      <td>https://en.wikipedia.org/wiki/Barack_Obama</td>\n      <td>3</td>\n      <td>40.084</td>\n    </tr>\n    <tr>\n      <th>15</th>\n      <td>unit_1</td>\n      <td>DEM_LIE_doc8</td>\n      <td>LIE</td>\n      <td>2</td>\n      <td>3</td>\n      <td>5</td>\n      <td>7</td>\n      <td>3</td>\n      <td>1</td>\n      <td>4</td>\n      <td>1</td>\n      <td>1</td>\n      <td>8</td>\n      <td>4</td>\n      <td>ITS MOSTLY TRUE</td>\n      <td>https://en.wikipedia.org/wiki/Gina_Raimondo</td>\n      <td>1</td>\n      <td>52.432</td>\n    </tr>\n  </tbody>\n</table>\n</div>"
     },
     "metadata": {}
    }
   ]
  },
  {
   "cell_type": "markdown",
   "source": "## Preprocessing",
   "metadata": {
    "cell_id": "96b552f9-e062-4e28-b208-e90e7090dafb",
    "tags": [],
    "is_collapsed": false,
    "deepnote_cell_type": "text-cell-h2"
   }
  },
  {
   "cell_type": "markdown",
   "source": "Remove ground truth from data set.",
   "metadata": {
    "cell_id": "79ca0f43-e27a-43e9-8d7f-1c9ff21fc323",
    "tags": [],
    "is_collapsed": false,
    "deepnote_cell_type": "text-cell-p"
   }
  },
  {
   "cell_type": "code",
   "metadata": {
    "tags": [],
    "cell_id": "00001-0893834b-851c-4313-a6d8-2b51d92ed5c6",
    "deepnote_to_be_reexecuted": false,
    "source_hash": "b9de0e76",
    "execution_start": 1643540482421,
    "execution_millis": 0,
    "deepnote_output_heights": [
     59.600006103515625,
     250
    ],
    "deepnote_cell_type": "code"
   },
   "source": "s6_data = s6_data[s6_data['rel'] != \"LOW\"]\ns6_data = s6_data[s6_data['rel'] != \"HIGH\"]\n\ns100_data = s100_data[s100_data['rel'] != \"LOW\"]\ns100_data = s100_data[s100_data['rel'] != \"HIGH\"]",
   "execution_count": null,
   "outputs": []
  },
  {
   "cell_type": "markdown",
   "source": "## Raw Judgments",
   "metadata": {
    "cell_id": "fb2c4cef-1cb2-4fc8-a3f3-74ae3c7cb38a",
    "tags": [],
    "is_collapsed": false,
    "deepnote_cell_type": "text-cell-h2"
   }
  },
  {
   "cell_type": "markdown",
   "source": "First for S6 then for S100",
   "metadata": {
    "cell_id": "ad28aaab-fd7d-491a-a5cb-eb766394cb00",
    "tags": [],
    "is_collapsed": false,
    "deepnote_cell_type": "text-cell-p"
   }
  },
  {
   "cell_type": "code",
   "metadata": {
    "cell_id": "ac0126bc-7b77-427b-b3c4-728995a46270",
    "tags": [],
    "deepnote_to_be_reexecuted": false,
    "source_hash": "c47be3fa",
    "execution_start": 1643540482422,
    "execution_millis": 372,
    "deepnote_output_heights": [
     79,
     281
    ],
    "deepnote_cell_type": "code"
   },
   "source": "# first try\nfig1, ax1 = plt.subplots()\n\ncolor = 'tab:blue'\nax1.set_xlabel('Score')\nax1.set_xticks(ticks = np.arange(1.45,6, 0.83), labels = [\"Lie\", \"False\", \"Barely True\", \" Half True\", \"Mostly True\", \"True\"])\nax1.set_ylabel('Frequency')\nax1.hist(s6_data['rel'], bins = 6, color = color, rwidth = 0.9)\n\nax2 = ax1.twinx()\n\ncolor = 'tab:red'\nax2.set_ylabel('Cumulative Frequency')\nplt.title('Raw Judgment Distributions: S6',size=14)\nax2.hist(s6_data['rel'], cumulative = True, histtype = 'step', color = color)",
   "execution_count": null,
   "outputs": [
    {
     "output_type": "execute_result",
     "execution_count": 3,
     "data": {
      "text/plain": "(array([ 200.,  200.,  400.,  400.,  600.,  600.,  800.,  800., 1000.,\n        1200.]),\n array([0. , 0.5, 1. , 1.5, 2. , 2.5, 3. , 3.5, 4. , 4.5, 5. ]),\n [<matplotlib.patches.Polygon at 0x7f00572a7e90>])"
     },
     "metadata": {}
    },
    {
     "data": {
      "text/plain": "<Figure size 432x288 with 2 Axes>",
      "image/png": "[encoded data removed]"
     },
     "metadata": {
      "needs_background": "light",
      "image/png": {
       "width": 435,
       "height": 279
      }
     },
     "output_type": "display_data"
    }
   ]
  },
  {
   "cell_type": "code",
   "metadata": {
    "tags": [],
    "cell_id": "00002-28b657ef-821d-4cce-af69-204fd9a33f87",
    "deepnote_to_be_reexecuted": false,
    "source_hash": "33c549e8",
    "execution_start": 1643540482905,
    "execution_millis": 254,
    "deepnote_output_heights": [
     79,
     281
    ],
    "deepnote_cell_type": "code"
   },
   "source": "fig1, ax1 = plt.subplots()\n\ncolor = 'tab:blue'\nax1.set_xlabel('Score')\nax1.set_xticks(ticks = np.arange(1.45,6, 0.83), labels = [\"Lie\", \"False\", \"Barely True\", \" Half True\", \"Mostly True\", \"True\"])\nax1.set_ylabel('Frequency')\nax1.hist(s6_data['S6_rel'], bins = 6, color = color, rwidth = 0.9)\n\nax2 = ax1.twinx()\n\ncolor = 'tab:red'\nax2.set_ylabel('Cumulative Frequency')\nplt.title('Raw Judgment Distributions: S6',size=14)\nax2.hist(s6_data['S6_rel'], cumulative = True, histtype = 'step', color = color)",
   "execution_count": null,
   "outputs": [
    {
     "output_type": "execute_result",
     "execution_count": 4,
     "data": {
      "text/plain": "(array([ 131.,  131.,  342.,  342.,  426.,  426.,  605.,  605.,  840.,\n        1200.]),\n array([1. , 1.5, 2. , 2.5, 3. , 3.5, 4. , 4.5, 5. , 5.5, 6. ]),\n [<matplotlib.patches.Polygon at 0x7f0057138bd0>])"
     },
     "metadata": {}
    },
    {
     "data": {
      "text/plain": "<Figure size 432x288 with 2 Axes>",
      "image/png": "[encoded data removed]"
     },
     "metadata": {
      "needs_background": "light",
      "image/png": {
       "width": 435,
       "height": 279
      }
     },
     "output_type": "display_data"
    }
   ]
  },
  {
   "cell_type": "code",
   "metadata": {
    "tags": [],
    "cell_id": "00003-de5174eb-bba0-40e8-b7cb-43e70cb17b61",
    "deepnote_to_be_reexecuted": false,
    "source_hash": "c5b81f30",
    "execution_start": 1643540483313,
    "execution_millis": 481,
    "deepnote_output_heights": [
     281
    ],
    "deepnote_cell_type": "code"
   },
   "source": "fig2, ax3 = plt.subplots()\n\ncolor = 'tab:blue'\nax3.set_xlabel('Score')\n#ax3.set_xticks(ticks = np.arange(1.45,6, 0.83), labels = [\"Lie\", \"False\", \"Barely True\", \" Half True\", \"Mostly True\", \"True\"])\nax3.set_ylabel('Frequency')\nax3.hist(s100_data['S100_rel'], bins = 100, color = color, rwidth = 0.99)\n\nax4 = ax3.twinx()\n\ncolor = 'tab:red'\nax4.set_ylabel('Cumulative Frequency')\nplt.title('Raw Judgment Distributions: S100',size=14)\nax4.hist(s100_data['S100_rel'], bins = 100, cumulative = True, histtype = 'step', color = color)\n\nplt.show()",
   "execution_count": null,
   "outputs": [
    {
     "data": {
      "text/plain": "<Figure size 432x288 with 2 Axes>",
      "image/png": "[encoded data removed]"
     },
     "metadata": {
      "needs_background": "light",
      "image/png": {
       "width": 435,
       "height": 279
      }
     },
     "output_type": "display_data"
    }
   ]
  },
  {
   "cell_type": "markdown",
   "source": "## Mean Judgments",
   "metadata": {
    "cell_id": "e020420d-8816-4934-8801-8258d29aff87",
    "tags": [],
    "is_collapsed": false,
    "deepnote_cell_type": "text-cell-h2"
   }
  },
  {
   "cell_type": "markdown",
   "source": "### Aggregating Data",
   "metadata": {
    "cell_id": "32b3ee17-c71f-4fb0-ac17-9b286a6637f7",
    "tags": [],
    "is_collapsed": false,
    "deepnote_cell_type": "text-cell-h3"
   }
  },
  {
   "cell_type": "code",
   "metadata": {
    "tags": [],
    "cell_id": "00004-810b7d11-fc39-4447-aa36-4f8451190fc6",
    "deepnote_to_be_reexecuted": false,
    "source_hash": "7e9cf7f2",
    "execution_start": 1643540483841,
    "execution_millis": 46,
    "deepnote_output_heights": [
     136.39999389648438
    ],
    "deepnote_cell_type": "code"
   },
   "source": "s6_doc_mean = s6_data.groupby('doc_id').agg({'S6_rel': 'mean', 'rel': 'first'})\ns100_doc_mean = s100_data.groupby('doc_id').agg({'S100_rel': 'mean', 'rel': 'first'})\ns6_doc_mean.head(5)",
   "execution_count": null,
   "outputs": [
    {
     "output_type": "execute_result",
     "execution_count": 6,
     "data": {
      "application/vnd.deepnote.dataframe.v3+json": {
       "column_count": 2,
       "row_count": 5,
       "columns": [
        {
         "name": "S6_rel",
         "dtype": "float64",
         "stats": {
          "unique_count": 5,
          "nan_count": 0,
          "min": "3.2",
          "max": "4.2",
          "histogram": [
           {
            "bin_start": 3.2,
            "bin_end": 3.3000000000000003,
            "count": 1
           },
           {
            "bin_start": 3.3000000000000003,
            "bin_end": 3.4000000000000004,
            "count": 1
           },
           {
            "bin_start": 3.4000000000000004,
            "bin_end": 3.5,
            "count": 0
           },
           {
            "bin_start": 3.5,
            "bin_end": 3.6,
            "count": 0
           },
           {
            "bin_start": 3.6,
            "bin_end": 3.7,
            "count": 1
           },
           {
            "bin_start": 3.7,
            "bin_end": 3.8000000000000003,
            "count": 0
           },
           {
            "bin_start": 3.8000000000000003,
            "bin_end": 3.9000000000000004,
            "count": 0
           },
           {
            "bin_start": 3.9000000000000004,
            "bin_end": 4,
            "count": 0
           },
           {
            "bin_start": 4,
            "bin_end": 4.1000000000000005,
            "count": 1
           },
           {
            "bin_start": 4.1000000000000005,
            "bin_end": 4.2,
            "count": 1
           }
          ]
         }
        },
        {
         "name": "rel",
         "dtype": "object",
         "stats": {
          "unique_count": 1,
          "nan_count": 0,
          "categories": [
           {
            "name": "BARELYTRUE",
            "count": 5
           }
          ]
         }
        },
        {
         "name": "_deepnote_index_column",
         "dtype": "object"
        }
       ],
       "rows": [
        {
         "S6_rel": 3.4,
         "rel": "BARELYTRUE",
         "_deepnote_index_column": "DEM_BARELYTRUE_doc1"
        },
        {
         "S6_rel": 4.1,
         "rel": "BARELYTRUE",
         "_deepnote_index_column": "DEM_BARELYTRUE_doc10"
        },
        {
         "S6_rel": 3.2,
         "rel": "BARELYTRUE",
         "_deepnote_index_column": "DEM_BARELYTRUE_doc2"
        },
        {
         "S6_rel": 3.6,
         "rel": "BARELYTRUE",
         "_deepnote_index_column": "DEM_BARELYTRUE_doc3"
        },
        {
         "S6_rel": 4.2,
         "rel": "BARELYTRUE",
         "_deepnote_index_column": "DEM_BARELYTRUE_doc4"
        }
       ]
      },
      "text/plain": "                      S6_rel         rel\ndoc_id                                  \nDEM_BARELYTRUE_doc1      3.4  BARELYTRUE\nDEM_BARELYTRUE_doc10     4.1  BARELYTRUE\nDEM_BARELYTRUE_doc2      3.2  BARELYTRUE\nDEM_BARELYTRUE_doc3      3.6  BARELYTRUE\nDEM_BARELYTRUE_doc4      4.2  BARELYTRUE",
      "text/html": "<div>\n<style scoped>\n    .dataframe tbody tr th:only-of-type {\n        vertical-align: middle;\n    }\n\n    .dataframe tbody tr th {\n        vertical-align: top;\n    }\n\n    .dataframe thead th {\n        text-align: right;\n    }\n</style>\n<table border=\"1\" class=\"dataframe\">\n  <thead>\n    <tr style=\"text-align: right;\">\n      <th></th>\n      <th>S6_rel</th>\n      <th>rel</th>\n    </tr>\n    <tr>\n      <th>doc_id</th>\n      <th></th>\n      <th></th>\n    </tr>\n  </thead>\n  <tbody>\n    <tr>\n      <th>DEM_BARELYTRUE_doc1</th>\n      <td>3.4</td>\n      <td>BARELYTRUE</td>\n    </tr>\n    <tr>\n      <th>DEM_BARELYTRUE_doc10</th>\n      <td>4.1</td>\n      <td>BARELYTRUE</td>\n    </tr>\n    <tr>\n      <th>DEM_BARELYTRUE_doc2</th>\n      <td>3.2</td>\n      <td>BARELYTRUE</td>\n    </tr>\n    <tr>\n      <th>DEM_BARELYTRUE_doc3</th>\n      <td>3.6</td>\n      <td>BARELYTRUE</td>\n    </tr>\n    <tr>\n      <th>DEM_BARELYTRUE_doc4</th>\n      <td>4.2</td>\n      <td>BARELYTRUE</td>\n    </tr>\n  </tbody>\n</table>\n</div>"
     },
     "metadata": {}
    }
   ]
  },
  {
   "cell_type": "markdown",
   "source": "### Plots",
   "metadata": {
    "cell_id": "50b10139-1395-4c94-81a2-a5a629560af8",
    "tags": [],
    "is_collapsed": false,
    "deepnote_cell_type": "text-cell-h3"
   }
  },
  {
   "cell_type": "code",
   "metadata": {
    "tags": [],
    "cell_id": "00005-6f143be9-1242-4fe0-9f83-41b102f57f12",
    "deepnote_to_be_reexecuted": false,
    "source_hash": "2759e23a",
    "execution_start": 1643540483992,
    "execution_millis": 626,
    "deepnote_output_heights": [
     60,
     281
    ],
    "deepnote_cell_type": "code"
   },
   "source": "fig3, ax5 = plt.subplots()\n\ncolor = 'tab:blue'\nax5.set_xlabel('Score')\n#ax5.set_xticks(ticks = np.arange(1.45,6, 0.83), labels = [\"Lie\", \"False\", \"Barely True\", \" Half True\", \"Mostly True\", \"True\"])\nax5.set_ylabel('Frequency')\nax5.hist(s6_doc_mean['S6_rel'], bins = 100, color = color, range = (1,6)) # rwidth = 0.9\n\nax6 = ax5.twinx()\n\ncolor = 'tab:red'\nax6.set_ylabel('Cumulative Frequency')\nplt.title('Mean Judgment Distributions: S6',size=14)\nax6.hist(s6_doc_mean['S6_rel'], cumulative = True, histtype = 'step', color = color, bins = [1, 2, 3, 4, 5, 6, 6.1])",
   "execution_count": null,
   "outputs": [
    {
     "output_type": "execute_result",
     "execution_count": 7,
     "data": {
      "text/plain": "(array([  3.,  21.,  54.,  90., 119., 120.]),\n array([1. , 2. , 3. , 4. , 5. , 6. , 6.1]),\n [<matplotlib.patches.Polygon at 0x7f0056d65790>])"
     },
     "metadata": {}
    },
    {
     "data": {
      "text/plain": "<Figure size 432x288 with 2 Axes>",
      "image/png": "[encoded data removed]"
     },
     "metadata": {
      "needs_background": "light",
      "image/png": {
       "width": 416,
       "height": 279
      }
     },
     "output_type": "display_data"
    }
   ]
  },
  {
   "cell_type": "code",
   "metadata": {
    "tags": [],
    "cell_id": "00006-f5c37686-3434-4143-a30e-10fa06dc8744",
    "deepnote_to_be_reexecuted": false,
    "source_hash": "e7c4f9d3",
    "execution_start": 1643540484521,
    "execution_millis": 643,
    "deepnote_output_heights": [
     21,
     281
    ],
    "deepnote_cell_type": "code"
   },
   "source": "plt.figure(figsize=(20, 15))\nfig4, ax7 = plt.subplots()\n\ncolor = 'tab:blue'\nax7.set_xlabel('Score')\n#ax7.set_xticks(ticks = np.arange(1.45,6, 0.83), labels = [\"Lie\", \"False\", \"Barely True\", \" Half True\", \"Mostly True\", \"True\"])\nax7.set_ylabel('Frequency')\nax7.hist(s100_doc_mean['S100_rel'], bins = 101, color = color); # \n\nax8 = ax7.twinx()\n\ncolor = 'tab:red'\nax8.set_ylabel('Cumulative Frequency')\nplt.title('Mean Judgment Distributions: S100',size=14)\nax8.hist(s100_doc_mean['S100_rel'], cumulative = True, histtype = 'step', color = color, bins = 101);\nplt.show()",
   "execution_count": null,
   "outputs": [
    {
     "data": {
      "text/plain": "<Figure size 1440x1080 with 0 Axes>"
     },
     "metadata": {},
     "output_type": "display_data"
    },
    {
     "data": {
      "text/plain": "<Figure size 432x288 with 2 Axes>",
      "image/png": "[encoded data removed]"
     },
     "metadata": {
      "needs_background": "light",
      "image/png": {
       "width": 426,
       "height": 279
      }
     },
     "output_type": "display_data"
    }
   ]
  },
  {
   "cell_type": "markdown",
   "source": "## Crowd Labels vs Ground Truth",
   "metadata": {
    "cell_id": "42bafab3-37bf-4bd8-990c-f8efcc1e21ce",
    "tags": [],
    "is_collapsed": false,
    "deepnote_cell_type": "text-cell-h2"
   }
  },
  {
   "cell_type": "code",
   "metadata": {
    "tags": [],
    "cell_id": "00008-5ab82e20-ee8a-413e-a29b-dba83e6eb7b2",
    "deepnote_to_be_reexecuted": false,
    "source_hash": "902d72cb",
    "execution_start": 1643540485164,
    "execution_millis": 350,
    "deepnote_output_heights": [
     21,
     281
    ],
    "deepnote_table_state": {
     "pageSize": 10,
     "pageIndex": 0,
     "filters": [],
     "sortBy": []
    },
    "deepnote_table_loading": false,
    "deepnote_cell_type": "code"
   },
   "source": "fig5, ax9 = plt.subplots()\n\ns6_box_cols= [s6_doc_mean['S6_rel'][s6_doc_mean['rel'] == \"LIE\"], s6_doc_mean['S6_rel'][s6_doc_mean['rel'] == \"FALSE\"],\\\n    s6_doc_mean['S6_rel'][s6_doc_mean['rel'] == \"BARELYTRUE\"], s6_doc_mean['S6_rel'][s6_doc_mean['rel'] == \"HALFTRUE\"],\\\n    s6_doc_mean['S6_rel'][s6_doc_mean['rel'] == \"MOSTLYTRUE\"], s6_doc_mean['S6_rel'][s6_doc_mean['rel'] == \"TRUE\"]]\n\n\nax9.boxplot(s6_box_cols, labels = [\"Lie\", \"False\", \"Barely True\", \" Half True\", \"Mostly True\", \"True\"]);\nplt.title('Crowd Labels vs Ground Truth: S6',size=14)\nax9.set_ylabel('S6')\nax9.set_xlabel('Ground Truth')\n#s6_doc_mean[s6_doc_mean[\"_LIE\" in s6_doc_mean['doc_id']]]\n#print()",
   "execution_count": null,
   "outputs": [
    {
     "output_type": "execute_result",
     "execution_count": 9,
     "data": {
      "text/plain": "Text(0.5, 0, 'Ground Truth')"
     },
     "metadata": {}
    },
    {
     "data": {
      "text/plain": "<Figure size 432x288 with 1 Axes>",
      "image/png": "[encoded data removed]"
     },
     "metadata": {
      "needs_background": "light",
      "image/png": {
       "width": 376,
       "height": 279
      }
     },
     "output_type": "display_data"
    }
   ]
  },
  {
   "cell_type": "code",
   "metadata": {
    "tags": [],
    "cell_id": "00010-895dce39-ff4e-45c3-b70b-8749e9d71883",
    "deepnote_to_be_reexecuted": false,
    "source_hash": "fb340d76",
    "execution_start": 1643540485577,
    "execution_millis": 242,
    "deepnote_output_heights": [
     21,
     281
    ],
    "deepnote_cell_type": "code"
   },
   "source": "fig6, ax10 = plt.subplots()\n\ns100_box_cols= [s100_doc_mean['S100_rel'][s100_doc_mean['rel'] == \"LIE\"], s100_doc_mean['S100_rel'][s100_doc_mean['rel'] == \"FALSE\"],\\\n    s100_doc_mean['S100_rel'][s100_doc_mean['rel'] == \"BARELYTRUE\"], s100_doc_mean['S100_rel'][s100_doc_mean['rel'] == \"HALFTRUE\"],\\\n    s100_doc_mean['S100_rel'][s100_doc_mean['rel'] == \"MOSTLYTRUE\"], s100_doc_mean['S100_rel'][s100_doc_mean['rel'] == \"TRUE\"]]\n\n\nax10.boxplot(s100_box_cols, labels = [\"Lie\", \"False\", \"Barely True\", \" Half True\", \"Mostly True\", \"True\"]);\nax10.set_ylabel('S100')\nax10.set_xlabel('Ground Truth')\nplt.title('Crowd Labels vs Ground Truth: S100',size=14)\n\n#s6_doc_mean[s6_doc_mean[\"_LIE\" in s6_doc_mean['doc_id']]]\n#print()",
   "execution_count": null,
   "outputs": [
    {
     "output_type": "execute_result",
     "execution_count": 10,
     "data": {
      "text/plain": "Text(0.5, 1.0, 'Crowd Labels vs Ground Truth: S100')"
     },
     "metadata": {}
    },
    {
     "data": {
      "text/plain": "<Figure size 432x288 with 1 Axes>",
      "image/png": "[encoded data removed]"
     },
     "metadata": {
      "needs_background": "light",
      "image/png": {
       "width": 382,
       "height": 279
      }
     },
     "output_type": "display_data"
    }
   ]
  },
  {
   "cell_type": "markdown",
   "source": "<a style='text-decoration:none;line-height:16px;display:flex;color:#5B5B62;padding:10px;justify-content:end;' href='https://deepnote.com?utm_source=created-in-deepnote-cell&projectId=7373d0f7-b35e-460a-b7ec-c43f8d39233d' target=\"_blank\">\n<img alt='Created in deepnote.com' style='display:inline;max-height:16px;margin:0px;margin-right:7.5px;' src='data:image/svg+xml;base64,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' > </img>\nCreated in <span style='font-weight:600;margin-left:4px;'>Deepnote</span></a>",
   "metadata": {
    "tags": [],
    "created_in_deepnote_cell": true,
    "deepnote_cell_type": "markdown"
   }
  }
 ],
 "nbformat": 4,
 "nbformat_minor": 2,
 "metadata": {
  "orig_nbformat": 2,
  "deepnote": {
   "is_reactive": false
  },
  "deepnote_notebook_id": "98678fd5-1e9a-4a95-b17f-d8fdeb7c4e61",
  "deepnote_execution_queue": []
 }
}